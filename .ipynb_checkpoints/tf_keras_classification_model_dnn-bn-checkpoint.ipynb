{
 "cells": [
  {
   "cell_type": "markdown",
   "metadata": {},
   "source": [
    "## 数据归一化\n",
    "清除一些用来展示的代码，清空之前的运行结果"
   ]
  },
  {
   "cell_type": "markdown",
   "metadata": {},
   "source": [
    "### 数据读取与展示"
   ]
  },
  {
   "cell_type": "code",
   "execution_count": 1,
   "metadata": {},
   "outputs": [
    {
     "name": "stdout",
     "output_type": "stream",
     "text": [
      "2.0.0-beta1\n",
      "sys.version_info(major=3, minor=7, micro=0, releaselevel='final', serial=0)\n",
      "matplotlib 2.2.3\n",
      "numpy 1.16.4\n",
      "pandas 0.23.4\n",
      "sklearn 0.19.2\n",
      "tensorflow 2.0.0-beta1\n",
      "tensorflow.python.keras.api._v2.keras 2.2.4-tf\n"
     ]
    }
   ],
   "source": [
    "# 使用tf.keras搭建分类模型，数据集使用fashion_mnist\n",
    "#导入必要的库即版本\n",
    "\n",
    "import matplotlib as mpl\n",
    "import matplotlib.pyplot as plt\n",
    "%matplotlib inline\n",
    "import numpy as np\n",
    "import sklearn\n",
    "import pandas as pd\n",
    "import os\n",
    "import sys\n",
    "import time\n",
    "import tensorflow as tf\n",
    "\n",
    "from tensorflow import keras\n",
    "#import keras\n",
    "\n",
    "print(tf.__version__)\n",
    "print(sys.version_info)\n",
    "for module in mpl, np, pd,sklearn,tf,keras:\n",
    "    print(module.__name__, module.__version__)"
   ]
  },
  {
   "cell_type": "code",
   "execution_count": 2,
   "metadata": {},
   "outputs": [
    {
     "name": "stdout",
     "output_type": "stream",
     "text": [
      "(55000, 28, 28) (5000,)\n",
      "(5000, 28, 28) (5000,)\n",
      "(10000, 28, 28) (10000,)\n"
     ]
    }
   ],
   "source": [
    "#导入数据集并拆分数据集\n",
    "fashion_mnist = keras.datasets.fashion_mnist\n",
    "(x_train_all, y_train_all), (x_test, y_test) = fashion_mnist.load_data()\n",
    "x_valid, x_train = x_train_all[:5000], x_train_all[5000:]\n",
    "y_valid, y_train = y_train_all[:5000], y_train_all[5000:]\n",
    "\n",
    "print(x_train.shape, y_valid.shape)\n",
    "print(x_valid.shape, y_valid.shape)\n",
    "print(x_test.shape, y_test.shape)"
   ]
  },
  {
   "cell_type": "markdown",
   "metadata": {},
   "source": [
    "### 增加代码归一化"
   ]
  },
  {
   "cell_type": "code",
   "execution_count": 3,
   "metadata": {},
   "outputs": [],
   "source": [
    "# 归一化方法：x = (x - u) / std 均值，方差\n",
    "\n",
    "from sklearn.preprocessing import StandardScaler\n",
    "\n",
    "scaler = StandardScaler()\n",
    "# x_train:[None, 28, 28] -> [None, 784]\n",
    "# 除了transform功能还有fit的功能（记住训练集的均值方差），验证集和测试集需要使用训练集的均值和方差\n",
    "x_train_scaled = scaler.fit_transform(\n",
    "    x_train.astype(np.float32).reshape(-1,1)).reshape(-1,28,28)\n",
    "\n",
    "x_valid_scaled = scaler.transform(x_valid.astype(np.float32).reshape(-1,1)).reshape(-1,28,28)\n",
    "\n",
    "x_test_scaled = scaler.transform(x_test.astype(np.float32).reshape(-1,1)).reshape(-1,28,28)"
   ]
  },
  {
   "cell_type": "markdown",
   "metadata": {},
   "source": [
    "### 模型构建\n",
    "不同版本API，代码不尽相同\n",
    "\n",
    "\n",
    "20层的深度神经网络\n"
   ]
  },
  {
   "cell_type": "code",
   "execution_count": 5,
   "metadata": {},
   "outputs": [],
   "source": [
    "# 使用tf.keras.model.Sequential()构建模型\n",
    "\n",
    "# 创建Sequential对象\n",
    "model = keras.models.Sequential()\n",
    "# 添加输入层,将输入图片展平，将28X28的矩阵展开为一维向量\n",
    "model.add(keras.layers.Flatten(input_shape=[28, 28]))\n",
    "for _ in range(20):\n",
    "    model.add(keras.layers.Dense(100,activation='relu'))\n",
    "    \n",
    "model.add(keras.layers.Dense(10, activation=\"softmax\"))\n",
    "\n",
    "model.compile(loss='sparse_categorical_crossentropy',\n",
    "             optimizer='sgd', metrics=['accuracy'])"
   ]
  },
  {
   "cell_type": "markdown",
   "metadata": {},
   "source": [
    "### 增加回调函数"
   ]
  },
  {
   "cell_type": "code",
   "execution_count": 6,
   "metadata": {},
   "outputs": [
    {
     "name": "stderr",
     "output_type": "stream",
     "text": [
      "WARNING: Logging before flag parsing goes to stderr.\n",
      "W0805 17:49:24.857693 10944 deprecation.py:323] From D:\\SoftWare\\Anaconda3\\lib\\site-packages\\tensorflow\\python\\ops\\math_grad.py:1250: add_dispatch_support.<locals>.wrapper (from tensorflow.python.ops.array_ops) is deprecated and will be removed in a future version.\n",
      "Instructions for updating:\n",
      "Use tf.where in 2.0, which has the same broadcast rule as np.where\n"
     ]
    },
    {
     "name": "stdout",
     "output_type": "stream",
     "text": [
      "Train on 55000 samples, validate on 5000 samples\n",
      "Epoch 1/10\n",
      "55000/55000 [==============================] - 5s 88us/sample - loss: 1.9436 - accuracy: 0.2743 - val_loss: 1.1039 - val_accuracy: 0.5022\n",
      "Epoch 2/10\n",
      "55000/55000 [==============================] - 4s 81us/sample - loss: 0.8184 - accuracy: 0.6639 - val_loss: 0.6129 - val_accuracy: 0.7730\n",
      "Epoch 3/10\n",
      "55000/55000 [==============================] - 4s 79us/sample - loss: 0.5654 - accuracy: 0.7949 - val_loss: 0.5021 - val_accuracy: 0.8290\n",
      "Epoch 4/10\n",
      "55000/55000 [==============================] - 4s 80us/sample - loss: 0.4709 - accuracy: 0.8375 - val_loss: 0.4336 - val_accuracy: 0.8572\n",
      "Epoch 5/10\n",
      "55000/55000 [==============================] - 5s 82us/sample - loss: 0.4236 - accuracy: 0.8549 - val_loss: 0.4244 - val_accuracy: 0.8490\n",
      "Epoch 6/10\n",
      "55000/55000 [==============================] - 4s 81us/sample - loss: 0.3932 - accuracy: 0.8646 - val_loss: 0.3847 - val_accuracy: 0.8704\n",
      "Epoch 7/10\n",
      "55000/55000 [==============================] - 4s 81us/sample - loss: 0.3690 - accuracy: 0.8727 - val_loss: 0.4133 - val_accuracy: 0.8632\n",
      "Epoch 8/10\n",
      "55000/55000 [==============================] - 4s 81us/sample - loss: 0.3506 - accuracy: 0.8787 - val_loss: 0.3615 - val_accuracy: 0.8736\n",
      "Epoch 9/10\n",
      "55000/55000 [==============================] - 4s 81us/sample - loss: 0.3458 - accuracy: 0.8808 - val_loss: 0.3684 - val_accuracy: 0.8786\n",
      "Epoch 10/10\n",
      "55000/55000 [==============================] - 4s 81us/sample - loss: 0.3294 - accuracy: 0.8865 - val_loss: 0.3840 - val_accuracy: 0.8642\n"
     ]
    }
   ],
   "source": [
    "# 开启训练fit函数\n",
    "# epochs训练次数，history返回为中间运算的一些结果\n",
    "# 回调函数fit函数中添加数组\n",
    "# Tensorboard,earlystopping,ModelCheckpoint\n",
    "#Tensorboard需要一个文件夹,ModelCheckpoint需要一个文件名\n",
    "#在当前文件夹下定义一个名为callbacks的文件夹，如果不存在，便创建它\n",
    "logdir = './callbacks'\n",
    "if not os.path.exists(logdir):\n",
    "    os.mkdir(logdir)\n",
    "# 定义输出model的文件,也是在callbacks文件夹下\n",
    "output_model_file = os.path.join(logdir,\n",
    "                                'fashion_mnist_model.h5')\n",
    "callbacks = [\n",
    "    #keras.callbacks.TensorBoard(logdir),\n",
    "    # 保存最好的模型，否则默认保存最近的模型\n",
    "    keras.callbacks.ModelCheckpoint(output_model_file,\n",
    "                                   save_best_onlly=True),\n",
    "    keras.callbacks.EarlyStopping(patience=5, min_delta=1e-3)]\n",
    "\n",
    "history = model.fit(x_train_scaled, y_train, epochs=10,\n",
    "         validation_data=(x_valid_scaled,y_valid),\n",
    "                   callbacks=callbacks)"
   ]
  },
  {
   "cell_type": "markdown",
   "metadata": {},
   "source": [
    "查看tensorboard，在命令行中输入tensorboard --logdir=callbacks,构建一个个人服务器，通过6006端口进行访问，在浏览器中输入localhost:6006查看tensorfboard"
   ]
  },
  {
   "cell_type": "code",
   "execution_count": 12,
   "metadata": {},
   "outputs": [
    {
     "data": {
      "image/png": "[encoded data removed]",
      "text/plain": [
       "<Figure size 576x360 with 1 Axes>"
      ]
     },
     "metadata": {
      "needs_background": "light"
     },
     "output_type": "display_data"
    }
   ],
   "source": [
    "# 将history中的值可视化出来\n",
    "def plot_learning_curves(history):\n",
    "    #直接转换为DataFrame\n",
    "    pd.DataFrame(history.history).plot(figsize=(8, 5))\n",
    "    # 显示网格\n",
    "    plt.grid(True)\n",
    "    # 设置坐标轴范围\n",
    "    plt.gca().set_ylim(0, 2)\n",
    "    plt.show()\n",
    "    \n",
    "plot_learning_curves(history)"
   ]
  },
  {
   "cell_type": "code",
   "execution_count": null,
   "metadata": {},
   "outputs": [],
   "source": []
  },
  {
   "cell_type": "code",
   "execution_count": 13,
   "metadata": {},
   "outputs": [
    {
     "name": "stdout",
     "output_type": "stream",
     "text": [
      "10000/10000 [==============================] - 0s 41us/sample - loss: 0.4216 - accuracy: 0.8561\n"
     ]
    },
    {
     "data": {
      "text/plain": [
       "[0.4216494997739792, 0.8561]"
      ]
     },
     "execution_count": 13,
     "metadata": {},
     "output_type": "execute_result"
    }
   ],
   "source": [
    "model.evaluate(x_test_scaled, y_test)"
   ]
  },
  {
   "cell_type": "code",
   "execution_count": 10,
   "metadata": {},
   "outputs": [
    {
     "name": "stdout",
     "output_type": "stream",
     "text": [
      "Model: \"sequential_1\"\n",
      "_________________________________________________________________\n",
      "Layer (type)                 Output Shape              Param #   \n",
      "=================================================================\n",
      "flatten_1 (Flatten)          (None, 784)               0         \n",
      "_________________________________________________________________\n",
      "dense_20 (Dense)             (None, 100)               78500     \n",
      "_________________________________________________________________\n",
      "dense_21 (Dense)             (None, 100)               10100     \n",
      "_________________________________________________________________\n",
      "dense_22 (Dense)             (None, 100)               10100     \n",
      "_________________________________________________________________\n",
      "dense_23 (Dense)             (None, 100)               10100     \n",
      "_________________________________________________________________\n",
      "dense_24 (Dense)             (None, 100)               10100     \n",
      "_________________________________________________________________\n",
      "dense_25 (Dense)             (None, 100)               10100     \n",
      "_________________________________________________________________\n",
      "dense_26 (Dense)             (None, 100)               10100     \n",
      "_________________________________________________________________\n",
      "dense_27 (Dense)             (None, 100)               10100     \n",
      "_________________________________________________________________\n",
      "dense_28 (Dense)             (None, 100)               10100     \n",
      "_________________________________________________________________\n",
      "dense_29 (Dense)             (None, 100)               10100     \n",
      "_________________________________________________________________\n",
      "dense_30 (Dense)             (None, 100)               10100     \n",
      "_________________________________________________________________\n",
      "dense_31 (Dense)             (None, 100)               10100     \n",
      "_________________________________________________________________\n",
      "dense_32 (Dense)             (None, 100)               10100     \n",
      "_________________________________________________________________\n",
      "dense_33 (Dense)             (None, 100)               10100     \n",
      "_________________________________________________________________\n",
      "dense_34 (Dense)             (None, 100)               10100     \n",
      "_________________________________________________________________\n",
      "dense_35 (Dense)             (None, 100)               10100     \n",
      "_________________________________________________________________\n",
      "dense_36 (Dense)             (None, 100)               10100     \n",
      "_________________________________________________________________\n",
      "dense_37 (Dense)             (None, 100)               10100     \n",
      "_________________________________________________________________\n",
      "dense_38 (Dense)             (None, 100)               10100     \n",
      "_________________________________________________________________\n",
      "dense_39 (Dense)             (None, 100)               10100     \n",
      "_________________________________________________________________\n",
      "dense_40 (Dense)             (None, 10)                1010      \n",
      "=================================================================\n",
      "Total params: 271,410\n",
      "Trainable params: 271,410\n",
      "Non-trainable params: 0\n",
      "_________________________________________________________________\n"
     ]
    }
   ],
   "source": [
    "model.summary()"
   ]
  },
  {
   "cell_type": "code",
   "execution_count": null,
   "metadata": {},
   "outputs": [],
   "source": []
  }
 ],
 "metadata": {
  "kernelspec": {
   "display_name": "Python 3",
   "language": "python",
   "name": "python3"
  },
  "language_info": {
   "codemirror_mode": {
    "name": "ipython",
    "version": 3
   },
   "file_extension": ".py",
   "mimetype": "text/x-python",
   "name": "python",
   "nbconvert_exporter": "python",
   "pygments_lexer": "ipython3",
   "version": "3.7.0"
  }
 },
 "nbformat": 4,
 "nbformat_minor": 2
}
