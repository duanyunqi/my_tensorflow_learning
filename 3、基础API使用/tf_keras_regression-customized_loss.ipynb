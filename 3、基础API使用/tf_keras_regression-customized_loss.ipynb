{
 "cells": [
  {
   "cell_type": "markdown",
   "metadata": {},
   "source": [
    "自定义损失函数"
   ]
  },
  {
   "cell_type": "code",
   "execution_count": 1,
   "metadata": {},
   "outputs": [
    {
     "name": "stdout",
     "output_type": "stream",
     "text": [
      "2.0.0-beta1\n",
      "sys.version_info(major=3, minor=7, micro=0, releaselevel='final', serial=0)\n",
      "matplotlib 2.2.3\n",
      "numpy 1.16.4\n",
      "pandas 0.23.4\n",
      "sklearn 0.19.2\n",
      "tensorflow 2.0.0-beta1\n",
      "tensorflow.python.keras.api._v2.keras 2.2.4-tf\n"
     ]
    }
   ],
   "source": [
    "# 使用tf.keras搭建回归模型，数据集使用加利福尼亚的房价预测\n",
    "#导入必要的库即版本\n",
    "\n",
    "import matplotlib as mpl\n",
    "import matplotlib.pyplot as plt\n",
    "%matplotlib inline\n",
    "import numpy as np\n",
    "import sklearn\n",
    "import pandas as pd\n",
    "import os\n",
    "import sys\n",
    "import time\n",
    "import tensorflow as tf\n",
    "\n",
    "from tensorflow import keras\n",
    "#import keras\n",
    "\n",
    "print(tf.__version__)\n",
    "print(sys.version_info)\n",
    "for module in mpl, np, pd,sklearn,tf,keras:\n",
    "    print(module.__name__, module.__version__)"
   ]
  },
  {
   "cell_type": "code",
   "execution_count": 2,
   "metadata": {},
   "outputs": [
    {
     "name": "stdout",
     "output_type": "stream",
     "text": [
      "California housing dataset.\n",
      "\n",
      "The original database is available from StatLib\n",
      "\n",
      "    http://lib.stat.cmu.edu/datasets/\n",
      "\n",
      "The data contains 20,640 observations on 9 variables.\n",
      "\n",
      "This dataset contains the average house value as target variable\n",
      "and the following input variables (features): average income,\n",
      "housing average age, average rooms, average bedrooms, population,\n",
      "average occupation, latitude, and longitude in that order.\n",
      "\n",
      "References\n",
      "----------\n",
      "\n",
      "Pace, R. Kelley and Ronald Barry, Sparse Spatial Autoregressions,\n",
      "Statistics and Probability Letters, 33 (1997) 291-297.\n",
      "\n",
      "\n",
      "(20640, 8)\n",
      "(20640,)\n"
     ]
    }
   ],
   "source": [
    "# 导入数据\n",
    "from sklearn.datasets import fetch_california_housing\n",
    "\n",
    "housing = fetch_california_housing()\n",
    "\n",
    "print(housing.DESCR)\n",
    "print(housing.data.shape)\n",
    "print(housing.target.shape)"
   ]
  },
  {
   "cell_type": "code",
   "execution_count": 3,
   "metadata": {},
   "outputs": [
    {
     "name": "stdout",
     "output_type": "stream",
     "text": [
      "array([[ 8.32520000e+00,  4.10000000e+01,  6.98412698e+00,\n",
      "         1.02380952e+00,  3.22000000e+02,  2.55555556e+00,\n",
      "         3.78800000e+01, -1.22230000e+02],\n",
      "       [ 8.30140000e+00,  2.10000000e+01,  6.23813708e+00,\n",
      "         9.71880492e-01,  2.40100000e+03,  2.10984183e+00,\n",
      "         3.78600000e+01, -1.22220000e+02],\n",
      "       [ 7.25740000e+00,  5.20000000e+01,  8.28813559e+00,\n",
      "         1.07344633e+00,  4.96000000e+02,  2.80225989e+00,\n",
      "         3.78500000e+01, -1.22240000e+02],\n",
      "       [ 5.64310000e+00,  5.20000000e+01,  5.81735160e+00,\n",
      "         1.07305936e+00,  5.58000000e+02,  2.54794521e+00,\n",
      "         3.78500000e+01, -1.22250000e+02],\n",
      "       [ 3.84620000e+00,  5.20000000e+01,  6.28185328e+00,\n",
      "         1.08108108e+00,  5.65000000e+02,  2.18146718e+00,\n",
      "         3.78500000e+01, -1.22250000e+02]])\n",
      "array([4.526, 3.585, 3.521, 3.413, 3.422])\n"
     ]
    }
   ],
   "source": [
    "# 打印数据\n",
    "import pprint\n",
    "\n",
    "pprint.pprint(housing.data[:5])\n",
    "pprint.pprint(housing.target[:5])"
   ]
  },
  {
   "cell_type": "code",
   "execution_count": 4,
   "metadata": {},
   "outputs": [
    {
     "name": "stdout",
     "output_type": "stream",
     "text": [
      "(11610, 8) (11610,)\n",
      "(3870, 8) (3870,)\n",
      "(5160, 8) (5160,)\n"
     ]
    }
   ],
   "source": [
    "# 拆分训练集、测试集、验证集\n",
    "from sklearn.model_selection import train_test_split\n",
    "\n",
    "# 默认按3：1的比例拆分\n",
    "x_train_all, x_test, y_train_all, y_test = train_test_split(housing.data, housing.target, random_state=7)\n",
    "x_train, x_valid, y_train, y_valid = train_test_split(x_train_all, y_train_all, random_state=11)\n",
    "\n",
    "print(x_train.shape, y_train.shape)\n",
    "print(x_valid.shape, y_valid.shape)\n",
    "print(x_test.shape, y_test.shape)"
   ]
  },
  {
   "cell_type": "markdown",
   "metadata": {},
   "source": [
    "### 数据归一化"
   ]
  },
  {
   "cell_type": "code",
   "execution_count": 5,
   "metadata": {},
   "outputs": [],
   "source": [
    "from sklearn.preprocessing import StandardScaler\n",
    "\n",
    "scaler = StandardScaler()\n",
    "# 训练机上获得均值和方差，测试集和验证集上用相同的均值和方差\n",
    "x_train_scaled = scaler.fit_transform(x_train)\n",
    "x_valid_scaled = scaler.transform(x_valid)\n",
    "x_test_scaled = scaler.transform(x_test)"
   ]
  },
  {
   "cell_type": "markdown",
   "metadata": {},
   "source": [
    "### 构建模型"
   ]
  },
  {
   "cell_type": "code",
   "execution_count": 6,
   "metadata": {},
   "outputs": [
    {
     "name": "stdout",
     "output_type": "stream",
     "text": [
      "Model: \"sequential\"\n",
      "_________________________________________________________________\n",
      "Layer (type)                 Output Shape              Param #   \n",
      "=================================================================\n",
      "dense (Dense)                (None, 30)                270       \n",
      "_________________________________________________________________\n",
      "dense_1 (Dense)              (None, 1)                 31        \n",
      "=================================================================\n",
      "Total params: 301\n",
      "Trainable params: 301\n",
      "Non-trainable params: 0\n",
      "_________________________________________________________________\n"
     ]
    }
   ],
   "source": [
    "# 自定义实现损失函数,均方差\n",
    "def customized_mse(y_true, y_pred):\n",
    "    return tf.reduce_mean(tf.square(y_pred - y_true))\n",
    "\n",
    "model = keras.models.Sequential([\n",
    "    keras.layers.Dense(30, activation='relu', input_shape=x_train.shape[1:]),\n",
    "    #最后一层一个神经元\n",
    "    keras.layers.Dense(1),\n",
    "])\n",
    "model.summary()\n",
    "# 编译，目标函数使用均方差，优化方法使用随机梯度下降，也可以自己定义\n",
    "# metrics参数其他指标\n",
    "model.compile(loss=customized_mse, optimizer='sgd', metrics=[\"mean_squared_error\"])\n",
    "# 使用earlystopping\n",
    "callbacks = [keras.callbacks.EarlyStopping(patience=5, min_delta=1e-3)]"
   ]
  },
  {
   "cell_type": "code",
   "execution_count": null,
   "metadata": {},
   "outputs": [],
   "source": []
  },
  {
   "cell_type": "code",
   "execution_count": 7,
   "metadata": {},
   "outputs": [
    {
     "name": "stdout",
     "output_type": "stream",
     "text": [
      "Train on 11610 samples, validate on 3870 samples\n",
      "Epoch 1/100\n",
      "11610/11610 [==============================] - 0s 41us/sample - loss: 2.3471 - mean_squared_error: 2.3471 - val_loss: 0.7451 - val_mean_squared_error: 0.7451\n",
      "Epoch 2/100\n",
      "11610/11610 [==============================] - 0s 24us/sample - loss: 0.5205 - mean_squared_error: 0.5205 - val_loss: 0.4873 - val_mean_squared_error: 0.4873\n",
      "Epoch 3/100\n",
      "11610/11610 [==============================] - 0s 22us/sample - loss: 0.4395 - mean_squared_error: 0.4395 - val_loss: 0.4406 - val_mean_squared_error: 0.4406\n",
      "Epoch 4/100\n",
      "11610/11610 [==============================] - 0s 24us/sample - loss: 0.4137 - mean_squared_error: 0.4137 - val_loss: 0.4216 - val_mean_squared_error: 0.4216\n",
      "Epoch 5/100\n",
      "11610/11610 [==============================] - 0s 23us/sample - loss: 0.4023 - mean_squared_error: 0.4023 - val_loss: 0.4597 - val_mean_squared_error: 0.4597\n",
      "Epoch 6/100\n",
      "11610/11610 [==============================] - 0s 23us/sample - loss: 0.3928 - mean_squared_error: 0.3928 - val_loss: 0.4046 - val_mean_squared_error: 0.4046\n",
      "Epoch 7/100\n",
      "11610/11610 [==============================] - 0s 24us/sample - loss: 0.3827 - mean_squared_error: 0.3827 - val_loss: 0.4109 - val_mean_squared_error: 0.4109\n",
      "Epoch 8/100\n",
      "11610/11610 [==============================] - 0s 23us/sample - loss: 0.3830 - mean_squared_error: 0.3830 - val_loss: 0.3956 - val_mean_squared_error: 0.3956\n",
      "Epoch 9/100\n",
      "11610/11610 [==============================] - 0s 23us/sample - loss: 0.3769 - mean_squared_error: 0.3769 - val_loss: 0.3877 - val_mean_squared_error: 0.3877\n",
      "Epoch 10/100\n",
      "11610/11610 [==============================] - 0s 26us/sample - loss: 0.3748 - mean_squared_error: 0.3748 - val_loss: 0.4355 - val_mean_squared_error: 0.4355\n",
      "Epoch 11/100\n",
      "11610/11610 [==============================] - 0s 24us/sample - loss: 0.3750 - mean_squared_error: 0.3750 - val_loss: 0.3850 - val_mean_squared_error: 0.3850\n",
      "Epoch 12/100\n",
      "11610/11610 [==============================] - 0s 23us/sample - loss: 0.3742 - mean_squared_error: 0.3742 - val_loss: 0.3824 - val_mean_squared_error: 0.3824\n",
      "Epoch 13/100\n",
      "11610/11610 [==============================] - 0s 25us/sample - loss: 0.3702 - mean_squared_error: 0.3702 - val_loss: 0.3770 - val_mean_squared_error: 0.3770\n",
      "Epoch 14/100\n",
      "11610/11610 [==============================] - 0s 23us/sample - loss: 0.3687 - mean_squared_error: 0.3687 - val_loss: 0.3765 - val_mean_squared_error: 0.3765\n",
      "Epoch 15/100\n",
      "11610/11610 [==============================] - 0s 24us/sample - loss: 0.3670 - mean_squared_error: 0.3670 - val_loss: 0.3869 - val_mean_squared_error: 0.3869\n",
      "Epoch 16/100\n",
      "11610/11610 [==============================] - 0s 28us/sample - loss: 0.3687 - mean_squared_error: 0.3687 - val_loss: 0.3865 - val_mean_squared_error: 0.3865\n",
      "Epoch 17/100\n",
      "11610/11610 [==============================] - 0s 27us/sample - loss: 0.3671 - mean_squared_error: 0.3671 - val_loss: 0.3786 - val_mean_squared_error: 0.3786\n",
      "Epoch 18/100\n",
      "11610/11610 [==============================] - 0s 26us/sample - loss: 0.3643 - mean_squared_error: 0.3643 - val_loss: 0.3745 - val_mean_squared_error: 0.3745\n",
      "Epoch 19/100\n",
      "11610/11610 [==============================] - 0s 26us/sample - loss: 0.3637 - mean_squared_error: 0.3637 - val_loss: 0.3767 - val_mean_squared_error: 0.3767\n",
      "Epoch 20/100\n",
      "11610/11610 [==============================] - 0s 26us/sample - loss: 0.3597 - mean_squared_error: 0.3597 - val_loss: 0.3758 - val_mean_squared_error: 0.3758\n",
      "Epoch 21/100\n",
      "11610/11610 [==============================] - 0s 25us/sample - loss: 0.3619 - mean_squared_error: 0.3619 - val_loss: 0.3730 - val_mean_squared_error: 0.3730\n",
      "Epoch 22/100\n",
      "11610/11610 [==============================] - 0s 24us/sample - loss: 0.3610 - mean_squared_error: 0.3610 - val_loss: 0.3705 - val_mean_squared_error: 0.3705\n",
      "Epoch 23/100\n",
      "11610/11610 [==============================] - 0s 22us/sample - loss: 0.3575 - mean_squared_error: 0.3575 - val_loss: 0.3713 - val_mean_squared_error: 0.3713\n",
      "Epoch 24/100\n",
      "11610/11610 [==============================] - 0s 26us/sample - loss: 0.3614 - mean_squared_error: 0.3614 - val_loss: 0.3682 - val_mean_squared_error: 0.3682\n",
      "Epoch 25/100\n",
      "11610/11610 [==============================] - 0s 29us/sample - loss: 0.3578 - mean_squared_error: 0.3578 - val_loss: 0.3744 - val_mean_squared_error: 0.3744\n",
      "Epoch 26/100\n",
      "11610/11610 [==============================] - 0s 25us/sample - loss: 0.3553 - mean_squared_error: 0.3553 - val_loss: 0.3718 - val_mean_squared_error: 0.3718\n",
      "Epoch 27/100\n",
      "11610/11610 [==============================] - 0s 24us/sample - loss: 0.3587 - mean_squared_error: 0.3587 - val_loss: 0.3894 - val_mean_squared_error: 0.3894\n",
      "Epoch 28/100\n",
      "11610/11610 [==============================] - 0s 24us/sample - loss: 0.3560 - mean_squared_error: 0.3560 - val_loss: 0.3703 - val_mean_squared_error: 0.3703\n",
      "Epoch 29/100\n",
      "11610/11610 [==============================] - 0s 24us/sample - loss: 0.3552 - mean_squared_error: 0.3552 - val_loss: 0.3692 - val_mean_squared_error: 0.3692\n"
     ]
    }
   ],
   "source": [
    "history = model.fit(x_train_scaled, y_train,\n",
    "                   validation_data = (x_valid_scaled, y_valid),\n",
    "                   epochs=100, callbacks=callbacks)"
   ]
  },
  {
   "cell_type": "code",
   "execution_count": 22,
   "metadata": {},
   "outputs": [
    {
     "data": {
      "image/png": "[encoded data removed]",
      "text/plain": [
       "<Figure size 576x360 with 1 Axes>"
      ]
     },
     "metadata": {
      "needs_background": "light"
     },
     "output_type": "display_data"
    }
   ],
   "source": [
    "def plot_learning_curves(history):\n",
    "    pd.DataFrame(history.history).plot(figsize=(8,5))\n",
    "    plt.grid(True)\n",
    "    plt.gca().set_ylim(0,1)\n",
    "    plt.show()\n",
    "    \n",
    "plot_learning_curves(history)"
   ]
  },
  {
   "cell_type": "code",
   "execution_count": null,
   "metadata": {},
   "outputs": [],
   "source": []
  }
 ],
 "metadata": {
  "kernelspec": {
   "display_name": "Python 3",
   "language": "python",
   "name": "python3"
  },
  "language_info": {
   "codemirror_mode": {
    "name": "ipython",
    "version": 3
   },
   "file_extension": ".py",
   "mimetype": "text/x-python",
   "name": "python",
   "nbconvert_exporter": "python",
   "pygments_lexer": "ipython3",
   "version": "3.7.0"
  }
 },
 "nbformat": 4,
 "nbformat_minor": 2
}
