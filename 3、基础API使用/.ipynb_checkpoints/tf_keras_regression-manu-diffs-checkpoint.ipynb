{
 "cells": [
  {
   "cell_type": "markdown",
   "metadata": {},
   "source": [
    "tf.GradientTape与tf.keras结合使用"
   ]
  },
  {
   "cell_type": "code",
   "execution_count": 2,
   "metadata": {},
   "outputs": [
    {
     "name": "stdout",
     "output_type": "stream",
     "text": [
      "2.0.0-beta1\n",
      "sys.version_info(major=3, minor=7, micro=0, releaselevel='final', serial=0)\n",
      "matplotlib 2.2.3\n",
      "numpy 1.16.4\n",
      "pandas 0.23.4\n",
      "sklearn 0.19.2\n",
      "tensorflow 2.0.0-beta1\n",
      "tensorflow.python.keras.api._v2.keras 2.2.4-tf\n"
     ]
    }
   ],
   "source": [
    "# 使用tf.keras搭建回归模型，数据集使用加利福尼亚的房价预测\n",
    "#导入必要的库即版本\n",
    "\n",
    "import matplotlib as mpl\n",
    "import matplotlib.pyplot as plt\n",
    "%matplotlib inline\n",
    "import numpy as np\n",
    "import sklearn\n",
    "import pandas as pd\n",
    "import os\n",
    "import sys\n",
    "import time\n",
    "import tensorflow as tf\n",
    "\n",
    "from tensorflow import keras\n",
    "#import keras\n",
    "\n",
    "print(tf.__version__)\n",
    "print(sys.version_info)\n",
    "for module in mpl, np, pd,sklearn,tf,keras:\n",
    "    print(module.__name__, module.__version__)"
   ]
  },
  {
   "cell_type": "code",
   "execution_count": 3,
   "metadata": {},
   "outputs": [
    {
     "name": "stdout",
     "output_type": "stream",
     "text": [
      "California housing dataset.\n",
      "\n",
      "The original database is available from StatLib\n",
      "\n",
      "    http://lib.stat.cmu.edu/datasets/\n",
      "\n",
      "The data contains 20,640 observations on 9 variables.\n",
      "\n",
      "This dataset contains the average house value as target variable\n",
      "and the following input variables (features): average income,\n",
      "housing average age, average rooms, average bedrooms, population,\n",
      "average occupation, latitude, and longitude in that order.\n",
      "\n",
      "References\n",
      "----------\n",
      "\n",
      "Pace, R. Kelley and Ronald Barry, Sparse Spatial Autoregressions,\n",
      "Statistics and Probability Letters, 33 (1997) 291-297.\n",
      "\n",
      "\n",
      "(20640, 8)\n",
      "(20640,)\n"
     ]
    }
   ],
   "source": [
    "# 导入数据\n",
    "from sklearn.datasets import fetch_california_housing\n",
    "\n",
    "housing = fetch_california_housing()\n",
    "\n",
    "print(housing.DESCR)\n",
    "print(housing.data.shape)\n",
    "print(housing.target.shape)"
   ]
  },
  {
   "cell_type": "code",
   "execution_count": 4,
   "metadata": {},
   "outputs": [
    {
     "name": "stdout",
     "output_type": "stream",
     "text": [
      "array([[ 8.32520000e+00,  4.10000000e+01,  6.98412698e+00,\n",
      "         1.02380952e+00,  3.22000000e+02,  2.55555556e+00,\n",
      "         3.78800000e+01, -1.22230000e+02],\n",
      "       [ 8.30140000e+00,  2.10000000e+01,  6.23813708e+00,\n",
      "         9.71880492e-01,  2.40100000e+03,  2.10984183e+00,\n",
      "         3.78600000e+01, -1.22220000e+02],\n",
      "       [ 7.25740000e+00,  5.20000000e+01,  8.28813559e+00,\n",
      "         1.07344633e+00,  4.96000000e+02,  2.80225989e+00,\n",
      "         3.78500000e+01, -1.22240000e+02],\n",
      "       [ 5.64310000e+00,  5.20000000e+01,  5.81735160e+00,\n",
      "         1.07305936e+00,  5.58000000e+02,  2.54794521e+00,\n",
      "         3.78500000e+01, -1.22250000e+02],\n",
      "       [ 3.84620000e+00,  5.20000000e+01,  6.28185328e+00,\n",
      "         1.08108108e+00,  5.65000000e+02,  2.18146718e+00,\n",
      "         3.78500000e+01, -1.22250000e+02]])\n",
      "array([4.526, 3.585, 3.521, 3.413, 3.422])\n"
     ]
    }
   ],
   "source": [
    "# 打印数据\n",
    "import pprint\n",
    "\n",
    "pprint.pprint(housing.data[:5])\n",
    "pprint.pprint(housing.target[:5])"
   ]
  },
  {
   "cell_type": "code",
   "execution_count": 5,
   "metadata": {},
   "outputs": [
    {
     "name": "stdout",
     "output_type": "stream",
     "text": [
      "(11610, 8) (11610,)\n",
      "(3870, 8) (3870,)\n",
      "(5160, 8) (5160,)\n"
     ]
    }
   ],
   "source": [
    "# 拆分训练集、测试集、验证集\n",
    "from sklearn.model_selection import train_test_split\n",
    "\n",
    "# 默认按3：1的比例拆分\n",
    "x_train_all, x_test, y_train_all, y_test = train_test_split(housing.data, housing.target, random_state=7)\n",
    "x_train, x_valid, y_train, y_valid = train_test_split(x_train_all, y_train_all, random_state=11)\n",
    "\n",
    "print(x_train.shape, y_train.shape)\n",
    "print(x_valid.shape, y_valid.shape)\n",
    "print(x_test.shape, y_test.shape)"
   ]
  },
  {
   "cell_type": "markdown",
   "metadata": {},
   "source": [
    "### 数据归一化"
   ]
  },
  {
   "cell_type": "code",
   "execution_count": 6,
   "metadata": {},
   "outputs": [],
   "source": [
    "from sklearn.preprocessing import StandardScaler\n",
    "\n",
    "scaler = StandardScaler()\n",
    "# 训练机上获得均值和方差，测试集和验证集上用相同的均值和方差\n",
    "x_train_scaled = scaler.fit_transform(x_train)\n",
    "x_valid_scaled = scaler.transform(x_valid)\n",
    "x_test_scaled = scaler.transform(x_test)"
   ]
  },
  {
   "cell_type": "markdown",
   "metadata": {},
   "source": [
    "### 构建模型"
   ]
  },
  {
   "cell_type": "code",
   "execution_count": 7,
   "metadata": {},
   "outputs": [
    {
     "name": "stdout",
     "output_type": "stream",
     "text": [
      "Model: \"sequential\"\n",
      "_________________________________________________________________\n",
      "Layer (type)                 Output Shape              Param #   \n",
      "=================================================================\n",
      "dense (Dense)                (None, 30)                270       \n",
      "_________________________________________________________________\n",
      "dense_1 (Dense)              (None, 1)                 31        \n",
      "=================================================================\n",
      "Total params: 301\n",
      "Trainable params: 301\n",
      "Non-trainable params: 0\n",
      "_________________________________________________________________\n"
     ]
    }
   ],
   "source": [
    "#  \n",
    "\n",
    "model = keras.models.Sequential([\n",
    "    keras.layers.Dense(30, activation='relu', input_shape=x_train.shape[1:]),\n",
    "    #最后一层一个神经元\n",
    "    keras.layers.Dense(1),\n",
    "])\n",
    "model.summary()\n",
    "# 编译，目标函数使用均方差，优化方法使用随机梯度下降，也可以自己定义\n",
    "model.compile(loss='mean_squared_error', optimizer='sgd')\n",
    "# 使用earlystopping\n",
    "callbacks = [keras.callbacks.EarlyStopping(patience=5, min_delta=1e-3)]"
   ]
  },
  {
   "cell_type": "code",
   "execution_count": null,
   "metadata": {},
   "outputs": [],
   "source": []
  },
  {
   "cell_type": "code",
   "execution_count": 8,
   "metadata": {},
   "outputs": [
    {
     "name": "stdout",
     "output_type": "stream",
     "text": [
      "Train on 11610 samples, validate on 3870 samples\n",
      "Epoch 1/100\n",
      "11610/11610 [==============================] - 0s 34us/sample - loss: 1.0045 - val_loss: 0.7424\n",
      "Epoch 2/100\n",
      "11610/11610 [==============================] - 0s 25us/sample - loss: 0.6434 - val_loss: 0.4891\n",
      "Epoch 3/100\n",
      "11610/11610 [==============================] - 0s 25us/sample - loss: 0.4472 - val_loss: 0.4580\n",
      "Epoch 4/100\n",
      "11610/11610 [==============================] - 0s 26us/sample - loss: 0.4248 - val_loss: 0.4377\n",
      "Epoch 5/100\n",
      "11610/11610 [==============================] - 0s 26us/sample - loss: 0.4113 - val_loss: 0.4372\n",
      "Epoch 6/100\n",
      "11610/11610 [==============================] - 0s 26us/sample - loss: 0.4003 - val_loss: 0.4136\n",
      "Epoch 7/100\n",
      "11610/11610 [==============================] - 0s 24us/sample - loss: 0.3932 - val_loss: 0.4101\n",
      "Epoch 8/100\n",
      "11610/11610 [==============================] - 0s 24us/sample - loss: 0.3878 - val_loss: 0.4076\n",
      "Epoch 9/100\n",
      "11610/11610 [==============================] - 0s 25us/sample - loss: 0.3839 - val_loss: 0.4040\n",
      "Epoch 10/100\n",
      "11610/11610 [==============================] - 0s 25us/sample - loss: 0.3814 - val_loss: 0.3966\n",
      "Epoch 11/100\n",
      "11610/11610 [==============================] - 0s 25us/sample - loss: 0.3783 - val_loss: 0.3920\n",
      "Epoch 12/100\n",
      "11610/11610 [==============================] - 0s 25us/sample - loss: 0.3756 - val_loss: 0.3954\n",
      "Epoch 13/100\n",
      "11610/11610 [==============================] - 0s 25us/sample - loss: 0.3735 - val_loss: 0.3920\n",
      "Epoch 14/100\n",
      "11610/11610 [==============================] - 0s 24us/sample - loss: 0.3714 - val_loss: 0.3907\n",
      "Epoch 15/100\n",
      "11610/11610 [==============================] - 0s 25us/sample - loss: 0.3700 - val_loss: 0.3888\n",
      "Epoch 16/100\n",
      "11610/11610 [==============================] - 0s 27us/sample - loss: 0.3689 - val_loss: 0.3867\n",
      "Epoch 17/100\n",
      "11610/11610 [==============================] - 0s 26us/sample - loss: 0.3681 - val_loss: 0.3784\n",
      "Epoch 18/100\n",
      "11610/11610 [==============================] - 0s 26us/sample - loss: 0.3652 - val_loss: 0.3814\n",
      "Epoch 19/100\n",
      "11610/11610 [==============================] - 0s 27us/sample - loss: 0.3637 - val_loss: 0.3846\n",
      "Epoch 20/100\n",
      "11610/11610 [==============================] - 0s 26us/sample - loss: 0.3618 - val_loss: 0.3759\n",
      "Epoch 21/100\n",
      "11610/11610 [==============================] - 0s 30us/sample - loss: 0.3604 - val_loss: 0.3735\n",
      "Epoch 22/100\n",
      "11610/11610 [==============================] - 0s 27us/sample - loss: 0.3592 - val_loss: 0.3778\n",
      "Epoch 23/100\n",
      "11610/11610 [==============================] - 0s 26us/sample - loss: 0.3585 - val_loss: 0.3744\n",
      "Epoch 24/100\n",
      "11610/11610 [==============================] - 0s 35us/sample - loss: 0.3570 - val_loss: 0.3741\n",
      "Epoch 25/100\n",
      "11610/11610 [==============================] - 0s 32us/sample - loss: 0.3556 - val_loss: 0.3693\n",
      "Epoch 26/100\n",
      "11610/11610 [==============================] - 0s 41us/sample - loss: 0.3543 - val_loss: 0.3707\n",
      "Epoch 27/100\n",
      "11610/11610 [==============================] - 0s 30us/sample - loss: 0.3539 - val_loss: 0.3690\n",
      "Epoch 28/100\n",
      "11610/11610 [==============================] - 0s 30us/sample - loss: 0.3526 - val_loss: 0.3731\n",
      "Epoch 29/100\n",
      "11610/11610 [==============================] - 0s 33us/sample - loss: 0.3526 - val_loss: 0.3655\n",
      "Epoch 30/100\n",
      "11610/11610 [==============================] - 0s 26us/sample - loss: 0.3505 - val_loss: 0.3699\n",
      "Epoch 31/100\n",
      "11610/11610 [==============================] - 0s 27us/sample - loss: 0.3541 - val_loss: 0.3747\n",
      "Epoch 32/100\n",
      "11610/11610 [==============================] - 0s 34us/sample - loss: 0.3512 - val_loss: 0.3666\n",
      "Epoch 33/100\n",
      "11610/11610 [==============================] - 0s 29us/sample - loss: 0.3515 - val_loss: 0.3599\n",
      "Epoch 34/100\n",
      "11610/11610 [==============================] - 0s 26us/sample - loss: 0.3484 - val_loss: 0.3679\n",
      "Epoch 35/100\n",
      "11610/11610 [==============================] - 0s 28us/sample - loss: 0.3486 - val_loss: 0.3600\n",
      "Epoch 36/100\n",
      "11610/11610 [==============================] - 0s 26us/sample - loss: 0.3445 - val_loss: 0.3877\n",
      "Epoch 37/100\n",
      "11610/11610 [==============================] - 0s 26us/sample - loss: 0.3457 - val_loss: 0.3589\n",
      "Epoch 38/100\n",
      "11610/11610 [==============================] - 0s 26us/sample - loss: 0.3443 - val_loss: 0.3570\n",
      "Epoch 39/100\n",
      "11610/11610 [==============================] - 0s 25us/sample - loss: 0.3430 - val_loss: 0.3608\n",
      "Epoch 40/100\n",
      "11610/11610 [==============================] - 0s 29us/sample - loss: 0.3434 - val_loss: 0.3552\n",
      "Epoch 41/100\n",
      "11610/11610 [==============================] - 0s 27us/sample - loss: 0.3431 - val_loss: 0.3569\n",
      "Epoch 42/100\n",
      "11610/11610 [==============================] - 0s 27us/sample - loss: 0.3435 - val_loss: 0.3537\n",
      "Epoch 43/100\n",
      "11610/11610 [==============================] - 0s 28us/sample - loss: 0.3401 - val_loss: 0.3628\n",
      "Epoch 44/100\n",
      "11610/11610 [==============================] - 0s 29us/sample - loss: 0.3391 - val_loss: 0.3534\n",
      "Epoch 45/100\n",
      "11610/11610 [==============================] - 0s 27us/sample - loss: 0.3669 - val_loss: 0.3545\n",
      "Epoch 46/100\n",
      "11610/11610 [==============================] - 0s 26us/sample - loss: 0.3426 - val_loss: 0.3580\n",
      "Epoch 47/100\n",
      "11610/11610 [==============================] - 0s 27us/sample - loss: 0.3383 - val_loss: 0.3550\n"
     ]
    }
   ],
   "source": [
    "history = model.fit(x_train_scaled, y_train,\n",
    "                   validation_data = (x_valid_scaled, y_valid),\n",
    "                   epochs=100, callbacks=callbacks)"
   ]
  },
  {
   "cell_type": "code",
   "execution_count": 9,
   "metadata": {},
   "outputs": [
    {
     "data": {
      "image/png": "[encoded data removed]",
      "text/plain": [
       "<Figure size 576x360 with 1 Axes>"
      ]
     },
     "metadata": {
      "needs_background": "light"
     },
     "output_type": "display_data"
    }
   ],
   "source": [
    "def plot_learning_curves(history):\n",
    "    pd.DataFrame(history.history).plot(figsize=(8,5))\n",
    "    plt.grid(True)\n",
    "    plt.gca().set_ylim(0,1)\n",
    "    plt.show()\n",
    "    \n",
    "plot_learning_curves(history)"
   ]
  },
  {
   "cell_type": "code",
   "execution_count": null,
   "metadata": {},
   "outputs": [],
   "source": []
  }
 ],
 "metadata": {
  "kernelspec": {
   "display_name": "Python 3",
   "language": "python",
   "name": "python3"
  },
  "language_info": {
   "codemirror_mode": {
    "name": "ipython",
    "version": 3
   },
   "file_extension": ".py",
   "mimetype": "text/x-python",
   "name": "python",
   "nbconvert_exporter": "python",
   "pygments_lexer": "ipython3",
   "version": "3.7.0"
  }
 },
 "nbformat": 4,
 "nbformat_minor": 2
}
