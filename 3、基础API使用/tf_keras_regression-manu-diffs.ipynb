{
 "cells": [
  {
   "cell_type": "markdown",
   "metadata": {},
   "source": [
    "tf.GradientTape与tf.keras结合使用"
   ]
  },
  {
   "cell_type": "code",
   "execution_count": 2,
   "metadata": {},
   "outputs": [
    {
     "name": "stdout",
     "output_type": "stream",
     "text": [
      "2.0.0-beta1\n",
      "sys.version_info(major=3, minor=7, micro=0, releaselevel='final', serial=0)\n",
      "matplotlib 2.2.3\n",
      "numpy 1.16.4\n",
      "pandas 0.23.4\n",
      "sklearn 0.19.2\n",
      "tensorflow 2.0.0-beta1\n",
      "tensorflow.python.keras.api._v2.keras 2.2.4-tf\n"
     ]
    }
   ],
   "source": [
    "# 使用tf.keras搭建回归模型，数据集使用加利福尼亚的房价预测\n",
    "#导入必要的库即版本\n",
    "\n",
    "import matplotlib as mpl\n",
    "import matplotlib.pyplot as plt\n",
    "%matplotlib inline\n",
    "import numpy as np\n",
    "import sklearn\n",
    "import pandas as pd\n",
    "import os\n",
    "import sys\n",
    "import time\n",
    "import tensorflow as tf\n",
    "\n",
    "from tensorflow import keras\n",
    "#import keras\n",
    "\n",
    "print(tf.__version__)\n",
    "print(sys.version_info)\n",
    "for module in mpl, np, pd,sklearn,tf,keras:\n",
    "    print(module.__name__, module.__version__)"
   ]
  },
  {
   "cell_type": "code",
   "execution_count": 3,
   "metadata": {},
   "outputs": [
    {
     "name": "stdout",
     "output_type": "stream",
     "text": [
      "California housing dataset.\n",
      "\n",
      "The original database is available from StatLib\n",
      "\n",
      "    http://lib.stat.cmu.edu/datasets/\n",
      "\n",
      "The data contains 20,640 observations on 9 variables.\n",
      "\n",
      "This dataset contains the average house value as target variable\n",
      "and the following input variables (features): average income,\n",
      "housing average age, average rooms, average bedrooms, population,\n",
      "average occupation, latitude, and longitude in that order.\n",
      "\n",
      "References\n",
      "----------\n",
      "\n",
      "Pace, R. Kelley and Ronald Barry, Sparse Spatial Autoregressions,\n",
      "Statistics and Probability Letters, 33 (1997) 291-297.\n",
      "\n",
      "\n",
      "(20640, 8)\n",
      "(20640,)\n"
     ]
    }
   ],
   "source": [
    "# 导入数据\n",
    "from sklearn.datasets import fetch_california_housing\n",
    "\n",
    "housing = fetch_california_housing()\n",
    "\n",
    "print(housing.DESCR)\n",
    "print(housing.data.shape)\n",
    "print(housing.target.shape)"
   ]
  },
  {
   "cell_type": "code",
   "execution_count": 4,
   "metadata": {},
   "outputs": [
    {
     "name": "stdout",
     "output_type": "stream",
     "text": [
      "array([[ 8.32520000e+00,  4.10000000e+01,  6.98412698e+00,\n",
      "         1.02380952e+00,  3.22000000e+02,  2.55555556e+00,\n",
      "         3.78800000e+01, -1.22230000e+02],\n",
      "       [ 8.30140000e+00,  2.10000000e+01,  6.23813708e+00,\n",
      "         9.71880492e-01,  2.40100000e+03,  2.10984183e+00,\n",
      "         3.78600000e+01, -1.22220000e+02],\n",
      "       [ 7.25740000e+00,  5.20000000e+01,  8.28813559e+00,\n",
      "         1.07344633e+00,  4.96000000e+02,  2.80225989e+00,\n",
      "         3.78500000e+01, -1.22240000e+02],\n",
      "       [ 5.64310000e+00,  5.20000000e+01,  5.81735160e+00,\n",
      "         1.07305936e+00,  5.58000000e+02,  2.54794521e+00,\n",
      "         3.78500000e+01, -1.22250000e+02],\n",
      "       [ 3.84620000e+00,  5.20000000e+01,  6.28185328e+00,\n",
      "         1.08108108e+00,  5.65000000e+02,  2.18146718e+00,\n",
      "         3.78500000e+01, -1.22250000e+02]])\n",
      "array([4.526, 3.585, 3.521, 3.413, 3.422])\n"
     ]
    }
   ],
   "source": [
    "# 打印数据\n",
    "import pprint\n",
    "\n",
    "pprint.pprint(housing.data[:5])\n",
    "pprint.pprint(housing.target[:5])"
   ]
  },
  {
   "cell_type": "code",
   "execution_count": 5,
   "metadata": {},
   "outputs": [
    {
     "name": "stdout",
     "output_type": "stream",
     "text": [
      "(11610, 8) (11610,)\n",
      "(3870, 8) (3870,)\n",
      "(5160, 8) (5160,)\n"
     ]
    }
   ],
   "source": [
    "# 拆分训练集、测试集、验证集\n",
    "from sklearn.model_selection import train_test_split\n",
    "\n",
    "# 默认按3：1的比例拆分\n",
    "x_train_all, x_test, y_train_all, y_test = train_test_split(housing.data, housing.target, random_state=7)\n",
    "x_train, x_valid, y_train, y_valid = train_test_split(x_train_all, y_train_all, random_state=11)\n",
    "\n",
    "print(x_train.shape, y_train.shape)\n",
    "print(x_valid.shape, y_valid.shape)\n",
    "print(x_test.shape, y_test.shape)"
   ]
  },
  {
   "cell_type": "markdown",
   "metadata": {},
   "source": [
    "### 数据归一化"
   ]
  },
  {
   "cell_type": "code",
   "execution_count": 6,
   "metadata": {},
   "outputs": [],
   "source": [
    "from sklearn.preprocessing import StandardScaler\n",
    "\n",
    "scaler = StandardScaler()\n",
    "# 训练机上获得均值和方差，测试集和验证集上用相同的均值和方差\n",
    "x_train_scaled = scaler.fit_transform(x_train)\n",
    "x_valid_scaled = scaler.transform(x_valid)\n",
    "x_test_scaled = scaler.transform(x_test)"
   ]
  },
  {
   "cell_type": "markdown",
   "metadata": {},
   "source": [
    "### 构建模型"
   ]
  },
  {
   "cell_type": "code",
   "execution_count": 14,
   "metadata": {},
   "outputs": [
    {
     "name": "stdout",
     "output_type": "stream",
     "text": [
      "tf.Tensor(9.0, shape=(), dtype=float32)\n",
      "tf.Tensor(5.0, shape=(), dtype=float32)\n",
      "tf.Tensor(5.0, shape=(), dtype=float32)\n",
      "tf.Tensor(4.0, shape=(), dtype=float32)\n"
     ]
    }
   ],
   "source": [
    "# metric使用\n",
    "metric = keras.metrics.MeanSquaredError()\n",
    "# 可以累加使用\n",
    "print(metric([5.],[2.]))\n",
    "print(metric([0.],[1.]))\n",
    "print(metric.result())\n",
    "# 不想累加 reset\n",
    "metric.reset_states()\n",
    "metric([1.],[3.])\n",
    "print(metric.result())"
   ]
  },
  {
   "cell_type": "code",
   "execution_count": 17,
   "metadata": {},
   "outputs": [
    {
     "name": "stdout",
     "output_type": "stream",
     "text": [
      "Epoch 0 train mse 1.5235689\t valid mse: 1.4166715688935319\n",
      "Epoch 1 train mse 1.7961156\t valid mse: 1.45398741139984\n",
      "Epoch 2 train mse 1.2464117\t valid mse: 1.4197592354390824\n",
      "Epoch 3 train mse 1.2720236\t valid mse: 1.4110270663545423\n",
      "Epoch 4 train mse 1.22343643\t valid mse: 1.3928980161174214\n",
      "Epoch 5 train mse 1.2563934\t valid mse: 1.3887724574502907\n",
      "Epoch 6 train mse 1.269748\t valid mse: 1.3885760220974723\n",
      "Epoch 7 train mse 1.2529523\t valid mse: 1.3874902406251794\n",
      "Epoch 8 train mse 1.2494687\t valid mse: 1.390298433298022\n",
      "Epoch 9 train mse 1.2713538\t valid mse: 1.386875324155706\n",
      "Epoch 10 train mse 1.3050228\t valid mse: 1.390824866527549\n",
      "Epoch 11 train mse 1.2404352 train mse 1.2600132\t valid mse: 1.3860032837728455\n",
      "Epoch 12 train mse 1.251884\t valid mse: 1.386308964300463\n",
      "Epoch 13 train mse 1.2474616\t valid mse: 1.388066388448043\n",
      "Epoch 14 train mse 1.2356681\t valid mse: 1.3952145639953155\n",
      "Epoch 15 train mse 1.2545469\t valid mse: 1.3951665591222697\n",
      "Epoch 16 train mse 1.2410151\t valid mse: 1.3857421345446514\n",
      "Epoch 17 train mse 1.2691896\t valid mse: 1.3885958276467334\n",
      "Epoch 18 train mse 1.2620733\t valid mse: 1.3850802735602663\n",
      "Epoch 19 train mse 1.2579199\t valid mse: 1.3846140634674622\n",
      "Epoch 20 train mse 1.2514975\t valid mse: 1.3871825436099519\n",
      "Epoch 21 train mse 1.2440448\t valid mse: 1.3903864273788462\n",
      "Epoch 22 train mse 1.2375156\t valid mse: 1.3887682965455883\n",
      "Epoch 23 train mse 1.2407131\t valid mse: 1.3876067498288807\n",
      "Epoch 24 train mse 1.2649258\t valid mse: 1.3886163884118055\n",
      "Epoch 25 train mse 1.2595743\t valid mse: 1.3915309373834457\n",
      "Epoch 26 train mse 1.2755768\t valid mse: 1.384216905347392\n",
      "Epoch 27 train mse 1.2963593\t valid mse: 1.3837242032329593\n",
      "Epoch 28 train mse 1.227838\t valid mse: 1.3895567879698867\n",
      "Epoch 29 train mse 1.2499338\t valid mse: 1.3874595413615172\n",
      "Epoch 30 train mse 1.263769\t valid mse: 1.3866649555723953\n",
      "Epoch 31 train mse 1.287034531 train mse 1.3446329\t valid mse: 1.3844135374661373\n",
      "Epoch 32 train mse 1.27200941.2811579\t valid mse: 1.3846342313324982\n",
      "Epoch 33 train mse 1.2693119\t valid mse: 1.3912516147443639\n",
      "Epoch 34 train mse 1.2169565\t valid mse: 1.40782911190849\n",
      "Epoch 35 train mse 1.2336882\t valid mse: 1.383684552530429\n",
      "Epoch 36 train mse 1.2672826\t valid mse: 1.3866662990476304\n",
      "Epoch 37 train mse 1.2734984\t valid mse: 1.3864240962313052\n",
      "Epoch 38 train mse 1.26580814\t valid mse: 1.3867750450432956\n",
      "Epoch 39 train mse 1.2618506\t valid mse: 1.3837630300522952\n",
      "Epoch 40 train mse 1.2742722\t valid mse: 1.3852838418476037\n",
      "Epoch 41 train mse 1.2515372\t valid mse: 1.3854398043601575\n",
      "Epoch 42 train mse 1.2551055\t valid mse: 1.3872496307197688\n",
      "Epoch 43 train mse 1.2463396\t valid mse: 1.384317734684019\n",
      "Epoch 44 train mse 1.2155162\t valid mse: 1.3848431746470178\n",
      "Epoch 45 train mse 1.2177548\t valid mse: 1.3846912402791614\n",
      "Epoch 46 train mse 1.2264857\t valid mse: 1.392010650623294\n",
      "Epoch 47 train mse 1.2855183\t valid mse: 1.3837810446855228\n",
      "Epoch 48 train mse 1.2637054\t valid mse: 1.3862583144066263\n",
      "Epoch 49 train mse 1.2417005\t valid mse: 1.386819073541629\n",
      "Epoch 50 train mse 1.30819827\t valid mse: 1.3831468401507807\n",
      "Epoch 51 train mse 1.2709283\t valid mse: 1.3829434905967442\n",
      "Epoch 52 train mse 1.2816751\t valid mse: 1.3848867616929887\n",
      "Epoch 53 train mse 1.28768674\t valid mse: 1.3843721783814384\n",
      "Epoch 54 train mse 1.241376\t valid mse: 1.3838712437094092\n",
      "Epoch 55 train mse 1.2500601\t valid mse: 1.385886462373584\n",
      "Epoch 56 train mse 1.2806671\t valid mse: 1.38293216256676\n",
      "Epoch 57 train mse 1.22599041.2412813\t valid mse: 1.3839973539384869\n",
      "Epoch 58 train mse 1.2775233\t valid mse: 1.3833012246098007\n",
      "Epoch 59 train mse 1.2733661\t valid mse: 1.386054554123138\n",
      "Epoch 60 train mse 1.2637599\t valid mse: 1.3842873612141104\n",
      "Epoch 61 train mse 1.2226634\t valid mse: 1.385516296864895\n",
      "Epoch 62 train mse 1.2810981\t valid mse: 1.3845074085049351\n",
      "Epoch 63 train mse 1.2427225\t valid mse: 1.3890439659115634\n",
      "Epoch 64 train mse 1.27134196\t valid mse: 1.3911734410477705\n",
      "Epoch 65 train mse 1.2494214\t valid mse: 1.3964364322416174\n",
      "Epoch 66 train mse 1.2397692\t valid mse: 1.3868390897972336\n",
      "Epoch 67 train mse 1.2242006\t valid mse: 1.3875760026181934\n",
      "Epoch 68 train mse 1.2513802\t valid mse: 1.3831754250509969\n",
      "Epoch 69 train mse 1.2786378\t valid mse: 1.3848219853492287\n",
      "Epoch 70 train mse 1.2426056\t valid mse: 1.3921434511589368\n",
      "Epoch 71 train mse 1.2505382\t valid mse: 1.3866735519524969\n",
      "Epoch 72 train mse 1.2509044\t valid mse: 1.3849207633917189\n",
      "Epoch 73 train mse 1.2768227\t valid mse: 1.3845618027782944\n",
      "Epoch 74 train mse 1.24693021.2785357\t valid mse: 1.390148926490684\n",
      "Epoch 75 train mse 1.2916198\t valid mse: 1.3833856118064003\n",
      "Epoch 76 train mse 1.2352949\t valid mse: 1.3866568086760709\n",
      "Epoch 77 train mse 1.2685201\t valid mse: 1.3834856146256016\n",
      "Epoch 78 train mse 1.2604834\t valid mse: 1.3864496333706153\n",
      "Epoch 79 train mse 1.2518249\t valid mse: 1.3842110926075795\n",
      "Epoch 80 train mse 1.2527775\t valid mse: 1.3831656243367112\n",
      "Epoch 81 train mse 1.2318977\t valid mse: 1.383200961342988\n",
      "Epoch 82 train mse 1.2627007\t valid mse: 1.3833586272357663\n",
      "Epoch 83 train mse 1.2665639\t valid mse: 1.3836885142451343\n",
      "Epoch 84 train mse 1.2540748\t valid mse: 1.386427304030782\n",
      "Epoch 85 train mse 1.255639\t valid mse: 1.384244260582974\n",
      "Epoch 86 train mse 1.23753961.2207477\t valid mse: 1.385020488953247\n",
      "Epoch 87 train mse 1.27142236\t valid mse: 1.3828962940639506\n",
      "Epoch 88 train mse 1.247849\t valid mse: 1.3883493313302187\n",
      "Epoch 89 train mse 1.2707962\t valid mse: 1.38564347941513\n",
      "Epoch 90 train mse 1.267131\t valid mse: 1.3844950804507663\n",
      "Epoch 91 train mse 1.2338831\t valid mse: 1.3997525796436914\n",
      "Epoch 92 train mse 1.2713603\t valid mse: 1.3890352419027114\n",
      "Epoch 93 train mse 1.2647897\t valid mse: 1.394385365894551\n",
      "Epoch 94 train mse 1.2504988\t valid mse: 1.3836969044745102\n",
      "Epoch 95 train mse 1.2357136\t valid mse: 1.385011434325527\n",
      "Epoch 96 train mse 1.2890635\t valid mse: 1.3908505220118916\n",
      "Epoch 97 train mse 1.23926261.242838\t valid mse: 1.3870712819406152\n",
      "Epoch 98 train mse 1.2562227\t valid mse: 1.3837320354877543\n",
      "Epoch 99 train mse 1.2897857\t valid mse: 1.384022752746948\n",
      "Model: \"sequential_1\"\n",
      "_________________________________________________________________\n",
      "Layer (type)                 Output Shape              Param #   \n",
      "=================================================================\n",
      "dense_2 (Dense)              (None, 30)                270       \n",
      "_________________________________________________________________\n",
      "dense_3 (Dense)              (None, 1)                 31        \n",
      "=================================================================\n",
      "Total params: 301\n",
      "Trainable params: 301\n",
      "Non-trainable params: 0\n",
      "_________________________________________________________________\n"
     ]
    }
   ],
   "source": [
    "# 修改model中的fit部分\n",
    "# 1、按照batch的形式遍历训练集，每次训练都会得到一个指标 metric\n",
    "#    1.1自动求导，\n",
    "# 2、一个epoch结束，验证集验证，输出metric\n",
    "epochs = 100\n",
    "batch_size = 32\n",
    "steps_per_epoch = len(x_train_scaled) // batch_size\n",
    "optimizer = keras.optimizers.SGD()\n",
    "metric = keras.metrics.MeanSquaredError()\n",
    "\n",
    "# 随机遍历取数据\n",
    "def random_batch(x,y,batch_size=32):\n",
    "    # 随机索引\n",
    "    idx = np.random.randint(0,len(x),size=batch_size)\n",
    "    return x[idx],y[idx]\n",
    "\n",
    "model = keras.models.Sequential([\n",
    "    keras.layers.Dense(30, activation='relu', input_shape=x_train.shape[1:]),\n",
    "    #最后一层一个神经元\n",
    "    keras.layers.Dense(1),\n",
    "])\n",
    "\n",
    "for epoch in range(epochs):\n",
    "    metric.reset_states()\n",
    "    for step in range(steps_per_epoch):\n",
    "        x_batch, y_batch = random_batch(x_train_scaled, y_train, batch_size)\n",
    "        \n",
    "        with tf.GradientTape() as tape:\n",
    "            \n",
    "            y_pred = model(x_batch)\n",
    "            loss = tf.reduce_mean(\n",
    "                keras.losses.mean_squared_error(y_batch,y_pred))\n",
    "            metric(y_batch,y_pred)\n",
    "        grads = tape.gradient(loss, model.variables)\n",
    "        grads_and_vars = zip(grads, model.variables)\n",
    "        optimizer.apply_gradients(grads_and_vars)\n",
    "        print('\\rEpoch', epoch, 'train mse', metric.result().numpy(),end='')\n",
    "    \n",
    "    y_valid_pred = model(x_valid_scaled)\n",
    "    valid_loss = tf.reduce_mean(\n",
    "        keras.losses.mean_squared_error(y_valid_pred,y_valid))\n",
    "    print('\\t','valid mse:', valid_loss.numpy())\n",
    "    \n",
    "        \n",
    "    \n",
    "model.summary()\n",
    "# 编译，目标函数使用均方差，优化方法使用随机梯度下降，也可以自己定义\n",
    "model.compile(loss='mean_squared_error', optimizer='sgd')\n",
    "# 使用earlystopping\n",
    "callbacks = [keras.callbacks.EarlyStopping(patience=5, min_delta=1e-3)]"
   ]
  },
  {
   "cell_type": "code",
   "execution_count": null,
   "metadata": {},
   "outputs": [],
   "source": []
  }
 ],
 "metadata": {
  "kernelspec": {
   "display_name": "Python 3",
   "language": "python",
   "name": "python3"
  },
  "language_info": {
   "codemirror_mode": {
    "name": "ipython",
    "version": 3
   },
   "file_extension": ".py",
   "mimetype": "text/x-python",
   "name": "python",
   "nbconvert_exporter": "python",
   "pygments_lexer": "ipython3",
   "version": "3.7.0"
  }
 },
 "nbformat": 4,
 "nbformat_minor": 2
}
