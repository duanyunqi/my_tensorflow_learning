{
 "cells": [
  {
   "cell_type": "code",
   "execution_count": 1,
   "metadata": {},
   "outputs": [
    {
     "name": "stdout",
     "output_type": "stream",
     "text": [
      "2.0.0-beta1\n",
      "sys.version_info(major=3, minor=7, micro=0, releaselevel='final', serial=0)\n",
      "matplotlib 2.2.3\n",
      "numpy 1.16.4\n",
      "pandas 0.23.4\n",
      "sklearn 0.19.2\n",
      "tensorflow 2.0.0-beta1\n",
      "tensorflow.python.keras.api._v2.keras 2.2.4-tf\n"
     ]
    }
   ],
   "source": [
    "# 使用tf.keras搭建回归模型，数据集使用加利福尼亚的房价预测\n",
    "#导入必要的库即版本\n",
    "\n",
    "import matplotlib as mpl\n",
    "import matplotlib.pyplot as plt\n",
    "%matplotlib inline\n",
    "import numpy as np\n",
    "import sklearn\n",
    "import pandas as pd\n",
    "import os\n",
    "import sys\n",
    "import time\n",
    "import tensorflow as tf\n",
    "\n",
    "from tensorflow import keras\n",
    "#import keras\n",
    "\n",
    "print(tf.__version__)\n",
    "print(sys.version_info)\n",
    "for module in mpl, np, pd,sklearn,tf,keras:\n",
    "    print(module.__name__, module.__version__)"
   ]
  },
  {
   "cell_type": "code",
   "execution_count": 14,
   "metadata": {},
   "outputs": [
    {
     "name": "stdout",
     "output_type": "stream",
     "text": [
      "['test_00.csv', 'test_01.csv', 'test_02.csv', 'test_03.csv', 'test_04.csv', 'test_05.csv', 'test_06.csv', 'test_07.csv', 'test_08.csv', 'test_09.csv', 'train_00.csv', 'train_01.csv', 'train_02.csv', 'train_03.csv', 'train_04.csv', 'train_05.csv', 'train_06.csv', 'train_07.csv', 'train_08.csv', 'train_09.csv', 'train_10.csv', 'train_11.csv', 'train_12.csv', 'train_13.csv', 'train_14.csv', 'train_15.csv', 'train_16.csv', 'train_17.csv', 'train_18.csv', 'train_19.csv', 'valid_00.csv', 'valid_01.csv', 'valid_02.csv', 'valid_03.csv', 'valid_04.csv', 'valid_05.csv', 'valid_06.csv', 'valid_07.csv', 'valid_08.csv', 'valid_09.csv']\n",
      "['./generate_csv/train_00.csv',\n",
      " './generate_csv/train_01.csv',\n",
      " './generate_csv/train_02.csv',\n",
      " './generate_csv/train_03.csv',\n",
      " './generate_csv/train_04.csv',\n",
      " './generate_csv/train_05.csv',\n",
      " './generate_csv/train_06.csv',\n",
      " './generate_csv/train_07.csv',\n",
      " './generate_csv/train_08.csv',\n",
      " './generate_csv/train_09.csv',\n",
      " './generate_csv/train_10.csv',\n",
      " './generate_csv/train_11.csv',\n",
      " './generate_csv/train_12.csv',\n",
      " './generate_csv/train_13.csv',\n",
      " './generate_csv/train_14.csv',\n",
      " './generate_csv/train_15.csv',\n",
      " './generate_csv/train_16.csv',\n",
      " './generate_csv/train_17.csv',\n",
      " './generate_csv/train_18.csv',\n",
      " './generate_csv/train_19.csv']\n",
      "['./generate_csv/valid_00.csv',\n",
      " './generate_csv/valid_01.csv',\n",
      " './generate_csv/valid_02.csv',\n",
      " './generate_csv/valid_03.csv',\n",
      " './generate_csv/valid_04.csv',\n",
      " './generate_csv/valid_05.csv',\n",
      " './generate_csv/valid_06.csv',\n",
      " './generate_csv/valid_07.csv',\n",
      " './generate_csv/valid_08.csv',\n",
      " './generate_csv/valid_09.csv']\n",
      "['./generate_csv/test_00.csv',\n",
      " './generate_csv/test_01.csv',\n",
      " './generate_csv/test_02.csv',\n",
      " './generate_csv/test_03.csv',\n",
      " './generate_csv/test_04.csv',\n",
      " './generate_csv/test_05.csv',\n",
      " './generate_csv/test_06.csv',\n",
      " './generate_csv/test_07.csv',\n",
      " './generate_csv/test_08.csv',\n",
      " './generate_csv/test_09.csv']\n"
     ]
    }
   ],
   "source": [
    "# 以csv为数据源\n",
    "# 数据文件夹\n",
    "source_dir = './generate_csv/'\n",
    "print(os.listdir(source_dir))\n",
    "\n",
    "# 区分文件\n",
    "def get_filename_by_prefix(source_dir, prefix_name):\n",
    "    all_files = os.listdir(source_dir)\n",
    "    results = []\n",
    "    for filename in all_files:\n",
    "        if filename.startswith(prefix_name):\n",
    "            results.append(os.path.join(source_dir,filename))\n",
    "    return results\n",
    "\n",
    "train_filenames = get_filename_by_prefix(source_dir, 'train')\n",
    "valid_filenames = get_filename_by_prefix(source_dir, 'valid')\n",
    "test_filenames = get_filename_by_prefix(source_dir, 'test')\n",
    "\n",
    "import pprint\n",
    "pprint.pprint(train_filenames)\n",
    "pprint.pprint(valid_filenames)\n",
    "pprint.pprint(test_filenames)"
   ]
  },
  {
   "cell_type": "code",
   "execution_count": 15,
   "metadata": {},
   "outputs": [],
   "source": [
    "# 解析dataset中的一行，line参数为具体的字符串，n_fields需要解析为多少个field\n",
    "def parse_csv_line(line, n_fields=9):\n",
    "    defs = [tf.constant(np.nan)] * n_fields\n",
    "    parsed_fields = tf.io.decode_csv(line, record_defaults=defs)\n",
    "    # 每一行中有9个元素，前8个为x，最后一个位y\n",
    "    # 前八个变为一个向量\n",
    "    x = tf.stack(parsed_fields[0:-1])\n",
    "    y = tf.stack(parsed_fields[-1:])\n",
    "    return x,y"
   ]
  },
  {
   "cell_type": "code",
   "execution_count": 16,
   "metadata": {},
   "outputs": [],
   "source": [
    "# 完整读取csv文件流程\n",
    "def csv_reader_dataset(filenames, n_readers=5,\n",
    "                      batch_size=32, n_parse_threads=5,\n",
    "                      shuffle_buffer_size=10000):\n",
    "    # n_parse_threads：解析并行度\n",
    "    # shuffle_buffer_size：\n",
    "    dataset = tf.data.Dataset.list_files(filenames)\n",
    "    dataset = dataset.repeat()\n",
    "    dataset = dataset.interleave(\n",
    "        lambda filename: tf.data.TextLineDataset(filename).skip(1),\n",
    "        cycle_length = n_readers)\n",
    "    # shuffle对数据进行混排,shuffle_buffer_size所需内存\n",
    "    dataset.shuffle(shuffle_buffer_size)\n",
    "    # 解析,map与interleave很类似\n",
    "    dataset = dataset.map(parse_csv_line,\n",
    "                         num_parallel_calls=n_parse_threads)\n",
    "    dataset = dataset.batch(batch_size)\n",
    "    return dataset\n",
    "\n"
   ]
  },
  {
   "cell_type": "code",
   "execution_count": 17,
   "metadata": {},
   "outputs": [],
   "source": [
    "batch_size = 32\n",
    "train_set = csv_reader_dataset(train_filenames, batch_size=batch_size)\n",
    "valid_set = csv_reader_dataset(valid_filenames, batch_size=batch_size)\n",
    "test_set = csv_reader_dataset(test_filenames, batch_size=batch_size)"
   ]
  },
  {
   "cell_type": "code",
   "execution_count": 26,
   "metadata": {},
   "outputs": [],
   "source": [
    "# 遍历数据，并将数据写进tfrecord\n",
    "def serialize_example(x, y):\n",
    "    '''将x,y转为tf.train.Example,并序列化'''\n",
    "    input_features = tf.train.FloatList(value = x)\n",
    "    label = tf.train.FloatList(value = y)\n",
    "    features = tf.train.Features(\n",
    "        feature = {\n",
    "            'input_features':tf.train.Feature(\n",
    "            float_list = input_features),\n",
    "            'label': tf.train.Feature(float_list=label)\n",
    "        }\n",
    "    )\n",
    "    example = tf.train.Example(features = features)\n",
    "    return example.SerializeToString()\n"
   ]
  },
  {
   "cell_type": "code",
   "execution_count": 27,
   "metadata": {},
   "outputs": [],
   "source": [
    "\n",
    "def csv_dataset_to_tfrecords(base_filename,dataset,\n",
    "                            n_shards,steps_per_shard,\n",
    "                            compression_type=None):\n",
    "    options = tf.io.TFRecordOptions(\n",
    "        compression_type=compression_type)\n",
    "    all_filenames = []\n",
    "    for shard_id in range(n_shards):\n",
    "        filename_fullpath = '{}_{:05d}-of-{:05d}'.format(\n",
    "            base_filename,shard_id,n_shards)\n",
    "        with tf.io.TFRecordWriter(filename_fullpath,options) as writer:\n",
    "            for x_batch, y_batch in dataset.take(steps_per_shard):\n",
    "                for x_example, y_example in zip(x_batch, y_batch):\n",
    "                    writer.write(\n",
    "                    serialize_example(x_example,y_example))\n",
    "        all_filenames.append(filename_fullpath)\n",
    "        \n",
    "    return all_filenames"
   ]
  },
  {
   "cell_type": "code",
   "execution_count": 28,
   "metadata": {},
   "outputs": [],
   "source": [
    "n_shards = 20\n",
    "train_steps_per_shard = 11160 // batch_size // n_shards\n",
    "valid_steps_per_shard = 3380 //batch_size // n_shards\n",
    "test_steps_per_shard = 5170 //batch_size // n_shards\n",
    "\n",
    "output_dir = 'generate_tfrecords'\n",
    "if not os.path.exists(output_dir):\n",
    "    os.mkdir(output_dir)\n",
    "    \n",
    "train_basename = os.path.join(output_dir,'train')\n",
    "valid_basename = os.path.join(output_dir,'valid')\n",
    "test_basename = os.path.join(output_dir,'test')\n",
    "\n",
    "train_tfrecord_filenames = csv_dataset_to_tfrecords(\n",
    "    train_basename,train_set,n_shards,train_steps_per_shard,None)\n",
    "\n",
    "valid_tfrecord_filenames = csv_dataset_to_tfrecords(\n",
    "    valid_basename,valid_set,n_shards,valid_steps_per_shard,None)\n",
    "\n",
    "test_tfrecord_filenames = csv_dataset_to_tfrecords(\n",
    "    test_basename,test_set,n_shards,test_steps_per_shard,None)\n"
   ]
  },
  {
   "cell_type": "code",
   "execution_count": 29,
   "metadata": {},
   "outputs": [],
   "source": [
    "# 压缩后的tfrecoord文件\n",
    "n_shards = 20\n",
    "train_steps_per_shard = 11160 // batch_size // n_shards\n",
    "valid_steps_per_shard = 3380 //batch_size // n_shards\n",
    "test_steps_per_shard = 5170 //batch_size // n_shards\n",
    "\n",
    "output_dir = 'generate_tfrecords_zip'\n",
    "if not os.path.exists(output_dir):\n",
    "    os.mkdir(output_dir)\n",
    "    \n",
    "train_basename = os.path.join(output_dir,'train')\n",
    "valid_basename = os.path.join(output_dir,'valid')\n",
    "test_basename = os.path.join(output_dir,'test')\n",
    "\n",
    "train_tfrecord_filenames = csv_dataset_to_tfrecords(\n",
    "    train_basename,train_set,n_shards,train_steps_per_shard,\n",
    "    compression_type='GZIP')\n",
    "\n",
    "valid_tfrecord_filenames = csv_dataset_to_tfrecords(\n",
    "    valid_basename,valid_set,n_shards,valid_steps_per_shard,\n",
    "    compression_type='GZIP')\n",
    "\n",
    "test_tfrecord_filenames = csv_dataset_to_tfrecords(\n",
    "    test_basename,test_set,n_shards,test_steps_per_shard,\n",
    "    compression_type='GZIP')\n"
   ]
  },
  {
   "cell_type": "code",
   "execution_count": 30,
   "metadata": {},
   "outputs": [
    {
     "name": "stdout",
     "output_type": "stream",
     "text": [
      "['generate_tfrecords_zip\\\\train_00000-of-00020',\n",
      " 'generate_tfrecords_zip\\\\train_00001-of-00020',\n",
      " 'generate_tfrecords_zip\\\\train_00002-of-00020',\n",
      " 'generate_tfrecords_zip\\\\train_00003-of-00020',\n",
      " 'generate_tfrecords_zip\\\\train_00004-of-00020',\n",
      " 'generate_tfrecords_zip\\\\train_00005-of-00020',\n",
      " 'generate_tfrecords_zip\\\\train_00006-of-00020',\n",
      " 'generate_tfrecords_zip\\\\train_00007-of-00020',\n",
      " 'generate_tfrecords_zip\\\\train_00008-of-00020',\n",
      " 'generate_tfrecords_zip\\\\train_00009-of-00020',\n",
      " 'generate_tfrecords_zip\\\\train_00010-of-00020',\n",
      " 'generate_tfrecords_zip\\\\train_00011-of-00020',\n",
      " 'generate_tfrecords_zip\\\\train_00012-of-00020',\n",
      " 'generate_tfrecords_zip\\\\train_00013-of-00020',\n",
      " 'generate_tfrecords_zip\\\\train_00014-of-00020',\n",
      " 'generate_tfrecords_zip\\\\train_00015-of-00020',\n",
      " 'generate_tfrecords_zip\\\\train_00016-of-00020',\n",
      " 'generate_tfrecords_zip\\\\train_00017-of-00020',\n",
      " 'generate_tfrecords_zip\\\\train_00018-of-00020',\n",
      " 'generate_tfrecords_zip\\\\train_00019-of-00020']\n"
     ]
    }
   ],
   "source": [
    "\n",
    "pprint.pprint(train_tfrecord_filenames)"
   ]
  },
  {
   "cell_type": "code",
   "execution_count": 31,
   "metadata": {},
   "outputs": [
    {
     "name": "stdout",
     "output_type": "stream",
     "text": [
      "tf.Tensor(\n",
      "[[-0.66722274 -0.04823952  0.34529406  0.53826684  1.8521839  -0.06112538\n",
      "  -0.8417093   1.5204847 ]\n",
      " [-0.66722274 -0.04823952  0.34529406  0.53826684  1.8521839  -0.06112538\n",
      "  -0.8417093   1.5204847 ]\n",
      " [-0.66722274 -0.04823952  0.34529406  0.53826684  1.8521839  -0.06112538\n",
      "  -0.8417093   1.5204847 ]], shape=(3, 8), dtype=float32)\n",
      "tf.Tensor(\n",
      "[[1.59]\n",
      " [1.59]\n",
      " [1.59]], shape=(3, 1), dtype=float32)\n",
      "tf.Tensor(\n",
      "[[-0.66722274 -0.04823952  0.34529406  0.53826684  1.8521839  -0.06112538\n",
      "  -0.8417093   1.5204847 ]\n",
      " [-0.66722274 -0.04823952  0.34529406  0.53826684  1.8521839  -0.06112538\n",
      "  -0.8417093   1.5204847 ]\n",
      " [-0.32652634  0.4323619  -0.09345459 -0.08402992  0.8460036  -0.02663165\n",
      "  -0.56176794  0.1422876 ]], shape=(3, 8), dtype=float32)\n",
      "tf.Tensor(\n",
      "[[1.59 ]\n",
      " [1.59 ]\n",
      " [2.431]], shape=(3, 1), dtype=float32)\n"
     ]
    }
   ],
   "source": [
    "# 读取tfrecord文件\n",
    "expect_features = {\n",
    "    'input_features':tf.io.FixedLenFeature([8],dtype=tf.float32),\n",
    "    'label':tf.io.FixedLenFeature([1],dtype=tf.float32)\n",
    "}\n",
    "\n",
    "def parse_example(serialize_example):\n",
    "    example = tf.io.parse_single_example(serialize_example,\n",
    "                                        expect_features)\n",
    "    return example['input_features'], example['label']\n",
    "\n",
    "\n",
    "# 完整读取csv文件流程\n",
    "def tfrecord_reader_dataset(filenames, n_readers=5,\n",
    "                      batch_size=32, n_parse_threads=5,\n",
    "                      shuffle_buffer_size=10000):\n",
    "    # n_parse_threads：解析并行度\n",
    "    # shuffle_buffer_size：\n",
    "    dataset = tf.data.Dataset.list_files(filenames)\n",
    "    dataset = dataset.repeat()\n",
    "    dataset = dataset.interleave(\n",
    "        lambda filename: tf.data.TFRecordDataset(filename,compression_type='GZIP'),\n",
    "        cycle_length = n_readers)\n",
    "    # shuffle对数据进行混排,shuffle_buffer_size所需内存\n",
    "    dataset.shuffle(shuffle_buffer_size)\n",
    "    # 解析,map与interleave很类似\n",
    "    dataset = dataset.map(parse_example,\n",
    "                         num_parallel_calls=n_parse_threads)\n",
    "    dataset = dataset.batch(batch_size)\n",
    "    return dataset\n",
    "\n",
    "tfrecords_train = tfrecord_reader_dataset(train_tfrecord_filenames,\n",
    "                                         batch_size=3)\n",
    "for x_batch,y_batch in tfrecords_train.take(2):\n",
    "    print(x_batch)\n",
    "    print(y_batch)\n",
    "    "
   ]
  },
  {
   "cell_type": "code",
   "execution_count": 32,
   "metadata": {},
   "outputs": [
    {
     "name": "stdout",
     "output_type": "stream",
     "text": [
      "Epoch 1/100\n",
      "348/348 [==============================] - 1s 3ms/step - loss: 0.8744 - val_loss: 1.1900\n",
      "Epoch 2/100\n",
      "348/348 [==============================] - 1s 1ms/step - loss: 0.4483 - val_loss: 0.7992\n",
      "Epoch 3/100\n",
      "348/348 [==============================] - 1s 1ms/step - loss: 0.3915 - val_loss: 0.7022\n",
      "Epoch 4/100\n",
      "348/348 [==============================] - 1s 2ms/step - loss: 0.3637 - val_loss: 0.6811\n",
      "Epoch 5/100\n",
      "348/348 [==============================] - 1s 2ms/step - loss: 0.3421 - val_loss: 0.6284\n",
      "Epoch 6/100\n",
      "348/348 [==============================] - 0s 1ms/step - loss: 0.3366 - val_loss: 0.6516\n",
      "Epoch 7/100\n",
      "348/348 [==============================] - 0s 1ms/step - loss: 0.3223 - val_loss: 0.5621\n",
      "Epoch 8/100\n",
      "348/348 [==============================] - 0s 1ms/step - loss: 0.3145 - val_loss: 0.5539\n",
      "Epoch 9/100\n",
      "348/348 [==============================] - 1s 2ms/step - loss: 0.3123 - val_loss: 0.5172\n",
      "Epoch 10/100\n",
      "348/348 [==============================] - 1s 2ms/step - loss: 0.3053 - val_loss: 0.5098\n",
      "Epoch 11/100\n",
      "348/348 [==============================] - 0s 1ms/step - loss: 0.2958 - val_loss: 0.5047\n",
      "Epoch 12/100\n",
      "348/348 [==============================] - 0s 1ms/step - loss: 0.2937 - val_loss: 0.4860\n",
      "Epoch 13/100\n",
      "348/348 [==============================] - 1s 2ms/step - loss: 0.2884 - val_loss: 0.4822\n",
      "Epoch 14/100\n",
      "348/348 [==============================] - 1s 2ms/step - loss: 0.2876 - val_loss: 0.4964\n",
      "Epoch 15/100\n",
      "348/348 [==============================] - 1s 2ms/step - loss: 0.2832 - val_loss: 0.4940\n",
      "Epoch 16/100\n",
      "348/348 [==============================] - 0s 1ms/step - loss: 0.2818 - val_loss: 0.5299\n",
      "Epoch 17/100\n",
      "348/348 [==============================] - 0s 1ms/step - loss: 0.2804 - val_loss: 0.5155\n",
      "Epoch 18/100\n",
      "348/348 [==============================] - 0s 1ms/step - loss: 0.3120 - val_loss: 0.5512\n"
     ]
    }
   ],
   "source": [
    "batch_size = 32\n",
    "tfrecords_train_set = tfrecord_reader_dataset(train_tfrecord_filenames,\n",
    "                                         batch_size=batch_size)\n",
    "\n",
    "tfrecords_valid_set = tfrecord_reader_dataset(valid_tfrecord_filenames,\n",
    "                                         batch_size=batch_size)\n",
    "\n",
    "tfrecords_test_set = tfrecord_reader_dataset(test_tfrecord_filenames,\n",
    "                                         batch_size=batch_size)\n",
    "\n",
    "\n",
    "\n",
    "model = keras.models.Sequential([\n",
    "    keras.layers.Dense(30, activation='relu', input_shape=[8]),\n",
    "    #最后一层一个神经元\n",
    "    keras.layers.Dense(1),\n",
    "])\n",
    "# 编译，目标函数使用均方差，优化方法使用随机梯度下降，也可以自己定义\n",
    "model.compile(loss='mean_squared_error', optimizer='sgd')\n",
    "# 使用earlystopping\n",
    "callbacks = [keras.callbacks.EarlyStopping(patience=5, min_delta=1e-3)]\n",
    "\n",
    "\n",
    "history = model.fit(tfrecords_train_set,\n",
    "                   validation_data = tfrecords_valid_set,\n",
    "                    # dataset不停的产生数据，fit函数需要知道跑多少次才是一个周期（epoch）\n",
    "                    # 即遍历一次需要多少次迭代\n",
    "                    steps_per_epoch = 11160 // batch_size,\n",
    "                    validation_steps = 3870 // batch_size,\n",
    "                   epochs=100, callbacks=callbacks)"
   ]
  },
  {
   "cell_type": "code",
   "execution_count": 34,
   "metadata": {},
   "outputs": [
    {
     "name": "stdout",
     "output_type": "stream",
     "text": [
      "161/161 [==============================] - 0s 1ms/step - loss: 0.4673\n"
     ]
    },
    {
     "data": {
      "text/plain": [
       "0.4673103103356332"
      ]
     },
     "execution_count": 34,
     "metadata": {},
     "output_type": "execute_result"
    }
   ],
   "source": [
    "model.evaluate(tfrecords_test_set,steps= 5160 // batch_size)"
   ]
  },
  {
   "cell_type": "code",
   "execution_count": null,
   "metadata": {},
   "outputs": [],
   "source": []
  }
 ],
 "metadata": {
  "kernelspec": {
   "display_name": "Python 3",
   "language": "python",
   "name": "python3"
  },
  "language_info": {
   "codemirror_mode": {
    "name": "ipython",
    "version": 3
   },
   "file_extension": ".py",
   "mimetype": "text/x-python",
   "name": "python",
   "nbconvert_exporter": "python",
   "pygments_lexer": "ipython3",
   "version": "3.7.0"
  }
 },
 "nbformat": 4,
 "nbformat_minor": 2
}
