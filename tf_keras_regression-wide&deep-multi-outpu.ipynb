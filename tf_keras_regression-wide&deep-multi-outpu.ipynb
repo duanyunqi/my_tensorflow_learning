{
 "cells": [
  {
   "cell_type": "markdown",
   "metadata": {},
   "source": [
    "这里Wide模型和Deep模型实现多输出，多输出主要针对多任务问题，而不是Wide&Deep模型所需要的\n",
    "\n",
    "例如房价问题中不仅需要预测当前房价，还需要预测一年后的房价，需要给出两个输出结果\n",
    "\n",
    "需要修改构建模型结构和模型输出数据部分"
   ]
  },
  {
   "cell_type": "code",
   "execution_count": 1,
   "metadata": {},
   "outputs": [
    {
     "name": "stdout",
     "output_type": "stream",
     "text": [
      "2.0.0-beta1\n",
      "sys.version_info(major=3, minor=7, micro=0, releaselevel='final', serial=0)\n",
      "matplotlib 2.2.3\n",
      "numpy 1.16.4\n",
      "pandas 0.23.4\n",
      "sklearn 0.19.2\n",
      "tensorflow 2.0.0-beta1\n",
      "tensorflow.python.keras.api._v2.keras 2.2.4-tf\n"
     ]
    }
   ],
   "source": [
    "# 使用tf.keras搭建回归模型，数据集使用加利福尼亚的房价预测\n",
    "#导入必要的库即版本\n",
    "\n",
    "import matplotlib as mpl\n",
    "import matplotlib.pyplot as plt\n",
    "%matplotlib inline\n",
    "import numpy as np\n",
    "import sklearn\n",
    "import pandas as pd\n",
    "import os\n",
    "import sys\n",
    "import time\n",
    "import tensorflow as tf\n",
    "\n",
    "from tensorflow import keras\n",
    "#import keras\n",
    "\n",
    "print(tf.__version__)\n",
    "print(sys.version_info)\n",
    "for module in mpl, np, pd,sklearn,tf,keras:\n",
    "    print(module.__name__, module.__version__)"
   ]
  },
  {
   "cell_type": "code",
   "execution_count": 2,
   "metadata": {},
   "outputs": [
    {
     "name": "stdout",
     "output_type": "stream",
     "text": [
      "California housing dataset.\n",
      "\n",
      "The original database is available from StatLib\n",
      "\n",
      "    http://lib.stat.cmu.edu/datasets/\n",
      "\n",
      "The data contains 20,640 observations on 9 variables.\n",
      "\n",
      "This dataset contains the average house value as target variable\n",
      "and the following input variables (features): average income,\n",
      "housing average age, average rooms, average bedrooms, population,\n",
      "average occupation, latitude, and longitude in that order.\n",
      "\n",
      "References\n",
      "----------\n",
      "\n",
      "Pace, R. Kelley and Ronald Barry, Sparse Spatial Autoregressions,\n",
      "Statistics and Probability Letters, 33 (1997) 291-297.\n",
      "\n",
      "\n",
      "(20640, 8)\n",
      "(20640,)\n"
     ]
    }
   ],
   "source": [
    "# 导入数据\n",
    "from sklearn.datasets import fetch_california_housing\n",
    "\n",
    "housing = fetch_california_housing()\n",
    "\n",
    "print(housing.DESCR)\n",
    "print(housing.data.shape)\n",
    "print(housing.target.shape)"
   ]
  },
  {
   "cell_type": "code",
   "execution_count": 3,
   "metadata": {},
   "outputs": [
    {
     "name": "stdout",
     "output_type": "stream",
     "text": [
      "array([[ 8.32520000e+00,  4.10000000e+01,  6.98412698e+00,\n",
      "         1.02380952e+00,  3.22000000e+02,  2.55555556e+00,\n",
      "         3.78800000e+01, -1.22230000e+02],\n",
      "       [ 8.30140000e+00,  2.10000000e+01,  6.23813708e+00,\n",
      "         9.71880492e-01,  2.40100000e+03,  2.10984183e+00,\n",
      "         3.78600000e+01, -1.22220000e+02],\n",
      "       [ 7.25740000e+00,  5.20000000e+01,  8.28813559e+00,\n",
      "         1.07344633e+00,  4.96000000e+02,  2.80225989e+00,\n",
      "         3.78500000e+01, -1.22240000e+02],\n",
      "       [ 5.64310000e+00,  5.20000000e+01,  5.81735160e+00,\n",
      "         1.07305936e+00,  5.58000000e+02,  2.54794521e+00,\n",
      "         3.78500000e+01, -1.22250000e+02],\n",
      "       [ 3.84620000e+00,  5.20000000e+01,  6.28185328e+00,\n",
      "         1.08108108e+00,  5.65000000e+02,  2.18146718e+00,\n",
      "         3.78500000e+01, -1.22250000e+02]])\n",
      "array([4.526, 3.585, 3.521, 3.413, 3.422])\n"
     ]
    }
   ],
   "source": [
    "# 打印数据\n",
    "import pprint\n",
    "\n",
    "pprint.pprint(housing.data[:5])\n",
    "pprint.pprint(housing.target[:5])"
   ]
  },
  {
   "cell_type": "code",
   "execution_count": 4,
   "metadata": {},
   "outputs": [
    {
     "name": "stdout",
     "output_type": "stream",
     "text": [
      "(11610, 8) (11610,)\n",
      "(3870, 8) (3870,)\n",
      "(5160, 8) (5160,)\n"
     ]
    }
   ],
   "source": [
    "# 拆分训练集、测试集、验证集\n",
    "from sklearn.model_selection import train_test_split\n",
    "\n",
    "# 默认按3：1的比例拆分\n",
    "x_train_all, x_test, y_train_all, y_test = train_test_split(housing.data, housing.target, random_state=7)\n",
    "x_train, x_valid, y_train, y_valid = train_test_split(x_train_all, y_train_all, random_state=11)\n",
    "\n",
    "print(x_train.shape, y_train.shape)\n",
    "print(x_valid.shape, y_valid.shape)\n",
    "print(x_test.shape, y_test.shape)"
   ]
  },
  {
   "cell_type": "markdown",
   "metadata": {},
   "source": [
    "### 数据归一化"
   ]
  },
  {
   "cell_type": "code",
   "execution_count": 5,
   "metadata": {},
   "outputs": [],
   "source": [
    "from sklearn.preprocessing import StandardScaler\n",
    "\n",
    "scaler = StandardScaler()\n",
    "# 训练机上获得均值和方差，测试集和验证集上用相同的均值和方差\n",
    "x_train_scaled = scaler.fit_transform(x_train)\n",
    "x_valid_scaled = scaler.transform(x_valid)\n",
    "x_test_scaled = scaler.transform(x_test)"
   ]
  },
  {
   "cell_type": "markdown",
   "metadata": {},
   "source": [
    "### 构建模型"
   ]
  },
  {
   "cell_type": "code",
   "execution_count": 6,
   "metadata": {},
   "outputs": [],
   "source": [
    "# 多输入,前5个特征作为wide模型的输入，后6个特征作为deep模型的输入,定义模型 \n",
    "input_wide = keras.layers.Input(shape=[5])\n",
    "input_deep = keras.layers.Input(shape=[6])\n",
    "hidden1 = keras.layers.Dense(30, activation='relu')(input_deep)\n",
    "hidden2 = keras.layers.Dense(30, activation='relu')(hidden1)\n",
    "concat = keras.layers.concatenate([input_wide, hidden2])\n",
    "output = keras.layers.Dense(1)(concat)\n",
    "# 在hidden2后面添加第二个输出结果\n",
    "output2 = keras.layers.Dense(1)(hidden2)\n",
    "# 修改输出数据\n",
    "model = keras.models.Model(inputs = [input_wide, input_deep], outputs=[output, output2])"
   ]
  },
  {
   "cell_type": "code",
   "execution_count": 7,
   "metadata": {},
   "outputs": [
    {
     "name": "stdout",
     "output_type": "stream",
     "text": [
      "Model: \"model\"\n",
      "__________________________________________________________________________________________________\n",
      "Layer (type)                    Output Shape         Param #     Connected to                     \n",
      "==================================================================================================\n",
      "input_2 (InputLayer)            [(None, 6)]          0                                            \n",
      "__________________________________________________________________________________________________\n",
      "dense (Dense)                   (None, 30)           210         input_2[0][0]                    \n",
      "__________________________________________________________________________________________________\n",
      "input_1 (InputLayer)            [(None, 5)]          0                                            \n",
      "__________________________________________________________________________________________________\n",
      "dense_1 (Dense)                 (None, 30)           930         dense[0][0]                      \n",
      "__________________________________________________________________________________________________\n",
      "concatenate (Concatenate)       (None, 35)           0           input_1[0][0]                    \n",
      "                                                                 dense_1[0][0]                    \n",
      "__________________________________________________________________________________________________\n",
      "dense_2 (Dense)                 (None, 1)            36          concatenate[0][0]                \n",
      "__________________________________________________________________________________________________\n",
      "dense_3 (Dense)                 (None, 1)            31          dense_1[0][0]                    \n",
      "==================================================================================================\n",
      "Total params: 1,207\n",
      "Trainable params: 1,207\n",
      "Non-trainable params: 0\n",
      "__________________________________________________________________________________________________\n"
     ]
    }
   ],
   "source": [
    "\n",
    "model.summary()\n",
    "# 编译，目标函数使用均方差，优化方法使用随机梯度下降，也可以自己定义\n",
    "model.compile(loss='mean_squared_error', optimizer='sgd')#(learning_rate=0.001)\n",
    "# 使用earlystopping\n",
    "callbacks = [keras.callbacks.EarlyStopping(patience=5, min_delta=1e-3)]"
   ]
  },
  {
   "cell_type": "code",
   "execution_count": 8,
   "metadata": {},
   "outputs": [
    {
     "name": "stdout",
     "output_type": "stream",
     "text": [
      "Train on 11610 samples, validate on 3870 samples\n",
      "Epoch 1/100\n",
      "11610/11610 [==============================] - 1s 50us/sample - loss: 2.0131 - dense_2_loss: 0.8265 - dense_3_loss: 1.1861 - val_loss: 1.1634 - val_dense_2_loss: 0.5133 - val_dense_3_loss: 0.6505\n",
      "Epoch 2/100\n",
      "11610/11610 [==============================] - 0s 34us/sample - loss: 1.0564 - dense_2_loss: 0.4730 - dense_3_loss: 0.5831 - val_loss: 1.0519 - val_dense_2_loss: 0.4522 - val_dense_3_loss: 0.5997\n",
      "Epoch 3/100\n",
      "11610/11610 [==============================] - 0s 34us/sample - loss: 0.9625 - dense_2_loss: 0.4176 - dense_3_loss: 0.5450 - val_loss: 0.9928 - val_dense_2_loss: 0.4268 - val_dense_3_loss: 0.5660\n",
      "Epoch 4/100\n",
      "11610/11610 [==============================] - 0s 34us/sample - loss: 0.9164 - dense_2_loss: 0.4026 - dense_3_loss: 0.5139 - val_loss: 0.9494 - val_dense_2_loss: 0.4111 - val_dense_3_loss: 0.5381\n",
      "Epoch 5/100\n",
      "11610/11610 [==============================] - 0s 34us/sample - loss: 0.8731 - dense_2_loss: 0.3846 - dense_3_loss: 0.4887 - val_loss: 0.9358 - val_dense_2_loss: 0.4141 - val_dense_3_loss: 0.5216\n",
      "Epoch 6/100\n",
      "11610/11610 [==============================] - 0s 35us/sample - loss: 0.8385 - dense_2_loss: 0.3728 - dense_3_loss: 0.4657 - val_loss: 0.8543 - val_dense_2_loss: 0.3884 - val_dense_3_loss: 0.4658\n",
      "Epoch 7/100\n",
      "11610/11610 [==============================] - 0s 34us/sample - loss: 0.8138 - dense_2_loss: 0.3623 - dense_3_loss: 0.4516 - val_loss: 0.8130 - val_dense_2_loss: 0.3686 - val_dense_3_loss: 0.4442\n",
      "Epoch 8/100\n",
      "11610/11610 [==============================] - 0s 32us/sample - loss: 0.7913 - dense_2_loss: 0.3540 - dense_3_loss: 0.4373 - val_loss: 0.8343 - val_dense_2_loss: 0.3933 - val_dense_3_loss: 0.4409\n",
      "Epoch 9/100\n",
      "11610/11610 [==============================] - 0s 30us/sample - loss: 0.7814 - dense_2_loss: 0.3502 - dense_3_loss: 0.4314 - val_loss: 0.7956 - val_dense_2_loss: 0.3544 - val_dense_3_loss: 0.4412\n",
      "Epoch 10/100\n",
      "11610/11610 [==============================] - 0s 31us/sample - loss: 0.7611 - dense_2_loss: 0.3421 - dense_3_loss: 0.4192 - val_loss: 0.8266 - val_dense_2_loss: 0.3632 - val_dense_3_loss: 0.4634\n",
      "Epoch 11/100\n",
      "11610/11610 [==============================] - 0s 32us/sample - loss: 0.7547 - dense_2_loss: 0.3399 - dense_3_loss: 0.4148 - val_loss: 0.7713 - val_dense_2_loss: 0.3520 - val_dense_3_loss: 0.4193\n",
      "Epoch 12/100\n",
      "11610/11610 [==============================] - 0s 38us/sample - loss: 0.7524 - dense_2_loss: 0.3397 - dense_3_loss: 0.4126 - val_loss: 0.8187 - val_dense_2_loss: 0.3684 - val_dense_3_loss: 0.4502\n",
      "Epoch 13/100\n",
      "11610/11610 [==============================] - 0s 36us/sample - loss: 0.7666 - dense_2_loss: 0.3500 - dense_3_loss: 0.4167 - val_loss: 0.7362 - val_dense_2_loss: 0.3352 - val_dense_3_loss: 0.4009\n",
      "Epoch 14/100\n",
      "11610/11610 [==============================] - 0s 31us/sample - loss: 0.7461 - dense_2_loss: 0.3407 - dense_3_loss: 0.4053 - val_loss: 0.7356 - val_dense_2_loss: 0.3363 - val_dense_3_loss: 0.3993\n",
      "Epoch 15/100\n",
      "11610/11610 [==============================] - 0s 32us/sample - loss: 0.7299 - dense_2_loss: 0.3310 - dense_3_loss: 0.3989 - val_loss: 0.7293 - val_dense_2_loss: 0.3315 - val_dense_3_loss: 0.3977\n",
      "Epoch 16/100\n",
      "11610/11610 [==============================] - 0s 34us/sample - loss: 0.7245 - dense_2_loss: 0.3309 - dense_3_loss: 0.3936 - val_loss: 0.7503 - val_dense_2_loss: 0.3453 - val_dense_3_loss: 0.4052\n",
      "Epoch 17/100\n",
      "11610/11610 [==============================] - 0s 33us/sample - loss: 0.7332 - dense_2_loss: 0.3311 - dense_3_loss: 0.4019 - val_loss: 0.7461 - val_dense_2_loss: 0.3407 - val_dense_3_loss: 0.4055\n",
      "Epoch 18/100\n",
      "11610/11610 [==============================] - 0s 31us/sample - loss: 0.7165 - dense_2_loss: 0.3260 - dense_3_loss: 0.3903 - val_loss: 0.7535 - val_dense_2_loss: 0.3471 - val_dense_3_loss: 0.4063\n",
      "Epoch 19/100\n",
      "11610/11610 [==============================] - 0s 31us/sample - loss: 0.7165 - dense_2_loss: 0.3265 - dense_3_loss: 0.3907 - val_loss: 0.8051 - val_dense_2_loss: 0.3663 - val_dense_3_loss: 0.4388\n",
      "Epoch 20/100\n",
      "11610/11610 [==============================] - 0s 31us/sample - loss: 0.7102 - dense_2_loss: 0.3228 - dense_3_loss: 0.3873 - val_loss: 0.7244 - val_dense_2_loss: 0.3337 - val_dense_3_loss: 0.3906\n",
      "Epoch 21/100\n",
      "11610/11610 [==============================] - 0s 31us/sample - loss: 0.7106 - dense_2_loss: 0.3239 - dense_3_loss: 0.3865 - val_loss: 0.7219 - val_dense_2_loss: 0.3330 - val_dense_3_loss: 0.3887\n",
      "Epoch 22/100\n",
      "11610/11610 [==============================] - 0s 31us/sample - loss: 0.6995 - dense_2_loss: 0.3195 - dense_3_loss: 0.3805 - val_loss: 0.7220 - val_dense_2_loss: 0.3296 - val_dense_3_loss: 0.3922\n",
      "Epoch 23/100\n",
      "11610/11610 [==============================] - 0s 32us/sample - loss: 0.6993 - dense_2_loss: 0.3187 - dense_3_loss: 0.3805 - val_loss: 0.6998 - val_dense_2_loss: 0.3232 - val_dense_3_loss: 0.3765\n",
      "Epoch 24/100\n",
      "11610/11610 [==============================] - 0s 31us/sample - loss: 0.6948 - dense_2_loss: 0.3170 - dense_3_loss: 0.3776 - val_loss: 0.7272 - val_dense_2_loss: 0.3365 - val_dense_3_loss: 0.3906\n",
      "Epoch 25/100\n",
      "11610/11610 [==============================] - 0s 35us/sample - loss: 0.6920 - dense_2_loss: 0.3165 - dense_3_loss: 0.3755 - val_loss: 0.7950 - val_dense_2_loss: 0.3598 - val_dense_3_loss: 0.4354\n",
      "Epoch 26/100\n",
      "11610/11610 [==============================] - 0s 31us/sample - loss: 0.6926 - dense_2_loss: 0.3168 - dense_3_loss: 0.3759 - val_loss: 0.6985 - val_dense_2_loss: 0.3209 - val_dense_3_loss: 0.3783\n",
      "Epoch 27/100\n",
      "11610/11610 [==============================] - 0s 34us/sample - loss: 0.6918 - dense_2_loss: 0.3164 - dense_3_loss: 0.3757 - val_loss: 0.8125 - val_dense_2_loss: 0.4181 - val_dense_3_loss: 0.3945\n",
      "Epoch 28/100\n",
      "11610/11610 [==============================] - 0s 33us/sample - loss: 0.6913 - dense_2_loss: 0.3179 - dense_3_loss: 0.3733 - val_loss: 0.7159 - val_dense_2_loss: 0.3281 - val_dense_3_loss: 0.3880\n",
      "Epoch 29/100\n",
      "11610/11610 [==============================] - 0s 30us/sample - loss: 0.6861 - dense_2_loss: 0.3152 - dense_3_loss: 0.3710 - val_loss: 0.7107 - val_dense_2_loss: 0.3280 - val_dense_3_loss: 0.3828\n",
      "Epoch 30/100\n",
      "11610/11610 [==============================] - 0s 34us/sample - loss: 0.6875 - dense_2_loss: 0.3156 - dense_3_loss: 0.3718 - val_loss: 0.6887 - val_dense_2_loss: 0.3187 - val_dense_3_loss: 0.3698\n",
      "Epoch 31/100\n",
      "11610/11610 [==============================] - 0s 32us/sample - loss: 0.6788 - dense_2_loss: 0.3124 - dense_3_loss: 0.3663 - val_loss: 0.6814 - val_dense_2_loss: 0.3159 - val_dense_3_loss: 0.3654\n",
      "Epoch 32/100\n",
      "11610/11610 [==============================] - 0s 32us/sample - loss: 0.6808 - dense_2_loss: 0.3135 - dense_3_loss: 0.3671 - val_loss: 0.7076 - val_dense_2_loss: 0.3241 - val_dense_3_loss: 0.3834\n",
      "Epoch 33/100\n",
      "11610/11610 [==============================] - 0s 30us/sample - loss: 0.6766 - dense_2_loss: 0.3105 - dense_3_loss: 0.3661 - val_loss: 0.7192 - val_dense_2_loss: 0.3273 - val_dense_3_loss: 0.3920\n",
      "Epoch 34/100\n",
      "11610/11610 [==============================] - 0s 31us/sample - loss: 0.6744 - dense_2_loss: 0.3094 - dense_3_loss: 0.3652 - val_loss: 0.7003 - val_dense_2_loss: 0.3184 - val_dense_3_loss: 0.3819\n",
      "Epoch 35/100\n",
      "11610/11610 [==============================] - 0s 31us/sample - loss: 0.6679 - dense_2_loss: 0.3067 - dense_3_loss: 0.3612 - val_loss: 0.6801 - val_dense_2_loss: 0.3136 - val_dense_3_loss: 0.3665\n",
      "Epoch 36/100\n",
      "11610/11610 [==============================] - 0s 28us/sample - loss: 0.6728 - dense_2_loss: 0.3097 - dense_3_loss: 0.3630 - val_loss: 0.6667 - val_dense_2_loss: 0.3082 - val_dense_3_loss: 0.3583\n",
      "Epoch 37/100\n",
      "11610/11610 [==============================] - 0s 31us/sample - loss: 0.6639 - dense_2_loss: 0.3051 - dense_3_loss: 0.3587 - val_loss: 0.6873 - val_dense_2_loss: 0.3173 - val_dense_3_loss: 0.3699\n",
      "Epoch 38/100\n",
      "11610/11610 [==============================] - 0s 28us/sample - loss: 0.6663 - dense_2_loss: 0.3078 - dense_3_loss: 0.3587 - val_loss: 0.7198 - val_dense_2_loss: 0.3330 - val_dense_3_loss: 0.3867\n",
      "Epoch 39/100\n",
      "11610/11610 [==============================] - 0s 30us/sample - loss: 0.6611 - dense_2_loss: 0.3043 - dense_3_loss: 0.3570 - val_loss: 0.6869 - val_dense_2_loss: 0.3159 - val_dense_3_loss: 0.3712\n",
      "Epoch 40/100\n"
     ]
    },
    {
     "name": "stdout",
     "output_type": "stream",
     "text": [
      "11610/11610 [==============================] - 0s 30us/sample - loss: 0.6611 - dense_2_loss: 0.3045 - dense_3_loss: 0.3567 - val_loss: 0.6880 - val_dense_2_loss: 0.3182 - val_dense_3_loss: 0.3700\n",
      "Epoch 41/100\n",
      "11610/11610 [==============================] - 0s 30us/sample - loss: 0.6598 - dense_2_loss: 0.3035 - dense_3_loss: 0.3565 - val_loss: 0.7222 - val_dense_2_loss: 0.3301 - val_dense_3_loss: 0.3919\n"
     ]
    }
   ],
   "source": [
    "# 输入数据也需要重新定义\n",
    "x_train_scaled_wide = x_train_scaled[:, :5]\n",
    "x_train_scaled_deep = x_train_scaled[:, 2:]\n",
    "x_valid_scaled_wide = x_valid_scaled[:, :5]\n",
    "x_valid_scaled_deep = x_valid_scaled[:, 2:]\n",
    "x_test_scaled_wide = x_test_scaled[:, :5]\n",
    "x_test_scaled_deep = x_test_scaled[:, 2:]\n",
    "\n",
    "history = model.fit([x_train_scaled_wide, x_train_scaled_deep]\n",
    "                    , [y_train, y_train],\n",
    "                   validation_data = (\n",
    "                       [x_valid_scaled_wide, x_valid_scaled_deep]\n",
    "                       , [y_valid, y_valid]),\n",
    "                   epochs=100, callbacks=callbacks)"
   ]
  },
  {
   "cell_type": "code",
   "execution_count": 9,
   "metadata": {},
   "outputs": [
    {
     "data": {
      "image/png": "[encoded data removed]",
      "text/plain": [
       "<Figure size 576x360 with 1 Axes>"
      ]
     },
     "metadata": {
      "needs_background": "light"
     },
     "output_type": "display_data"
    }
   ],
   "source": [
    "def plot_learning_curves(history):\n",
    "    pd.DataFrame(history.history).plot(figsize=(8,5))\n",
    "    plt.grid(True)\n",
    "    plt.gca().set_ylim(0,1)\n",
    "    plt.show()\n",
    "    \n",
    "plot_learning_curves(history)"
   ]
  },
  {
   "cell_type": "code",
   "execution_count": 10,
   "metadata": {},
   "outputs": [
    {
     "name": "stdout",
     "output_type": "stream",
     "text": [
      "5160/5160 [==============================] - 0s 20us/sample - loss: 0.7252 - dense_2_loss: 0.3360 - dense_3_loss: 0.3900\n"
     ]
    },
    {
     "data": {
      "text/plain": [
       "[0.7251813641814299, 0.33598536, 0.39002928]"
      ]
     },
     "execution_count": 10,
     "metadata": {},
     "output_type": "execute_result"
    }
   ],
   "source": [
    "model.evaluate([x_test_scaled_wide, x_test_scaled_deep], [y_test, y_test])"
   ]
  },
  {
   "cell_type": "markdown",
   "metadata": {},
   "source": [
    "前两个值为后两个值的和"
   ]
  },
  {
   "cell_type": "code",
   "execution_count": null,
   "metadata": {},
   "outputs": [],
   "source": []
  }
 ],
 "metadata": {
  "kernelspec": {
   "display_name": "Python 3",
   "language": "python",
   "name": "python3"
  },
  "language_info": {
   "codemirror_mode": {
    "name": "ipython",
    "version": 3
   },
   "file_extension": ".py",
   "mimetype": "text/x-python",
   "name": "python",
   "nbconvert_exporter": "python",
   "pygments_lexer": "ipython3",
   "version": "3.7.0"
  }
 },
 "nbformat": 4,
 "nbformat_minor": 2
}
