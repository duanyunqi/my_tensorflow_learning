{
 "cells": [
  {
   "cell_type": "markdown",
   "metadata": {},
   "source": [
    "## 数据归一化\n",
    "清除一些用来展示的代码，清空之前的运行结果"
   ]
  },
  {
   "cell_type": "markdown",
   "metadata": {},
   "source": [
    "### 数据读取与展示"
   ]
  },
  {
   "cell_type": "code",
   "execution_count": 1,
   "metadata": {},
   "outputs": [
    {
     "name": "stdout",
     "output_type": "stream",
     "text": [
      "2.0.0-beta1\n",
      "sys.version_info(major=3, minor=7, micro=0, releaselevel='final', serial=0)\n",
      "matplotlib 2.2.3\n",
      "numpy 1.16.4\n",
      "pandas 0.23.4\n",
      "sklearn 0.19.2\n",
      "tensorflow 2.0.0-beta1\n",
      "tensorflow.python.keras.api._v2.keras 2.2.4-tf\n"
     ]
    }
   ],
   "source": [
    "# 使用tf.keras搭建分类模型\n",
    "#导入必要的库即版本\n",
    "\n",
    "import matplotlib as mpl\n",
    "import matplotlib.pyplot as plt\n",
    "%matplotlib inline\n",
    "import numpy as np\n",
    "import sklearn\n",
    "import pandas as pd\n",
    "import os\n",
    "import sys\n",
    "import time\n",
    "import tensorflow as tf\n",
    "\n",
    "from tensorflow import keras\n",
    "#import keras\n",
    "\n",
    "print(tf.__version__)\n",
    "print(sys.version_info)\n",
    "for module in mpl, np, pd,sklearn,tf,keras:\n",
    "    print(module.__name__, module.__version__)"
   ]
  },
  {
   "cell_type": "code",
   "execution_count": 2,
   "metadata": {},
   "outputs": [
    {
     "name": "stdout",
     "output_type": "stream",
     "text": [
      "(55000, 28, 28) (5000,)\n",
      "(5000, 28, 28) (5000,)\n",
      "(10000, 28, 28) (10000,)\n"
     ]
    }
   ],
   "source": [
    "#导入数据集并拆分数据集\n",
    "fashion_mnist = keras.datasets.fashion_mnist\n",
    "(x_train_all, y_train_all), (x_test, y_test) = fashion_mnist.load_data()\n",
    "x_valid, x_train = x_train_all[:5000], x_train_all[5000:]\n",
    "y_valid, y_train = y_train_all[:5000], y_train_all[5000:]\n",
    "\n",
    "print(x_train.shape, y_valid.shape)\n",
    "print(x_valid.shape, y_valid.shape)\n",
    "print(x_test.shape, y_test.shape)"
   ]
  },
  {
   "cell_type": "code",
   "execution_count": 3,
   "metadata": {},
   "outputs": [
    {
     "name": "stdout",
     "output_type": "stream",
     "text": [
      "255 0\n"
     ]
    }
   ],
   "source": [
    "print(np.max(x_train), np.min(x_train))"
   ]
  },
  {
   "cell_type": "markdown",
   "metadata": {},
   "source": [
    "### 增加代码归一化"
   ]
  },
  {
   "cell_type": "code",
   "execution_count": 4,
   "metadata": {},
   "outputs": [],
   "source": [
    "# 归一化方法：x = (x - u) / std 均值，方差\n",
    "\n",
    "from sklearn.preprocessing import StandardScaler\n",
    "\n",
    "scaler = StandardScaler()\n",
    "# x_train:[None, 28, 28] -> [None, 784]\n",
    "# 除了transform功能还有fit的功能（记住训练集的均值方差），验证集和测试集需要使用训练集的均值和方差\n",
    "x_train_scaled = scaler.fit_transform(\n",
    "    x_train.astype(np.float32).reshape(-1,1)).reshape(-1,28,28)\n",
    "\n",
    "x_valid_scaled = scaler.transform(x_valid.astype(np.float32).reshape(-1,1)).reshape(-1,28,28)\n",
    "\n",
    "x_test_scaled = scaler.transform(x_test.astype(np.float32).reshape(-1,1)).reshape(-1,28,28)"
   ]
  },
  {
   "cell_type": "code",
   "execution_count": 5,
   "metadata": {},
   "outputs": [
    {
     "name": "stdout",
     "output_type": "stream",
     "text": [
      "2.023144 -0.81051385\n"
     ]
    }
   ],
   "source": [
    "print(np.max(x_train_scaled), np.min(x_train_scaled))"
   ]
  },
  {
   "cell_type": "markdown",
   "metadata": {},
   "source": [
    "### 模型构建\n",
    "不同版本API，代码不尽相同"
   ]
  },
  {
   "cell_type": "code",
   "execution_count": 6,
   "metadata": {},
   "outputs": [],
   "source": [
    "# 使用tf.keras.model.Sequential()构建模型\n",
    "\n",
    "# 创建Sequential对象\n",
    "model = keras.models.Sequential()\n",
    "# 添加输入层,将输入图片展平，将28X28的矩阵展开为一维向量\n",
    "model.add(keras.layers.Flatten(input_shape=[28, 28]))\n",
    "# 添加全连接层，神经元设为300，激活函数为‘relu’\n",
    "model.add(keras.layers.Dense(300, activation='relu'))\n",
    "model.add(keras.layers.Dense(100, activation='relu'))\n",
    "# 添加输出，长度为10的向量，激活函数为'softmax'\n",
    "model.add(keras.layers.Dense(10, activation='softmax'))\n",
    "\n",
    "# 另外一种写法\n",
    "#model = keras.models.Sequential([\n",
    "#    keras.layers.Flatten(input_shape=[28,28]),\n",
    "#    keras.layers.Dense(300, activation='relu'),\n",
    "#    keras.layers.Dense(100, activation='relu'),\n",
    "#    keras.layers.Dense(10, activation='softmax')\n",
    "#])\n",
    "\n",
    "# relu: y=max(0,x)\n",
    "# softmax: 将向量变成概率分布，x = [x1, x2, x3],三个数加起来为1\n",
    "#          y = [e^x1/sum, e^x2/sum, e^x3/sum], sum=e^x1+e^x2+e^x3\n",
    "\n",
    "# 计算目标函数\n",
    "# 损失函数使用'sparse_categorical_crossentropy'，即交叉熵，categorical类别\n",
    "# reason for sparse: y_valid是长度等于样本数目的一个向量，y只是一个index值使用'sparse_categorical_crossentropy'\n",
    "# y->one hot->[]将y转换为向量使用'categorical_crossentropy'\n",
    "# 2.0版本可以直接使用optimizer='sgd',学习率的默认值不同\n",
    "model.compile(loss='sparse_categorical_crossentropy',\n",
    "             optimizer='sgd', metrics=['accuracy'])"
   ]
  },
  {
   "cell_type": "code",
   "execution_count": 7,
   "metadata": {},
   "outputs": [
    {
     "name": "stderr",
     "output_type": "stream",
     "text": [
      "WARNING: Logging before flag parsing goes to stderr.\n",
      "W0716 22:56:36.870329  8796 deprecation.py:323] From D:\\SoftWare\\Anaconda3\\lib\\site-packages\\tensorflow\\python\\ops\\math_grad.py:1250: add_dispatch_support.<locals>.wrapper (from tensorflow.python.ops.array_ops) is deprecated and will be removed in a future version.\n",
      "Instructions for updating:\n",
      "Use tf.where in 2.0, which has the same broadcast rule as np.where\n"
     ]
    },
    {
     "name": "stdout",
     "output_type": "stream",
     "text": [
      "Train on 55000 samples, validate on 5000 samples\n",
      "Epoch 1/10\n",
      "55000/55000 [==============================] - 3s 63us/sample - loss: 0.5308 - accuracy: 0.8107 - val_loss: 0.4050 - val_accuracy: 0.8590\n",
      "Epoch 2/10\n",
      "55000/55000 [==============================] - 3s 63us/sample - loss: 0.3876 - accuracy: 0.8605 - val_loss: 0.3788 - val_accuracy: 0.8634\n",
      "Epoch 3/10\n",
      "55000/55000 [==============================] - 3s 58us/sample - loss: 0.3513 - accuracy: 0.8727 - val_loss: 0.3467 - val_accuracy: 0.8788\n",
      "Epoch 4/10\n",
      "55000/55000 [==============================] - 4s 66us/sample - loss: 0.3267 - accuracy: 0.8808 - val_loss: 0.3429 - val_accuracy: 0.8744\n",
      "Epoch 5/10\n",
      "55000/55000 [==============================] - 4s 67us/sample - loss: 0.3077 - accuracy: 0.8890 - val_loss: 0.3294 - val_accuracy: 0.8810\n",
      "Epoch 6/10\n",
      "55000/55000 [==============================] - 4s 72us/sample - loss: 0.2908 - accuracy: 0.8940 - val_loss: 0.3131 - val_accuracy: 0.8892\n",
      "Epoch 7/10\n",
      "55000/55000 [==============================] - 4s 71us/sample - loss: 0.2779 - accuracy: 0.8994 - val_loss: 0.3041 - val_accuracy: 0.8922\n",
      "Epoch 8/10\n",
      "55000/55000 [==============================] - 4s 67us/sample - loss: 0.2673 - accuracy: 0.9014 - val_loss: 0.3112 - val_accuracy: 0.8860\n",
      "Epoch 9/10\n",
      "55000/55000 [==============================] - 4s 73us/sample - loss: 0.2556 - accuracy: 0.9070 - val_loss: 0.3213 - val_accuracy: 0.8842\n",
      "Epoch 10/10\n",
      "55000/55000 [==============================] - 4s 71us/sample - loss: 0.2456 - accuracy: 0.9109 - val_loss: 0.2947 - val_accuracy: 0.8940\n"
     ]
    }
   ],
   "source": [
    "# 开启训练fit函数\n",
    "# epochs训练次数，history返回为中间运算的一些结果\n",
    "history = model.fit(x_train_scaled, y_train, epochs=10,\n",
    "         validation_data=(x_valid_scaled,y_valid))"
   ]
  },
  {
   "cell_type": "code",
   "execution_count": 8,
   "metadata": {},
   "outputs": [
    {
     "data": {
      "image/png": "[encoded data removed]",
      "text/plain": [
       "<Figure size 576x360 with 1 Axes>"
      ]
     },
     "metadata": {
      "needs_background": "light"
     },
     "output_type": "display_data"
    }
   ],
   "source": [
    "# 将history中的值可视化出来\n",
    "def plot_learning_curves(history):\n",
    "    #直接转换为DataFrame\n",
    "    pd.DataFrame(history.history).plot(figsize=(8, 5))\n",
    "    # 显示网格\n",
    "    plt.grid(True)\n",
    "    # 设置坐标轴范围\n",
    "    plt.gca().set_ylim(0, 1)\n",
    "    plt.show()\n",
    "    \n",
    "plot_learning_curves(history)"
   ]
  },
  {
   "cell_type": "code",
   "execution_count": 9,
   "metadata": {},
   "outputs": [
    {
     "name": "stdout",
     "output_type": "stream",
     "text": [
      "10000/10000 [==============================] - 0s 32us/sample - loss: 0.3277 - accuracy: 0.8826\n"
     ]
    },
    {
     "data": {
      "text/plain": [
       "[0.3277453017234802, 0.8826]"
      ]
     },
     "execution_count": 9,
     "metadata": {},
     "output_type": "execute_result"
    }
   ],
   "source": [
    "model.evaluate(x_test_scaled, y_test)"
   ]
  },
  {
   "cell_type": "code",
   "execution_count": null,
   "metadata": {},
   "outputs": [],
   "source": []
  }
 ],
 "metadata": {
  "kernelspec": {
   "display_name": "Python 3",
   "language": "python",
   "name": "python3"
  },
  "language_info": {
   "codemirror_mode": {
    "name": "ipython",
    "version": 3
   },
   "file_extension": ".py",
   "mimetype": "text/x-python",
   "name": "python",
   "nbconvert_exporter": "python",
   "pygments_lexer": "ipython3",
   "version": "3.7.0"
  }
 },
 "nbformat": 4,
 "nbformat_minor": 2
}
