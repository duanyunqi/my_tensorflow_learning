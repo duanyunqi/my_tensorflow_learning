{
 "cells": [
  {
   "cell_type": "markdown",
   "metadata": {},
   "source": [
    "这里Wide模型和Deep模型的输入不同，即多输入\n",
    "\n",
    "需要修改构建模型结构和模型输入数据部分"
   ]
  },
  {
   "cell_type": "code",
   "execution_count": 13,
   "metadata": {},
   "outputs": [
    {
     "name": "stdout",
     "output_type": "stream",
     "text": [
      "2.0.0-beta1\n",
      "sys.version_info(major=3, minor=7, micro=0, releaselevel='final', serial=0)\n",
      "matplotlib 2.2.3\n",
      "numpy 1.16.4\n",
      "pandas 0.23.4\n",
      "sklearn 0.19.2\n",
      "tensorflow 2.0.0-beta1\n",
      "tensorflow.python.keras.api._v2.keras 2.2.4-tf\n"
     ]
    }
   ],
   "source": [
    "# 使用tf.keras搭建回归模型，数据集使用加利福尼亚的房价预测\n",
    "#导入必要的库即版本\n",
    "\n",
    "import matplotlib as mpl\n",
    "import matplotlib.pyplot as plt\n",
    "%matplotlib inline\n",
    "import numpy as np\n",
    "import sklearn\n",
    "import pandas as pd\n",
    "import os\n",
    "import sys\n",
    "import time\n",
    "import tensorflow as tf\n",
    "\n",
    "from tensorflow import keras\n",
    "#import keras\n",
    "\n",
    "print(tf.__version__)\n",
    "print(sys.version_info)\n",
    "for module in mpl, np, pd,sklearn,tf,keras:\n",
    "    print(module.__name__, module.__version__)"
   ]
  },
  {
   "cell_type": "code",
   "execution_count": 2,
   "metadata": {},
   "outputs": [
    {
     "name": "stdout",
     "output_type": "stream",
     "text": [
      "California housing dataset.\n",
      "\n",
      "The original database is available from StatLib\n",
      "\n",
      "    http://lib.stat.cmu.edu/datasets/\n",
      "\n",
      "The data contains 20,640 observations on 9 variables.\n",
      "\n",
      "This dataset contains the average house value as target variable\n",
      "and the following input variables (features): average income,\n",
      "housing average age, average rooms, average bedrooms, population,\n",
      "average occupation, latitude, and longitude in that order.\n",
      "\n",
      "References\n",
      "----------\n",
      "\n",
      "Pace, R. Kelley and Ronald Barry, Sparse Spatial Autoregressions,\n",
      "Statistics and Probability Letters, 33 (1997) 291-297.\n",
      "\n",
      "\n",
      "(20640, 8)\n",
      "(20640,)\n"
     ]
    }
   ],
   "source": [
    "# 导入数据\n",
    "from sklearn.datasets import fetch_california_housing\n",
    "\n",
    "housing = fetch_california_housing()\n",
    "\n",
    "print(housing.DESCR)\n",
    "print(housing.data.shape)\n",
    "print(housing.target.shape)"
   ]
  },
  {
   "cell_type": "code",
   "execution_count": 3,
   "metadata": {},
   "outputs": [
    {
     "name": "stdout",
     "output_type": "stream",
     "text": [
      "array([[ 8.32520000e+00,  4.10000000e+01,  6.98412698e+00,\n",
      "         1.02380952e+00,  3.22000000e+02,  2.55555556e+00,\n",
      "         3.78800000e+01, -1.22230000e+02],\n",
      "       [ 8.30140000e+00,  2.10000000e+01,  6.23813708e+00,\n",
      "         9.71880492e-01,  2.40100000e+03,  2.10984183e+00,\n",
      "         3.78600000e+01, -1.22220000e+02],\n",
      "       [ 7.25740000e+00,  5.20000000e+01,  8.28813559e+00,\n",
      "         1.07344633e+00,  4.96000000e+02,  2.80225989e+00,\n",
      "         3.78500000e+01, -1.22240000e+02],\n",
      "       [ 5.64310000e+00,  5.20000000e+01,  5.81735160e+00,\n",
      "         1.07305936e+00,  5.58000000e+02,  2.54794521e+00,\n",
      "         3.78500000e+01, -1.22250000e+02],\n",
      "       [ 3.84620000e+00,  5.20000000e+01,  6.28185328e+00,\n",
      "         1.08108108e+00,  5.65000000e+02,  2.18146718e+00,\n",
      "         3.78500000e+01, -1.22250000e+02]])\n",
      "array([4.526, 3.585, 3.521, 3.413, 3.422])\n"
     ]
    }
   ],
   "source": [
    "# 打印数据\n",
    "import pprint\n",
    "\n",
    "pprint.pprint(housing.data[:5])\n",
    "pprint.pprint(housing.target[:5])"
   ]
  },
  {
   "cell_type": "code",
   "execution_count": 4,
   "metadata": {},
   "outputs": [
    {
     "name": "stdout",
     "output_type": "stream",
     "text": [
      "(11610, 8) (11610,)\n",
      "(3870, 8) (3870,)\n",
      "(5160, 8) (5160,)\n"
     ]
    }
   ],
   "source": [
    "# 拆分训练集、测试集、验证集\n",
    "from sklearn.model_selection import train_test_split\n",
    "\n",
    "# 默认按3：1的比例拆分\n",
    "x_train_all, x_test, y_train_all, y_test = train_test_split(housing.data, housing.target, random_state=7)\n",
    "x_train, x_valid, y_train, y_valid = train_test_split(x_train_all, y_train_all, random_state=11)\n",
    "\n",
    "print(x_train.shape, y_train.shape)\n",
    "print(x_valid.shape, y_valid.shape)\n",
    "print(x_test.shape, y_test.shape)"
   ]
  },
  {
   "cell_type": "markdown",
   "metadata": {},
   "source": [
    "### 数据归一化"
   ]
  },
  {
   "cell_type": "code",
   "execution_count": 5,
   "metadata": {},
   "outputs": [],
   "source": [
    "from sklearn.preprocessing import StandardScaler\n",
    "\n",
    "scaler = StandardScaler()\n",
    "# 训练机上获得均值和方差，测试集和验证集上用相同的均值和方差\n",
    "x_train_scaled = scaler.fit_transform(x_train)\n",
    "x_valid_scaled = scaler.transform(x_valid)\n",
    "x_test_scaled = scaler.transform(x_test)"
   ]
  },
  {
   "cell_type": "markdown",
   "metadata": {},
   "source": [
    "### 构建模型"
   ]
  },
  {
   "cell_type": "code",
   "execution_count": 8,
   "metadata": {},
   "outputs": [],
   "source": [
    "# 多输入,前5个特征作为wide模型的输入，后6个特征作为deep模型的输入,定义模型 \n",
    "input_wide = keras.layers.Input(shape=[5])\n",
    "input_deep = keras.layers.Input(shape=[6])\n",
    "hidden1 = keras.layers.Dense(30, activation='relu')(input_deep)\n",
    "hidden2 = keras.layers.Dense(30, activation='relu')(hidden1)\n",
    "concat = keras.layers.concatenate([input_wide, hidden2])\n",
    "output = keras.layers.Dense(1)(concat)\n",
    "model = keras.models.Model(inputs = [input_wide, input_deep], outputs=[output])"
   ]
  },
  {
   "cell_type": "code",
   "execution_count": 9,
   "metadata": {},
   "outputs": [
    {
     "name": "stdout",
     "output_type": "stream",
     "text": [
      "Model: \"model\"\n",
      "__________________________________________________________________________________________________\n",
      "Layer (type)                    Output Shape         Param #     Connected to                     \n",
      "==================================================================================================\n",
      "input_6 (InputLayer)            [(None, 6)]          0                                            \n",
      "__________________________________________________________________________________________________\n",
      "dense_6 (Dense)                 (None, 30)           210         input_6[0][0]                    \n",
      "__________________________________________________________________________________________________\n",
      "input_5 (InputLayer)            [(None, 5)]          0                                            \n",
      "__________________________________________________________________________________________________\n",
      "dense_7 (Dense)                 (None, 30)           930         dense_6[0][0]                    \n",
      "__________________________________________________________________________________________________\n",
      "concatenate_2 (Concatenate)     (None, 35)           0           input_5[0][0]                    \n",
      "                                                                 dense_7[0][0]                    \n",
      "__________________________________________________________________________________________________\n",
      "dense_8 (Dense)                 (None, 1)            36          concatenate_2[0][0]              \n",
      "==================================================================================================\n",
      "Total params: 1,176\n",
      "Trainable params: 1,176\n",
      "Non-trainable params: 0\n",
      "__________________________________________________________________________________________________\n"
     ]
    }
   ],
   "source": [
    "\n",
    "model.summary()\n",
    "# 编译，目标函数使用均方差，优化方法使用随机梯度下降，也可以自己定义\n",
    "model.compile(loss='mean_squared_error', optimizer='sgd')#(learning_rate=0.001)\n",
    "# 使用earlystopping\n",
    "callbacks = [keras.callbacks.EarlyStopping(patience=5, min_delta=1e-3)]"
   ]
  },
  {
   "cell_type": "code",
   "execution_count": 10,
   "metadata": {},
   "outputs": [
    {
     "name": "stdout",
     "output_type": "stream",
     "text": [
      "Train on 11610 samples, validate on 3870 samples\n",
      "Epoch 1/100\n",
      "11610/11610 [==============================] - 0s 38us/sample - loss: 1.1565 - val_loss: 0.6290\n",
      "Epoch 2/100\n",
      "11610/11610 [==============================] - 0s 30us/sample - loss: 0.5976 - val_loss: 0.5562\n",
      "Epoch 3/100\n",
      "11610/11610 [==============================] - 0s 31us/sample - loss: 0.4878 - val_loss: 0.4964\n",
      "Epoch 4/100\n",
      "11610/11610 [==============================] - 0s 28us/sample - loss: 0.4782 - val_loss: 0.4738\n",
      "Epoch 5/100\n",
      "11610/11610 [==============================] - 0s 30us/sample - loss: 0.4324 - val_loss: 0.4458\n",
      "Epoch 6/100\n",
      "11610/11610 [==============================] - 0s 30us/sample - loss: 0.4195 - val_loss: 0.4365\n",
      "Epoch 7/100\n",
      "11610/11610 [==============================] - 0s 30us/sample - loss: 0.4079 - val_loss: 0.4413\n",
      "Epoch 8/100\n",
      "11610/11610 [==============================] - 0s 31us/sample - loss: 0.4023 - val_loss: 0.4171\n",
      "Epoch 9/100\n",
      "11610/11610 [==============================] - 0s 30us/sample - loss: 0.3930 - val_loss: 0.4023\n",
      "Epoch 10/100\n",
      "11610/11610 [==============================] - 0s 37us/sample - loss: 0.3867 - val_loss: 0.4021\n",
      "Epoch 11/100\n",
      "11610/11610 [==============================] - 0s 38us/sample - loss: 0.3852 - val_loss: 0.3982\n",
      "Epoch 12/100\n",
      "11610/11610 [==============================] - 0s 34us/sample - loss: 0.3745 - val_loss: 0.3866\n",
      "Epoch 13/100\n",
      "11610/11610 [==============================] - 0s 31us/sample - loss: 0.3701 - val_loss: 0.3893\n",
      "Epoch 14/100\n",
      "11610/11610 [==============================] - 0s 32us/sample - loss: 0.3654 - val_loss: 0.3829\n",
      "Epoch 15/100\n",
      "11610/11610 [==============================] - 0s 32us/sample - loss: 0.3618 - val_loss: 0.3794\n",
      "Epoch 16/100\n",
      "11610/11610 [==============================] - 0s 30us/sample - loss: 0.3592 - val_loss: 0.3744\n",
      "Epoch 17/100\n",
      "11610/11610 [==============================] - 0s 32us/sample - loss: 0.3675 - val_loss: 0.3723\n",
      "Epoch 18/100\n",
      "11610/11610 [==============================] - 0s 32us/sample - loss: 0.3524 - val_loss: 0.3705\n",
      "Epoch 19/100\n",
      "11610/11610 [==============================] - 0s 31us/sample - loss: 0.3524 - val_loss: 0.3622\n",
      "Epoch 20/100\n",
      "11610/11610 [==============================] - 0s 32us/sample - loss: 0.3482 - val_loss: 0.3574\n",
      "Epoch 21/100\n",
      "11610/11610 [==============================] - 0s 31us/sample - loss: 0.3464 - val_loss: 0.3573\n",
      "Epoch 22/100\n",
      "11610/11610 [==============================] - 0s 33us/sample - loss: 0.3429 - val_loss: 0.4707\n",
      "Epoch 23/100\n",
      "11610/11610 [==============================] - 0s 31us/sample - loss: 0.3463 - val_loss: 0.3563\n",
      "Epoch 24/100\n",
      "11610/11610 [==============================] - 0s 31us/sample - loss: 0.3399 - val_loss: 0.3541\n",
      "Epoch 25/100\n",
      "11610/11610 [==============================] - 0s 30us/sample - loss: 0.3379 - val_loss: 0.3482\n",
      "Epoch 26/100\n",
      "11610/11610 [==============================] - 0s 35us/sample - loss: 0.3356 - val_loss: 0.3444\n",
      "Epoch 27/100\n",
      "11610/11610 [==============================] - 0s 31us/sample - loss: 0.3338 - val_loss: 0.3417\n",
      "Epoch 28/100\n",
      "11610/11610 [==============================] - 0s 31us/sample - loss: 0.3318 - val_loss: 0.3403\n",
      "Epoch 29/100\n",
      "11610/11610 [==============================] - 0s 29us/sample - loss: 0.3305 - val_loss: 0.3456\n",
      "Epoch 30/100\n",
      "11610/11610 [==============================] - 0s 31us/sample - loss: 0.3308 - val_loss: 0.3521\n",
      "Epoch 31/100\n",
      "11610/11610 [==============================] - 0s 32us/sample - loss: 0.3349 - val_loss: 0.3401\n",
      "Epoch 32/100\n",
      "11610/11610 [==============================] - 0s 30us/sample - loss: 0.3363 - val_loss: 0.3395\n",
      "Epoch 33/100\n",
      "11610/11610 [==============================] - 0s 31us/sample - loss: 0.3269 - val_loss: 0.3379\n",
      "Epoch 34/100\n",
      "11610/11610 [==============================] - 0s 33us/sample - loss: 0.3287 - val_loss: 0.3387\n",
      "Epoch 35/100\n",
      "11610/11610 [==============================] - 0s 30us/sample - loss: 0.3244 - val_loss: 0.3416\n",
      "Epoch 36/100\n",
      "11610/11610 [==============================] - 0s 30us/sample - loss: 0.3223 - val_loss: 0.3411\n",
      "Epoch 37/100\n",
      "11610/11610 [==============================] - 0s 29us/sample - loss: 0.3217 - val_loss: 0.3384\n",
      "Epoch 38/100\n",
      "11610/11610 [==============================] - 0s 32us/sample - loss: 0.3218 - val_loss: 0.3348\n",
      "Epoch 39/100\n",
      "11610/11610 [==============================] - 0s 35us/sample - loss: 0.3359 - val_loss: 0.3310\n",
      "Epoch 40/100\n",
      "11610/11610 [==============================] - 0s 36us/sample - loss: 0.3226 - val_loss: 0.3360\n",
      "Epoch 41/100\n",
      "11610/11610 [==============================] - 0s 32us/sample - loss: 0.3284 - val_loss: 0.3355\n",
      "Epoch 42/100\n",
      "11610/11610 [==============================] - 0s 31us/sample - loss: 0.3185 - val_loss: 0.3631\n",
      "Epoch 43/100\n",
      "11610/11610 [==============================] - 0s 37us/sample - loss: 0.3180 - val_loss: 0.3283\n",
      "Epoch 44/100\n",
      "11610/11610 [==============================] - 0s 34us/sample - loss: 0.3176 - val_loss: 0.3269\n",
      "Epoch 45/100\n",
      "11610/11610 [==============================] - 0s 35us/sample - loss: 0.3210 - val_loss: 0.3276\n",
      "Epoch 46/100\n",
      "11610/11610 [==============================] - 0s 33us/sample - loss: 0.3163 - val_loss: 0.3270\n",
      "Epoch 47/100\n",
      "11610/11610 [==============================] - 0s 32us/sample - loss: 0.3142 - val_loss: 0.3243\n",
      "Epoch 48/100\n",
      "11610/11610 [==============================] - 0s 35us/sample - loss: 0.3128 - val_loss: 0.3303\n",
      "Epoch 49/100\n",
      "11610/11610 [==============================] - 0s 34us/sample - loss: 0.3416 - val_loss: 0.3330\n",
      "Epoch 50/100\n",
      "11610/11610 [==============================] - 0s 34us/sample - loss: 0.3151 - val_loss: 0.3276\n",
      "Epoch 51/100\n",
      "11610/11610 [==============================] - 0s 34us/sample - loss: 0.3132 - val_loss: 0.3250\n",
      "Epoch 52/100\n",
      "11610/11610 [==============================] - 0s 37us/sample - loss: 0.3128 - val_loss: 0.3293\n"
     ]
    }
   ],
   "source": [
    "# 输入数据也需要重新定义\n",
    "x_train_scaled_wide = x_train_scaled[:, :5]\n",
    "x_train_scaled_deep = x_train_scaled[:, 2:]\n",
    "x_valid_scaled_wide = x_valid_scaled[:, :5]\n",
    "x_valid_scaled_deep = x_valid_scaled[:, 2:]\n",
    "x_test_scaled_wide = x_test_scaled[:, :5]\n",
    "x_test_scaled_deep = x_test_scaled[:, 2:]\n",
    "\n",
    "history = model.fit([x_train_scaled_wide, x_train_scaled_deep]\n",
    "                    , y_train,\n",
    "                   validation_data = (\n",
    "                       [x_valid_scaled_wide, x_valid_scaled_deep]\n",
    "                       , y_valid),\n",
    "                   epochs=100, callbacks=callbacks)"
   ]
  },
  {
   "cell_type": "code",
   "execution_count": 11,
   "metadata": {},
   "outputs": [
    {
     "data": {
      "image/png": "[encoded data removed]",
      "text/plain": [
       "<Figure size 576x360 with 1 Axes>"
      ]
     },
     "metadata": {
      "needs_background": "light"
     },
     "output_type": "display_data"
    }
   ],
   "source": [
    "def plot_learning_curves(history):\n",
    "    pd.DataFrame(history.history).plot(figsize=(8,5))\n",
    "    plt.grid(True)\n",
    "    plt.gca().set_ylim(0,1)\n",
    "    plt.show()\n",
    "    \n",
    "plot_learning_curves(history)"
   ]
  },
  {
   "cell_type": "code",
   "execution_count": 12,
   "metadata": {},
   "outputs": [
    {
     "name": "stdout",
     "output_type": "stream",
     "text": [
      "5160/5160 [==============================] - 0s 19us/sample - loss: 0.3246\n"
     ]
    },
    {
     "data": {
      "text/plain": [
       "0.32455902483112126"
      ]
     },
     "execution_count": 12,
     "metadata": {},
     "output_type": "execute_result"
    }
   ],
   "source": [
    "model.evaluate([x_test_scaled_wide, x_test_scaled_deep], y_test)"
   ]
  },
  {
   "cell_type": "code",
   "execution_count": null,
   "metadata": {},
   "outputs": [],
   "source": []
  }
 ],
 "metadata": {
  "kernelspec": {
   "display_name": "Python 3",
   "language": "python",
   "name": "python3"
  },
  "language_info": {
   "codemirror_mode": {
    "name": "ipython",
    "version": 3
   },
   "file_extension": ".py",
   "mimetype": "text/x-python",
   "name": "python",
   "nbconvert_exporter": "python",
   "pygments_lexer": "ipython3",
   "version": "3.7.0"
  }
 },
 "nbformat": 4,
 "nbformat_minor": 2
}
