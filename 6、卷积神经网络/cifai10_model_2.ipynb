{
 "cells": [
  {
   "cell_type": "code",
   "execution_count": 1,
   "metadata": {
    "_cell_guid": "79c7e3d0-c299-4dcb-8224-4455121ee9b0",
    "_uuid": "d629ff2d2480ee46fbb7e2d37f6b5fab8052498a"
   },
   "outputs": [
    {
     "name": "stdout",
     "output_type": "stream",
     "text": [
      "2.0.0-beta1\n",
      "sys.version_info(major=3, minor=7, micro=0, releaselevel='final', serial=0)\n",
      "matplotlib 2.2.3\n",
      "numpy 1.16.4\n",
      "pandas 0.23.4\n",
      "sklearn 0.19.2\n",
      "tensorflow 2.0.0-beta1\n",
      "tensorflow.python.keras.api._v2.keras 2.2.4-tf\n"
     ]
    }
   ],
   "source": [
    "#导入必要的库即版本\n",
    "\n",
    "import matplotlib as mpl\n",
    "import matplotlib.pyplot as plt\n",
    "%matplotlib inline\n",
    "import numpy as np\n",
    "import sklearn\n",
    "import pandas as pd\n",
    "import os\n",
    "import sys\n",
    "import time\n",
    "import tensorflow as tf\n",
    "\n",
    "from tensorflow import keras\n",
    "#import keras\n",
    "\n",
    "print(tf.__version__)\n",
    "print(sys.version_info)\n",
    "for module in mpl, np, pd,sklearn,tf,keras:\n",
    "    print(module.__name__, module.__version__)"
   ]
  },
  {
   "cell_type": "code",
   "execution_count": null,
   "metadata": {},
   "outputs": [],
   "source": [
    "calss_names = []\n",
    "train_labels_file = "
   ]
  },
  {
   "cell_type": "code",
   "execution_count": null,
   "metadata": {},
   "outputs": [],
   "source": [
    "train_dir = './cifar10/train/'\n",
    "valid_dir = '../cifar10/eval/'\n",
    "label_file = '../cifar10/trainLabels.csv'\n",
    "print(os.path.exists(train_dir))\n",
    "\n",
    "print(os.listdir(train_dir))\n",
    "print(os.listdir(valid_dir))"
   ]
  },
  {
   "cell_type": "code",
   "execution_count": null,
   "metadata": {},
   "outputs": [],
   "source": [
    "# 读取数据\n",
    "labels = pd.read_csv(label_file, header=0)\n",
    "print(labels)"
   ]
  },
  {
   "cell_type": "code",
   "execution_count": null,
   "metadata": {},
   "outputs": [],
   "source": [
    "# 读取图片\n",
    "height = 128\n",
    "width =128   # 读取图片后对图片进行缩放,固定大小\n",
    "channels = 3\n",
    "batch_size = 64\n",
    "num_classes = 10\n",
    "# keras generator读取数据\n",
    "train_datagen = keras.preprocessing.image.ImageDataGenerator(\n",
    "    rescale = 1./255.,  # 像素转为0-1\n",
    "    rotation_range=40,# 图片随机旋转角度，40代表-40——40之间\n",
    "    width_shift_range=0.2,# 水平位移，训练模型时使用数据和位移之后的数据\n",
    "    height_shift_range=0.2,# 垂直位移，（0，1）之间的数代表比例，大于1代表像素值，在0-0.2之间随机选择一个数进行位移\n",
    "    shear_range=0.2, # 剪切强度\n",
    "    zoom_range=0.2, # 缩放强度\n",
    "    horizontal_flip=True,# 随机进行水平翻转\n",
    "    fill_mode='nearest',# 填充像素规则，如放大操作，nearest代表最近的真实像素\n",
    "    \n",
    ")\n",
    "\n",
    "train_generator = train_datagen.flow_from_directory(train_dir,\n",
    "                                                  target_size=(height,width),\n",
    "                                                  batch_size=batch_size,\n",
    "                                                  seed=7,\n",
    "                                                  shuffle=True,\n",
    "                                                   #设置label格式，one-hot编码前，one-hot编码后\n",
    "                                                  class_mode='categorical')\n",
    "\n",
    "valid_datagen = keras.preprocessing.image.ImageDataGenerator(rescale=1./255.)\n",
    "valid_generator = valid_datagen.flow_from_directory(valid_dir,\n",
    "                                                   target_size=(height,width),\n",
    "                                                   batch_size=batch_size,\n",
    "                                                   seed=7,\n",
    "                                                   shuffle=True,\n",
    "                                                   class_mode='categorical'\n",
    ")\n",
    "# 训练集、验证集数据量\n",
    "train_num = train_generator.samples\n",
    "valid_num = valid_generator.samples\n",
    "print(train_num, valid_num)"
   ]
  },
  {
   "cell_type": "code",
   "execution_count": null,
   "metadata": {},
   "outputs": [],
   "source": [
    "for i in range(2):\n",
    "    x,y = train_generator.next()\n",
    "    print(x.shape, y.shape)\n",
    "    print(y)"
   ]
  },
  {
   "cell_type": "code",
   "execution_count": null,
   "metadata": {},
   "outputs": [],
   "source": [
    "# 基础模型搭建与训练\n",
    "model = keras.models.Sequential([\n",
    "    keras.layers.Conv2D(filters=32,kernel_size=3,padding='same',\n",
    "                       activation='relu',input_shape=[width,height,channels]),\n",
    "    keras.layers.Conv2D(filters=32,kernel_size=3,padding='same',\n",
    "                       activation='relu'),\n",
    "    keras.layers.MaxPool2D(pool_size=2),\n",
    "    \n",
    "    keras.layers.Conv2D(filters=64,kernel_size=3,padding='same',\n",
    "                       activation='relu'),\n",
    "    keras.layers.Conv2D(filters=64,kernel_size=3,padding='same',\n",
    "                       activation='relu'),\n",
    "    keras.layers.MaxPool2D(pool_size=2),\n",
    "    \n",
    "    keras.layers.Conv2D(filters=128,kernel_size=3,padding='same',\n",
    "                       activation='relu'),\n",
    "    keras.layers.Conv2D(filters=128,kernel_size=3,padding='same',\n",
    "                       activation='relu'),\n",
    "    keras.layers.MaxPool2D(pool_size=2),\n",
    "    \n",
    "    keras.layers.Flatten(),\n",
    "    keras.layers.Dense(128,activation='relu'),\n",
    "    keras.layers.Dense(num_classes,activation='softmax')\n",
    "])\n",
    "\n",
    "model.compile(loss='categorical_crossentropy',\n",
    "             optimizer='adam',metrics=['accuracy'])\n",
    "\n",
    "model.summary()"
   ]
  },
  {
   "cell_type": "code",
   "execution_count": null,
   "metadata": {},
   "outputs": [],
   "source": [
    "epochs = 10\n",
    "# 数据由generator产生\n",
    "history = model.fit_generator(train_generator,\n",
    "                             steps_per_epoch=train_num//batch_size,\n",
    "                             epochs=epochs,\n",
    "                             validation_data=valid_generator,\n",
    "                             validation_steps=valid_num//batch_size)\n",
    "\n"
   ]
  },
  {
   "cell_type": "code",
   "execution_count": null,
   "metadata": {},
   "outputs": [],
   "source": [
    "print(history.history.keys())"
   ]
  },
  {
   "cell_type": "code",
   "execution_count": null,
   "metadata": {},
   "outputs": [],
   "source": [
    "def plot_learning_curves(history, label, epochs, min_value, max_value):\n",
    "    data={}\n",
    "    data[label] = history.history[label]\n",
    "    data['val_'+label] = history.history['val_'+label]\n",
    "    pd.DataFrame(data).plot(figsize=(8,5))\n",
    "    plt.grid(True)\n",
    "    plt.axis([0,epochs,min_value,max_value])\n",
    "    plt.show()\n",
    "    \n",
    "plot_learning_curves(history,'acc',epochs,0,1)\n",
    "plot_learning_curves(history,'loss',epochs,1.5,2.5)"
   ]
  },
  {
   "cell_type": "code",
   "execution_count": null,
   "metadata": {},
   "outputs": [],
   "source": []
  }
 ],
 "metadata": {
  "kernelspec": {
   "display_name": "Python 3",
   "language": "python",
   "name": "python3"
  },
  "language_info": {
   "codemirror_mode": {
    "name": "ipython",
    "version": 3
   },
   "file_extension": ".py",
   "mimetype": "text/x-python",
   "name": "python",
   "nbconvert_exporter": "python",
   "pygments_lexer": "ipython3",
   "version": "3.7.0"
  }
 },
 "nbformat": 4,
 "nbformat_minor": 1
}
