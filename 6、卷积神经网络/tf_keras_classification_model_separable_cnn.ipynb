{
 "cells": [
  {
   "cell_type": "markdown",
   "metadata": {},
   "source": [
    "### 数据读取与展示"
   ]
  },
  {
   "cell_type": "code",
   "execution_count": 1,
   "metadata": {},
   "outputs": [
    {
     "name": "stdout",
     "output_type": "stream",
     "text": [
      "2.0.0-beta1\n",
      "sys.version_info(major=3, minor=7, micro=0, releaselevel='final', serial=0)\n",
      "matplotlib 2.2.3\n",
      "numpy 1.16.4\n",
      "pandas 0.23.4\n",
      "sklearn 0.19.2\n",
      "tensorflow 2.0.0-beta1\n",
      "tensorflow.python.keras.api._v2.keras 2.2.4-tf\n"
     ]
    }
   ],
   "source": [
    "# 使用tf.keras搭建分类模型，数据集使用fashion_mnist\n",
    "#导入必要的库即版本\n",
    "\n",
    "import matplotlib as mpl\n",
    "import matplotlib.pyplot as plt\n",
    "%matplotlib inline\n",
    "import numpy as np\n",
    "import sklearn\n",
    "import pandas as pd\n",
    "import os\n",
    "import sys\n",
    "import time\n",
    "import tensorflow as tf\n",
    "\n",
    "from tensorflow import keras\n",
    "#import keras\n",
    "\n",
    "print(tf.__version__)\n",
    "print(sys.version_info)\n",
    "for module in mpl, np, pd,sklearn,tf,keras:\n",
    "    print(module.__name__, module.__version__)"
   ]
  },
  {
   "cell_type": "code",
   "execution_count": 2,
   "metadata": {},
   "outputs": [
    {
     "name": "stdout",
     "output_type": "stream",
     "text": [
      "(55000, 28, 28) (5000,)\n",
      "(5000, 28, 28) (5000,)\n",
      "(10000, 28, 28) (10000,)\n"
     ]
    }
   ],
   "source": [
    "#导入数据集并拆分数据集\n",
    "fashion_mnist = keras.datasets.fashion_mnist\n",
    "(x_train_all, y_train_all), (x_test, y_test) = fashion_mnist.load_data()\n",
    "x_valid, x_train = x_train_all[:5000], x_train_all[5000:]\n",
    "y_valid, y_train = y_train_all[:5000], y_train_all[5000:]\n",
    "\n",
    "print(x_train.shape, y_valid.shape)\n",
    "print(x_valid.shape, y_valid.shape)\n",
    "print(x_test.shape, y_test.shape)"
   ]
  },
  {
   "cell_type": "markdown",
   "metadata": {},
   "source": [
    "### 增加代码归一化"
   ]
  },
  {
   "cell_type": "code",
   "execution_count": 3,
   "metadata": {},
   "outputs": [],
   "source": [
    "# 归一化方法：x = (x - u) / std 均值，方差\n",
    "\n",
    "from sklearn.preprocessing import StandardScaler\n",
    "\n",
    "scaler = StandardScaler()\n",
    "# x_train:[None, 28, 28] -> [None, 784]\n",
    "# 除了transform功能还有fit的功能（记住训练集的均值方差），验证集和测试集需要使用训练集的均值和方差\n",
    "x_train_scaled = scaler.fit_transform(\n",
    "    x_train.astype(np.float32).reshape(-1,1)).reshape(-1,28,28,1)\n",
    "\n",
    "x_valid_scaled = scaler.transform(\n",
    "    x_valid.astype(np.float32).reshape(-1,1)).reshape(-1,28,28,1)\n",
    "\n",
    "x_test_scaled = scaler.transform(\n",
    "    x_test.astype(np.float32).reshape(-1,1)).reshape(-1,28,28,1)"
   ]
  },
  {
   "cell_type": "markdown",
   "metadata": {},
   "source": [
    "### 模型构建\n",
    "不同版本API，代码不尽相同\n",
    "\n",
    "\n",
    "20层的深度神经网络\n"
   ]
  },
  {
   "cell_type": "code",
   "execution_count": 4,
   "metadata": {},
   "outputs": [],
   "source": [
    "# 使用tf.keras.model.Sequential()构建模型\n",
    "# 创建Sequential对象\n",
    "# keras中已经实现深度可分离卷积，可以直接调用\n",
    "# 输入层仍使用卷积\n",
    "model = keras.models.Sequential()\n",
    "model.add(keras.layers.Conv2D(filters=32, kernel_size=3,\n",
    "                             padding='same',\n",
    "                             activation='relu',\n",
    "                             input_shape=(28,28,1)))\n",
    "\n",
    "model.add(keras.layers.SeparableConv2D(filters=32, kernel_size=3,\n",
    "                                       padding='same',\n",
    "                                       activation='relu'))\n",
    "model.add(keras.layers.MaxPool2D(pool_size=2))\n",
    "model.add(keras.layers.SeparableConv2D(filters=64, kernel_size=3,\n",
    "                                       padding='same',\n",
    "                                       activation='relu'))\n",
    "model.add(keras.layers.SeparableConv2D(filters=64, kernel_size=3,\n",
    "                                       padding='same',\n",
    "                                       activation='relu'))\n",
    "model.add(keras.layers.MaxPool2D(pool_size=2))\n",
    "model.add(keras.layers.SeparableConv2D(filters=128, kernel_size=3,\n",
    "                                       padding='same',\n",
    "                                       activation='relu'))\n",
    "model.add(keras.layers.SeparableConv2D(filters=128, kernel_size=3,\n",
    "                                       padding='same',\n",
    "                                       activation='relu'))\n",
    "model.add(keras.layers.MaxPool2D(pool_size=2))\n",
    "model.add(keras.layers.Flatten())\n",
    "model.add(keras.layers.Dense(128, activation='relu'))\n",
    "\n",
    "model.add(keras.layers.Dense(10, activation=\"softmax\"))\n",
    "\n",
    "model.compile(loss='sparse_categorical_crossentropy',\n",
    "             optimizer='sgd', metrics=['accuracy'])"
   ]
  },
  {
   "cell_type": "markdown",
   "metadata": {},
   "source": [
    "### 增加回调函数"
   ]
  },
  {
   "cell_type": "code",
   "execution_count": 5,
   "metadata": {},
   "outputs": [
    {
     "name": "stderr",
     "output_type": "stream",
     "text": [
      "WARNING: Logging before flag parsing goes to stderr.\n",
      "W0819 12:38:39.618394  3696 deprecation.py:323] From D:\\SoftWare\\Anaconda3\\lib\\site-packages\\tensorflow\\python\\ops\\math_grad.py:1250: add_dispatch_support.<locals>.wrapper (from tensorflow.python.ops.array_ops) is deprecated and will be removed in a future version.\n",
      "Instructions for updating:\n",
      "Use tf.where in 2.0, which has the same broadcast rule as np.where\n"
     ]
    },
    {
     "name": "stdout",
     "output_type": "stream",
     "text": [
      "Train on 55000 samples, validate on 5000 samples\n",
      "Epoch 1/10\n",
      "55000/55000 [==============================] - 71s 1ms/sample - loss: 2.3027 - accuracy: 0.0987 - val_loss: 2.3027 - val_accuracy: 0.1002\n",
      "Epoch 2/10\n",
      "55000/55000 [==============================] - 72s 1ms/sample - loss: 2.3027 - accuracy: 0.0986 - val_loss: 2.3028 - val_accuracy: 0.0914\n",
      "Epoch 3/10\n",
      "55000/55000 [==============================] - 84s 2ms/sample - loss: 2.3027 - accuracy: 0.0980 - val_loss: 2.3028 - val_accuracy: 0.0914\n",
      "Epoch 4/10\n",
      "55000/55000 [==============================] - 88s 2ms/sample - loss: 2.3027 - accuracy: 0.0995 - val_loss: 2.3027 - val_accuracy: 0.0986\n",
      "Epoch 5/10\n",
      "55000/55000 [==============================] - 82s 1ms/sample - loss: 2.3027 - accuracy: 0.0975 - val_loss: 2.3027 - val_accuracy: 0.0914\n",
      "Epoch 6/10\n",
      "55000/55000 [==============================] - 80s 1ms/sample - loss: 2.3027 - accuracy: 0.0971 - val_loss: 2.3028 - val_accuracy: 0.0976\n"
     ]
    }
   ],
   "source": [
    "# 开启训练fit函数\n",
    "# epochs训练次数，history返回为中间运算的一些结果\n",
    "# 回调函数fit函数中添加数组\n",
    "# Tensorboard,earlystopping,ModelCheckpoint\n",
    "#Tensorboard需要一个文件夹,ModelCheckpoint需要一个文件名\n",
    "#在当前文件夹下定义一个名为callbacks的文件夹，如果不存在，便创建它\n",
    "logdir = './Separable_cnn_selu_callbacks'\n",
    "if not os.path.exists(logdir):\n",
    "    os.mkdir(logdir)\n",
    "# 定义输出model的文件,也是在callbacks文件夹下\n",
    "output_model_file = os.path.join(logdir,\n",
    "                                'fashion_mnist_model.h5')\n",
    "callbacks = [\n",
    "    #keras.callbacks.TensorBoard(logdir),\n",
    "    # 保存最好的模型，否则默认保存最近的模型\n",
    "    keras.callbacks.ModelCheckpoint(output_model_file,\n",
    "                                   save_best_onlly=True),\n",
    "    keras.callbacks.EarlyStopping(patience=5, min_delta=1e-3)]\n",
    "\n",
    "history = model.fit(x_train_scaled, y_train, epochs=10,\n",
    "         validation_data=(x_valid_scaled,y_valid),\n",
    "                   callbacks=callbacks)"
   ]
  },
  {
   "cell_type": "markdown",
   "metadata": {},
   "source": [
    "查看tensorboard，在命令行中输入tensorboard --logdir=callbacks,构建一个个人服务器，通过6006端口进行访问，在浏览器中输入localhost:6006查看tensorfboard"
   ]
  },
  {
   "cell_type": "code",
   "execution_count": 6,
   "metadata": {},
   "outputs": [
    {
     "data": {
      "image/png": "[encoded data removed]",
      "text/plain": [
       "<Figure size 576x360 with 1 Axes>"
      ]
     },
     "metadata": {
      "needs_background": "light"
     },
     "output_type": "display_data"
    }
   ],
   "source": [
    "# 将history中的值可视化出来\n",
    "def plot_learning_curves(history):\n",
    "    #直接转换为DataFrame\n",
    "    pd.DataFrame(history.history).plot(figsize=(8, 5))\n",
    "    # 显示网格\n",
    "    plt.grid(True)\n",
    "    # 设置坐标轴范围\n",
    "    plt.gca().set_ylim(0, 1)\n",
    "    plt.show()\n",
    "    \n",
    "plot_learning_curves(history)"
   ]
  },
  {
   "cell_type": "markdown",
   "metadata": {},
   "source": [
    "批归一化可以缓解梯度消失"
   ]
  },
  {
   "cell_type": "code",
   "execution_count": 7,
   "metadata": {},
   "outputs": [
    {
     "name": "stdout",
     "output_type": "stream",
     "text": [
      "10000/10000 [==============================] - 4s 437us/sample - loss: 2.3026 - accuracy: 0.1000\n"
     ]
    },
    {
     "data": {
      "text/plain": [
       "[2.3026088874816892, 0.1]"
      ]
     },
     "execution_count": 7,
     "metadata": {},
     "output_type": "execute_result"
    }
   ],
   "source": [
    "model.evaluate(x_test_scaled, y_test)"
   ]
  },
  {
   "cell_type": "code",
   "execution_count": 8,
   "metadata": {},
   "outputs": [
    {
     "name": "stdout",
     "output_type": "stream",
     "text": [
      "Model: \"sequential\"\n",
      "_________________________________________________________________\n",
      "Layer (type)                 Output Shape              Param #   \n",
      "=================================================================\n",
      "conv2d (Conv2D)              (None, 28, 28, 32)        320       \n",
      "_________________________________________________________________\n",
      "separable_conv2d (SeparableC (None, 28, 28, 32)        1344      \n",
      "_________________________________________________________________\n",
      "max_pooling2d (MaxPooling2D) (None, 14, 14, 32)        0         \n",
      "_________________________________________________________________\n",
      "separable_conv2d_1 (Separabl (None, 14, 14, 64)        2400      \n",
      "_________________________________________________________________\n",
      "separable_conv2d_2 (Separabl (None, 14, 14, 64)        4736      \n",
      "_________________________________________________________________\n",
      "max_pooling2d_1 (MaxPooling2 (None, 7, 7, 64)          0         \n",
      "_________________________________________________________________\n",
      "separable_conv2d_3 (Separabl (None, 7, 7, 128)         8896      \n",
      "_________________________________________________________________\n",
      "separable_conv2d_4 (Separabl (None, 7, 7, 128)         17664     \n",
      "_________________________________________________________________\n",
      "max_pooling2d_2 (MaxPooling2 (None, 3, 3, 128)         0         \n",
      "_________________________________________________________________\n",
      "flatten (Flatten)            (None, 1152)              0         \n",
      "_________________________________________________________________\n",
      "dense (Dense)                (None, 128)               147584    \n",
      "_________________________________________________________________\n",
      "dense_1 (Dense)              (None, 10)                1290      \n",
      "=================================================================\n",
      "Total params: 184,234\n",
      "Trainable params: 184,234\n",
      "Non-trainable params: 0\n",
      "_________________________________________________________________\n"
     ]
    }
   ],
   "source": [
    "model.summary()"
   ]
  },
  {
   "cell_type": "code",
   "execution_count": null,
   "metadata": {},
   "outputs": [],
   "source": [
    "深度可分离卷积是以精度损失的代价换取计算量的减少和参数的减少，从而使深度可分离网络在手机端可以运行"
   ]
  }
 ],
 "metadata": {
  "kernelspec": {
   "display_name": "Python 3",
   "language": "python",
   "name": "python3"
  },
  "language_info": {
   "codemirror_mode": {
    "name": "ipython",
    "version": 3
   },
   "file_extension": ".py",
   "mimetype": "text/x-python",
   "name": "python",
   "nbconvert_exporter": "python",
   "pygments_lexer": "ipython3",
   "version": "3.7.0"
  }
 },
 "nbformat": 4,
 "nbformat_minor": 2
}
