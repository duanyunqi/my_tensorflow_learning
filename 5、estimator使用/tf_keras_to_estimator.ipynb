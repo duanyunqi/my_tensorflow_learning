{
 "cells": [
  {
   "cell_type": "markdown",
   "metadata": {},
   "source": [
    "泰坦尼克号数据预测"
   ]
  },
  {
   "cell_type": "code",
   "execution_count": 1,
   "metadata": {},
   "outputs": [
    {
     "name": "stdout",
     "output_type": "stream",
     "text": [
      "2.0.0-beta1\n",
      "sys.version_info(major=3, minor=7, micro=0, releaselevel='final', serial=0)\n",
      "matplotlib 2.2.3\n",
      "numpy 1.16.4\n",
      "pandas 0.23.4\n",
      "sklearn 0.19.2\n",
      "tensorflow 2.0.0-beta1\n",
      "tensorflow.python.keras.api._v2.keras 2.2.4-tf\n"
     ]
    }
   ],
   "source": [
    "# 使用tf.keras搭建回归模型，数据集使用加利福尼亚的房价预测\n",
    "#导入必要的库即版本\n",
    "\n",
    "import matplotlib as mpl\n",
    "import matplotlib.pyplot as plt\n",
    "%matplotlib inline\n",
    "import numpy as np\n",
    "import sklearn\n",
    "import pandas as pd\n",
    "import os\n",
    "import sys\n",
    "import time\n",
    "import tensorflow as tf\n",
    "\n",
    "from tensorflow import keras\n",
    "#import keras\n",
    "\n",
    "print(tf.__version__)\n",
    "print(sys.version_info)\n",
    "for module in mpl, np, pd,sklearn,tf,keras:\n",
    "    print(module.__name__, module.__version__)"
   ]
  },
  {
   "cell_type": "code",
   "execution_count": 3,
   "metadata": {},
   "outputs": [
    {
     "name": "stdout",
     "output_type": "stream",
     "text": [
      "   survived     sex   age  n_siblings_spouses  parch     fare  class     deck  \\\n",
      "0         0    male  22.0                   1      0   7.2500  Third  unknown   \n",
      "1         1  female  38.0                   1      0  71.2833  First        C   \n",
      "2         1  female  26.0                   0      0   7.9250  Third  unknown   \n",
      "3         1  female  35.0                   1      0  53.1000  First        C   \n",
      "4         0    male  28.0                   0      0   8.4583  Third  unknown   \n",
      "\n",
      "   embark_town alone  \n",
      "0  Southampton     n  \n",
      "1    Cherbourg     n  \n",
      "2  Southampton     y  \n",
      "3  Southampton     n  \n",
      "4   Queenstown     y  \n",
      "   survived     sex   age  n_siblings_spouses  parch     fare   class  \\\n",
      "0         0    male  35.0                   0      0   8.0500   Third   \n",
      "1         0    male  54.0                   0      0  51.8625   First   \n",
      "2         1  female  58.0                   0      0  26.5500   First   \n",
      "3         1  female  55.0                   0      0  16.0000  Second   \n",
      "4         1    male  34.0                   0      0  13.0000  Second   \n",
      "\n",
      "      deck  embark_town alone  \n",
      "0  unknown  Southampton     y  \n",
      "1        E  Southampton     y  \n",
      "2        C  Southampton     y  \n",
      "3  unknown  Southampton     y  \n",
      "4        D  Southampton     y  \n"
     ]
    }
   ],
   "source": [
    "# 数据文件路径\n",
    "train_file = './data/titanic/train.csv'\n",
    "eval_file = './data/titanic/eval.csv'\n",
    "\n",
    "# 读取数据\n",
    "train_df = pd.read_csv(train_file)\n",
    "eval_df = pd.read_csv(eval_file)\n",
    "\n",
    "print(train_df.head())\n",
    "print(eval_df.head())"
   ]
  },
  {
   "cell_type": "code",
   "execution_count": 5,
   "metadata": {},
   "outputs": [
    {
     "name": "stdout",
     "output_type": "stream",
     "text": [
      "      sex   age  n_siblings_spouses  parch     fare  class     deck  \\\n",
      "0    male  22.0                   1      0   7.2500  Third  unknown   \n",
      "1  female  38.0                   1      0  71.2833  First        C   \n",
      "2  female  26.0                   0      0   7.9250  Third  unknown   \n",
      "3  female  35.0                   1      0  53.1000  First        C   \n",
      "4    male  28.0                   0      0   8.4583  Third  unknown   \n",
      "\n",
      "   embark_town alone  \n",
      "0  Southampton     n  \n",
      "1    Cherbourg     n  \n",
      "2  Southampton     y  \n",
      "3  Southampton     n  \n",
      "4   Queenstown     y  \n",
      "      sex   age  n_siblings_spouses  parch     fare   class     deck  \\\n",
      "0    male  35.0                   0      0   8.0500   Third  unknown   \n",
      "1    male  54.0                   0      0  51.8625   First        E   \n",
      "2  female  58.0                   0      0  26.5500   First        C   \n",
      "3  female  55.0                   0      0  16.0000  Second  unknown   \n",
      "4    male  34.0                   0      0  13.0000  Second        D   \n",
      "\n",
      "   embark_town alone  \n",
      "0  Southampton     y  \n",
      "1  Southampton     y  \n",
      "2  Southampton     y  \n",
      "3  Southampton     y  \n",
      "4  Southampton     y  \n",
      "0    0\n",
      "1    1\n",
      "2    1\n",
      "3    1\n",
      "4    0\n",
      "Name: survived, dtype: int64\n",
      "0    0\n",
      "1    0\n",
      "2    1\n",
      "3    1\n",
      "4    1\n",
      "Name: survived, dtype: int64\n"
     ]
    }
   ],
   "source": [
    "# 提取特征和标签\n",
    "y_train = train_df.pop('survived')\n",
    "y_eval = eval_df.pop('survived')\n",
    "\n",
    "print(train_df.head())\n",
    "print(eval_df.head())\n",
    "print(y_train.head())\n",
    "print(y_eval.head())"
   ]
  },
  {
   "cell_type": "code",
   "execution_count": 6,
   "metadata": {},
   "outputs": [
    {
     "data": {
      "text/html": [
       "<div>\n",
       "<style scoped>\n",
       "    .dataframe tbody tr th:only-of-type {\n",
       "        vertical-align: middle;\n",
       "    }\n",
       "\n",
       "    .dataframe tbody tr th {\n",
       "        vertical-align: top;\n",
       "    }\n",
       "\n",
       "    .dataframe thead th {\n",
       "        text-align: right;\n",
       "    }\n",
       "</style>\n",
       "<table border=\"1\" class=\"dataframe\">\n",
       "  <thead>\n",
       "    <tr style=\"text-align: right;\">\n",
       "      <th></th>\n",
       "      <th>age</th>\n",
       "      <th>n_siblings_spouses</th>\n",
       "      <th>parch</th>\n",
       "      <th>fare</th>\n",
       "    </tr>\n",
       "  </thead>\n",
       "  <tbody>\n",
       "    <tr>\n",
       "      <th>count</th>\n",
       "      <td>627.000000</td>\n",
       "      <td>627.000000</td>\n",
       "      <td>627.000000</td>\n",
       "      <td>627.000000</td>\n",
       "    </tr>\n",
       "    <tr>\n",
       "      <th>mean</th>\n",
       "      <td>29.631308</td>\n",
       "      <td>0.545455</td>\n",
       "      <td>0.379585</td>\n",
       "      <td>34.385399</td>\n",
       "    </tr>\n",
       "    <tr>\n",
       "      <th>std</th>\n",
       "      <td>12.511818</td>\n",
       "      <td>1.151090</td>\n",
       "      <td>0.792999</td>\n",
       "      <td>54.597730</td>\n",
       "    </tr>\n",
       "    <tr>\n",
       "      <th>min</th>\n",
       "      <td>0.750000</td>\n",
       "      <td>0.000000</td>\n",
       "      <td>0.000000</td>\n",
       "      <td>0.000000</td>\n",
       "    </tr>\n",
       "    <tr>\n",
       "      <th>25%</th>\n",
       "      <td>23.000000</td>\n",
       "      <td>0.000000</td>\n",
       "      <td>0.000000</td>\n",
       "      <td>7.895800</td>\n",
       "    </tr>\n",
       "    <tr>\n",
       "      <th>50%</th>\n",
       "      <td>28.000000</td>\n",
       "      <td>0.000000</td>\n",
       "      <td>0.000000</td>\n",
       "      <td>15.045800</td>\n",
       "    </tr>\n",
       "    <tr>\n",
       "      <th>75%</th>\n",
       "      <td>35.000000</td>\n",
       "      <td>1.000000</td>\n",
       "      <td>0.000000</td>\n",
       "      <td>31.387500</td>\n",
       "    </tr>\n",
       "    <tr>\n",
       "      <th>max</th>\n",
       "      <td>80.000000</td>\n",
       "      <td>8.000000</td>\n",
       "      <td>5.000000</td>\n",
       "      <td>512.329200</td>\n",
       "    </tr>\n",
       "  </tbody>\n",
       "</table>\n",
       "</div>"
      ],
      "text/plain": [
       "              age  n_siblings_spouses       parch        fare\n",
       "count  627.000000          627.000000  627.000000  627.000000\n",
       "mean    29.631308            0.545455    0.379585   34.385399\n",
       "std     12.511818            1.151090    0.792999   54.597730\n",
       "min      0.750000            0.000000    0.000000    0.000000\n",
       "25%     23.000000            0.000000    0.000000    7.895800\n",
       "50%     28.000000            0.000000    0.000000   15.045800\n",
       "75%     35.000000            1.000000    0.000000   31.387500\n",
       "max     80.000000            8.000000    5.000000  512.329200"
      ]
     },
     "execution_count": 6,
     "metadata": {},
     "output_type": "execute_result"
    }
   ],
   "source": [
    "# 数据中的统计量\n",
    "train_df.describe()"
   ]
  },
  {
   "cell_type": "code",
   "execution_count": 7,
   "metadata": {},
   "outputs": [
    {
     "name": "stdout",
     "output_type": "stream",
     "text": [
      "(627, 9) (264, 9)\n"
     ]
    }
   ],
   "source": [
    "print(train_df.shape, eval_df.shape)"
   ]
  },
  {
   "cell_type": "code",
   "execution_count": 9,
   "metadata": {},
   "outputs": [
    {
     "data": {
      "text/plain": [
       "<matplotlib.axes._subplots.AxesSubplot at 0x1bc2cac9400>"
      ]
     },
     "execution_count": 9,
     "metadata": {},
     "output_type": "execute_result"
    },
    {
     "data": {
      "image/png": "[encoded data removed]",
      "text/plain": [
       "<Figure size 432x288 with 1 Axes>"
      ]
     },
     "metadata": {
      "needs_background": "light"
     },
     "output_type": "display_data"
    }
   ],
   "source": [
    "# 画直方图\n",
    "train_df.age.hist(bins=40)"
   ]
  },
  {
   "cell_type": "code",
   "execution_count": 10,
   "metadata": {},
   "outputs": [
    {
     "data": {
      "text/plain": [
       "<matplotlib.axes._subplots.AxesSubplot at 0x1bc2a779a58>"
      ]
     },
     "execution_count": 10,
     "metadata": {},
     "output_type": "execute_result"
    },
    {
     "data": {
      "image/png": "[encoded data removed]",
      "text/plain": [
       "<Figure size 432x288 with 1 Axes>"
      ]
     },
     "metadata": {
      "needs_background": "light"
     },
     "output_type": "display_data"
    }
   ],
   "source": [
    "# 统计各种值的个数,并绘制柱状图，横向柱状图参数“barh”,纵向柱状图“barv”\n",
    "train_df.sex.value_counts().plot(kind='barh')"
   ]
  },
  {
   "cell_type": "code",
   "execution_count": 13,
   "metadata": {},
   "outputs": [
    {
     "data": {
      "text/plain": [
       "<matplotlib.axes._subplots.AxesSubplot at 0x1bc2cc1c080>"
      ]
     },
     "execution_count": 13,
     "metadata": {},
     "output_type": "execute_result"
    },
    {
     "data": {
      "image/png": "[encoded data removed]",
      "text/plain": [
       "<Figure size 432x288 with 1 Axes>"
      ]
     },
     "metadata": {
      "needs_background": "light"
     },
     "output_type": "display_data"
    }
   ],
   "source": [
    "train_df['class'].value_counts().plot(kind='barh')"
   ]
  },
  {
   "cell_type": "code",
   "execution_count": 15,
   "metadata": {},
   "outputs": [
    {
     "data": {
      "text/plain": [
       "<matplotlib.axes._subplots.AxesSubplot at 0x1bc2dc56cf8>"
      ]
     },
     "execution_count": 15,
     "metadata": {},
     "output_type": "execute_result"
    },
    {
     "data": {
      "image/png": "[encoded data removed]",
      "text/plain": [
       "<Figure size 432x288 with 1 Axes>"
      ]
     },
     "metadata": {
      "needs_background": "light"
     },
     "output_type": "display_data"
    }
   ],
   "source": [
    "# 统计男性获救比例，女性获救比例，并绘制柱状图\n",
    "# 先合并（concat）数据，然后对sex使用groupby，再根据survived求均值\n",
    "pd.concat([train_df,y_train], axis=1).groupby('sex').survived.mean().plot(kind='barh')"
   ]
  },
  {
   "cell_type": "code",
   "execution_count": 16,
   "metadata": {},
   "outputs": [
    {
     "name": "stdout",
     "output_type": "stream",
     "text": [
      "sex ['male' 'female']\n",
      "n_siblings_spouses [1 0 3 4 2 5 8]\n",
      "parch [0 1 2 5 3 4]\n",
      "class ['Third' 'First' 'Second']\n",
      "deck ['unknown' 'C' 'G' 'A' 'B' 'D' 'F' 'E']\n",
      "embark_town ['Southampton' 'Cherbourg' 'Queenstown' 'unknown']\n",
      "alone ['n' 'y']\n"
     ]
    }
   ],
   "source": [
    "# 将特征分为离散特征和连续特征\n",
    "categorical_columns = ['sex', 'n_siblings_spouses','parch', 'class', 'deck', \n",
    "                      'embark_town', 'alone']\n",
    "numeric_columns = ['age', 'fare']\n",
    "\n",
    "feature_columns = []\n",
    "for categorical_column in categorical_columns:\n",
    "    # 获取单独特征所有可能的值\n",
    "    vocab = train_df[categorical_column].unique()\n",
    "    print(categorical_column,vocab)\n",
    "    # 进行one-hot编码,tf.feature_column.indicator_column\n",
    "    feature_columns.append(tf.feature_column.indicator_column(\n",
    "        tf.feature_column.categorical_column_with_vocabulary_list(\n",
    "            categorical_column,vocab)))\n",
    "    \n",
    "for numeric_column in numeric_columns:\n",
    "    # 连续特征，直接加载\n",
    "    feature_columns.append(\n",
    "        tf.feature_column.numeric_column(\n",
    "            numeric_column,dtype=tf.float32))\n",
    "    \n",
    "    \n",
    "    \n",
    "    "
   ]
  },
  {
   "cell_type": "code",
   "execution_count": 19,
   "metadata": {},
   "outputs": [],
   "source": [
    "# 构建dataset\n",
    "def make_dataset(data_df, label_df, epochs=10, shuffle=True,\n",
    "                batch_size=32):\n",
    "    dataset = tf.data.Dataset.from_tensor_slices((dict(data_df), label_df))\n",
    "    if shuffle:\n",
    "        dataset = dataset.shuffle(10000)\n",
    "        \n",
    "    dataset = dataset.repeat(epochs).batch(batch_size)\n",
    "    return dataset"
   ]
  },
  {
   "cell_type": "code",
   "execution_count": 20,
   "metadata": {},
   "outputs": [],
   "source": [
    "train_dataset = make_dataset(train_df, y_train, batch_size=5)"
   ]
  },
  {
   "cell_type": "code",
   "execution_count": 26,
   "metadata": {},
   "outputs": [
    {
     "name": "stdout",
     "output_type": "stream",
     "text": [
      "{'sex': <tf.Tensor: id=796, shape=(5,), dtype=string, numpy=array([b'female', b'female', b'male', b'male', b'female'], dtype=object)>, 'age': <tf.Tensor: id=788, shape=(5,), dtype=float64, numpy=array([34., 33.,  1., 28., 36.])>, 'n_siblings_spouses': <tf.Tensor: id=794, shape=(5,), dtype=int32, numpy=array([0, 1, 1, 0, 1])>, 'parch': <tf.Tensor: id=795, shape=(5,), dtype=int32, numpy=array([0, 2, 2, 0, 0])>, 'fare': <tf.Tensor: id=793, shape=(5,), dtype=float64, numpy=array([10.5  , 27.75 , 20.575,  0.   , 26.   ])>, 'class': <tf.Tensor: id=790, shape=(5,), dtype=string, numpy=array([b'Second', b'Second', b'Third', b'Second', b'Second'], dtype=object)>, 'deck': <tf.Tensor: id=791, shape=(5,), dtype=string, numpy=array([b'F', b'unknown', b'unknown', b'unknown', b'unknown'], dtype=object)>, 'embark_town': <tf.Tensor: id=792, shape=(5,), dtype=string, numpy=\n",
      "array([b'Southampton', b'Southampton', b'Southampton', b'Southampton',\n",
      "       b'Southampton'], dtype=object)>, 'alone': <tf.Tensor: id=789, shape=(5,), dtype=string, numpy=array([b'y', b'n', b'n', b'y', b'n'], dtype=object)>} tf.Tensor([1 1 1 0 1], shape=(5,), dtype=int32)\n",
      "dict_keys(['sex', 'age', 'n_siblings_spouses', 'parch', 'fare', 'class', 'deck', 'embark_town', 'alone'])\n"
     ]
    }
   ],
   "source": [
    "for x,y in train_dataset.take(1):\n",
    "    print(x,y)\n",
    "    print(x.keys())"
   ]
  },
  {
   "cell_type": "code",
   "execution_count": 23,
   "metadata": {},
   "outputs": [
    {
     "name": "stdout",
     "output_type": "stream",
     "text": [
      "NumericColumn(key='age', shape=(1,), default_value=None, dtype=tf.float32, normalizer_fn=None)\n",
      "[[34.]\n",
      " [33.]\n",
      " [ 1.]\n",
      " [28.]\n",
      " [36.]]\n",
      "[[0. 1.]\n",
      " [0. 1.]\n",
      " [1. 0.]\n",
      " [1. 0.]\n",
      " [0. 1.]]\n"
     ]
    }
   ],
   "source": [
    "# 将dataset与feature_columns联系起来\n",
    "# keras.layers.DenseFeature\n",
    "for x,y in train_dataset.take(1):\n",
    "    age_cloumn = feature_columns[7]\n",
    "    print(age_cloumn)\n",
    "    gender_column =feature_columns[0]\n",
    "    print(keras.layers.DenseFeatures(age_cloumn)(x).numpy())\n",
    "    print(keras.layers.DenseFeatures(gender_column)(x).numpy())"
   ]
  },
  {
   "cell_type": "code",
   "execution_count": 25,
   "metadata": {},
   "outputs": [
    {
     "name": "stdout",
     "output_type": "stream",
     "text": [
      "[[34.     0.     1.     0.     0.     1.     0.     0.     0.     0.\n",
      "   0.     0.     1.     0.     1.     0.     0.     0.    10.5    0.\n",
      "   1.     0.     0.     0.     0.     0.     1.     0.     0.     0.\n",
      "   0.     0.     0.     1.   ]\n",
      " [33.     1.     0.     0.     0.     1.     1.     0.     0.     0.\n",
      "   0.     0.     0.     0.     1.     0.     0.     0.    27.75   1.\n",
      "   0.     0.     0.     0.     0.     0.     0.     0.     1.     0.\n",
      "   0.     0.     0.     1.   ]\n",
      " [ 1.     1.     0.     1.     0.     0.     1.     0.     0.     0.\n",
      "   0.     0.     0.     0.     1.     0.     0.     0.    20.575  1.\n",
      "   0.     0.     0.     0.     0.     0.     0.     0.     1.     0.\n",
      "   0.     0.     1.     0.   ]\n",
      " [28.     0.     1.     0.     0.     1.     1.     0.     0.     0.\n",
      "   0.     0.     0.     0.     1.     0.     0.     0.     0.     0.\n",
      "   1.     0.     0.     0.     0.     0.     1.     0.     0.     0.\n",
      "   0.     0.     1.     0.   ]\n",
      " [36.     1.     0.     0.     0.     1.     1.     0.     0.     0.\n",
      "   0.     0.     0.     0.     1.     0.     0.     0.    26.     1.\n",
      "   0.     0.     0.     0.     0.     0.     1.     0.     0.     0.\n",
      "   0.     0.     0.     1.   ]]\n"
     ]
    }
   ],
   "source": [
    "# 将dataset与feature_columns联系起来\n",
    "# keras.layers.DenseFeature,one-hot编码后特征不再是原来9个\n",
    "for x,y in train_dataset.take(1):\n",
    "    print(keras.layers.DenseFeatures(feature_columns)(x).numpy())"
   ]
  },
  {
   "cell_type": "code",
   "execution_count": 27,
   "metadata": {},
   "outputs": [],
   "source": [
    "model = keras.models.Sequential([\n",
    "    keras.layers.DenseFeatures(feature_columns),\n",
    "    keras.layers.Dense(100, activation='relu'),\n",
    "    keras.layers.Dense(100, activation='relu'),\n",
    "    keras.layers.Dense(2, activation='softmax'),\n",
    "])\n",
    "model.compile(loss='sparse_categorical_crossentropy',\n",
    "             optimizer=keras.optimizers.SGD(lr=0.01),\n",
    "             metrics=['accuracy'])\n"
   ]
  },
  {
   "cell_type": "code",
   "execution_count": 28,
   "metadata": {},
   "outputs": [
    {
     "name": "stdout",
     "output_type": "stream",
     "text": [
      "Epoch 1/100\n",
      "20/20 [==============================] - 2s 80ms/step - loss: 1.3645 - accuracy: 0.5549 - val_loss: 0.8437 - val_accuracy: 0.6992\n",
      "Epoch 2/100\n",
      "20/20 [==============================] - 0s 4ms/step - loss: 0.9603 - accuracy: 0.6384 - val_loss: 0.6173 - val_accuracy: 0.6992\n",
      "Epoch 3/100\n",
      "20/20 [==============================] - 0s 4ms/step - loss: 0.7316 - accuracy: 0.6330 - val_loss: 0.6738 - val_accuracy: 0.6172\n",
      "Epoch 4/100\n",
      "20/20 [==============================] - 0s 4ms/step - loss: 0.7232 - accuracy: 0.6482 - val_loss: 0.5925 - val_accuracy: 0.6875\n",
      "Epoch 5/100\n",
      "20/20 [==============================] - 0s 4ms/step - loss: 0.6920 - accuracy: 0.6517 - val_loss: 0.6122 - val_accuracy: 0.6875\n",
      "Epoch 6/100\n",
      "20/20 [==============================] - 0s 4ms/step - loss: 0.5957 - accuracy: 0.7049 - val_loss: 0.6214 - val_accuracy: 0.6562\n",
      "Epoch 7/100\n",
      "20/20 [==============================] - 0s 4ms/step - loss: 0.6199 - accuracy: 0.6884 - val_loss: 0.5914 - val_accuracy: 0.6914\n",
      "Epoch 8/100\n",
      "20/20 [==============================] - 0s 4ms/step - loss: 0.5991 - accuracy: 0.7271 - val_loss: 0.5853 - val_accuracy: 0.6914\n",
      "Epoch 9/100\n",
      "20/20 [==============================] - 0s 4ms/step - loss: 0.5930 - accuracy: 0.6923 - val_loss: 0.5932 - val_accuracy: 0.7031\n",
      "Epoch 10/100\n",
      "20/20 [==============================] - 0s 4ms/step - loss: 0.6048 - accuracy: 0.7039 - val_loss: 0.5873 - val_accuracy: 0.6836\n",
      "Epoch 11/100\n",
      "20/20 [==============================] - 0s 4ms/step - loss: 0.5744 - accuracy: 0.6785 - val_loss: 0.6042 - val_accuracy: 0.6992\n",
      "Epoch 12/100\n",
      "20/20 [==============================] - 0s 4ms/step - loss: 0.5961 - accuracy: 0.6459 - val_loss: 0.5980 - val_accuracy: 0.6914\n",
      "Epoch 13/100\n",
      "20/20 [==============================] - 0s 4ms/step - loss: 0.5807 - accuracy: 0.7042 - val_loss: 0.5813 - val_accuracy: 0.6914\n",
      "Epoch 14/100\n",
      "20/20 [==============================] - 0s 4ms/step - loss: 0.6001 - accuracy: 0.6842 - val_loss: 0.5787 - val_accuracy: 0.6914\n",
      "Epoch 15/100\n",
      "20/20 [==============================] - 0s 5ms/step - loss: 0.5827 - accuracy: 0.7021 - val_loss: 0.6015 - val_accuracy: 0.6562\n",
      "Epoch 16/100\n",
      "20/20 [==============================] - 0s 4ms/step - loss: 0.5878 - accuracy: 0.6644 - val_loss: 0.5881 - val_accuracy: 0.6406\n",
      "Epoch 17/100\n",
      "20/20 [==============================] - 0s 4ms/step - loss: 0.5762 - accuracy: 0.6870 - val_loss: 0.5807 - val_accuracy: 0.6875\n",
      "Epoch 18/100\n",
      "20/20 [==============================] - 0s 3ms/step - loss: 0.5843 - accuracy: 0.7045 - val_loss: 0.5690 - val_accuracy: 0.6797\n",
      "Epoch 19/100\n",
      "20/20 [==============================] - 0s 4ms/step - loss: 0.5766 - accuracy: 0.7174 - val_loss: 0.5663 - val_accuracy: 0.7031\n",
      "Epoch 20/100\n",
      "20/20 [==============================] - 0s 5ms/step - loss: 0.5728 - accuracy: 0.7129 - val_loss: 0.5913 - val_accuracy: 0.6758\n",
      "Epoch 21/100\n",
      "20/20 [==============================] - 0s 4ms/step - loss: 0.5933 - accuracy: 0.7104 - val_loss: 0.5693 - val_accuracy: 0.6914\n",
      "Epoch 22/100\n",
      "20/20 [==============================] - 0s 4ms/step - loss: 0.5491 - accuracy: 0.7386 - val_loss: 0.5624 - val_accuracy: 0.6797\n",
      "Epoch 23/100\n",
      "20/20 [==============================] - 0s 4ms/step - loss: 0.5778 - accuracy: 0.7152 - val_loss: 0.5600 - val_accuracy: 0.6914\n",
      "Epoch 24/100\n",
      "20/20 [==============================] - 0s 4ms/step - loss: 0.5813 - accuracy: 0.7207 - val_loss: 0.5992 - val_accuracy: 0.6953\n",
      "Epoch 25/100\n",
      "20/20 [==============================] - 0s 4ms/step - loss: 0.5597 - accuracy: 0.7236 - val_loss: 0.6059 - val_accuracy: 0.6914\n",
      "Epoch 26/100\n",
      "20/20 [==============================] - 0s 4ms/step - loss: 0.5691 - accuracy: 0.6982 - val_loss: 0.6011 - val_accuracy: 0.6875\n",
      "Epoch 27/100\n",
      "20/20 [==============================] - 0s 4ms/step - loss: 0.5519 - accuracy: 0.7250 - val_loss: 0.6342 - val_accuracy: 0.6445\n",
      "Epoch 28/100\n",
      "20/20 [==============================] - 0s 3ms/step - loss: 0.5906 - accuracy: 0.6641 - val_loss: 0.5490 - val_accuracy: 0.6992\n",
      "Epoch 29/100\n",
      "20/20 [==============================] - 0s 4ms/step - loss: 0.5517 - accuracy: 0.7240 - val_loss: 0.6229 - val_accuracy: 0.6875\n",
      "Epoch 30/100\n",
      "20/20 [==============================] - 0s 4ms/step - loss: 0.5659 - accuracy: 0.7385 - val_loss: 0.5595 - val_accuracy: 0.7109\n",
      "Epoch 31/100\n",
      "20/20 [==============================] - 0s 4ms/step - loss: 0.5616 - accuracy: 0.7357 - val_loss: 0.5627 - val_accuracy: 0.7031\n",
      "Epoch 32/100\n",
      "20/20 [==============================] - 0s 5ms/step - loss: 0.5544 - accuracy: 0.7163 - val_loss: 0.5600 - val_accuracy: 0.7227\n",
      "Epoch 33/100\n",
      "20/20 [==============================] - 0s 3ms/step - loss: 0.5355 - accuracy: 0.7549 - val_loss: 0.5916 - val_accuracy: 0.6953\n",
      "Epoch 34/100\n",
      "20/20 [==============================] - 0s 4ms/step - loss: 0.5805 - accuracy: 0.7105 - val_loss: 0.5564 - val_accuracy: 0.7031\n",
      "Epoch 35/100\n",
      "20/20 [==============================] - 0s 4ms/step - loss: 0.5762 - accuracy: 0.7040 - val_loss: 0.5407 - val_accuracy: 0.6836\n",
      "Epoch 36/100\n",
      "20/20 [==============================] - 0s 4ms/step - loss: 0.5516 - accuracy: 0.7487 - val_loss: 0.5505 - val_accuracy: 0.6992\n",
      "Epoch 37/100\n",
      "20/20 [==============================] - 0s 4ms/step - loss: 0.5347 - accuracy: 0.7479 - val_loss: 0.5643 - val_accuracy: 0.6992\n",
      "Epoch 38/100\n",
      "20/20 [==============================] - 0s 4ms/step - loss: 0.5906 - accuracy: 0.6762 - val_loss: 0.5472 - val_accuracy: 0.7031\n",
      "Epoch 39/100\n",
      "20/20 [==============================] - 0s 4ms/step - loss: 0.5365 - accuracy: 0.7325 - val_loss: 0.5545 - val_accuracy: 0.6875\n",
      "Epoch 40/100\n",
      "20/20 [==============================] - 0s 4ms/step - loss: 0.5691 - accuracy: 0.6811 - val_loss: 0.5589 - val_accuracy: 0.6992\n",
      "Epoch 41/100\n",
      "20/20 [==============================] - 0s 3ms/step - loss: 0.5704 - accuracy: 0.6967 - val_loss: 0.5377 - val_accuracy: 0.6992\n",
      "Epoch 42/100\n",
      "20/20 [==============================] - 0s 4ms/step - loss: 0.5641 - accuracy: 0.7076 - val_loss: 0.5379 - val_accuracy: 0.6914\n",
      "Epoch 43/100\n",
      "20/20 [==============================] - 0s 4ms/step - loss: 0.5684 - accuracy: 0.7266 - val_loss: 0.5615 - val_accuracy: 0.7148\n",
      "Epoch 44/100\n",
      "20/20 [==============================] - 0s 4ms/step - loss: 0.5439 - accuracy: 0.7490 - val_loss: 0.5342 - val_accuracy: 0.7227\n",
      "Epoch 45/100\n",
      "20/20 [==============================] - 0s 4ms/step - loss: 0.5672 - accuracy: 0.7168 - val_loss: 0.6264 - val_accuracy: 0.6641\n",
      "Epoch 46/100\n",
      "20/20 [==============================] - 0s 4ms/step - loss: 0.5417 - accuracy: 0.7223 - val_loss: 0.5266 - val_accuracy: 0.7031\n",
      "Epoch 47/100\n",
      "20/20 [==============================] - 0s 4ms/step - loss: 0.5151 - accuracy: 0.7771 - val_loss: 0.5628 - val_accuracy: 0.6953\n",
      "Epoch 48/100\n",
      "20/20 [==============================] - 0s 4ms/step - loss: 0.5248 - accuracy: 0.7394 - val_loss: 0.5423 - val_accuracy: 0.6992\n",
      "Epoch 49/100\n",
      "20/20 [==============================] - 0s 3ms/step - loss: 0.5778 - accuracy: 0.6913 - val_loss: 0.5688 - val_accuracy: 0.6992\n",
      "Epoch 50/100\n",
      "20/20 [==============================] - 0s 4ms/step - loss: 0.5327 - accuracy: 0.7684 - val_loss: 0.5369 - val_accuracy: 0.7031\n",
      "Epoch 51/100\n",
      "20/20 [==============================] - 0s 4ms/step - loss: 0.5750 - accuracy: 0.6727 - val_loss: 0.5254 - val_accuracy: 0.7109\n",
      "Epoch 52/100\n",
      "20/20 [==============================] - 0s 4ms/step - loss: 0.5628 - accuracy: 0.7241 - val_loss: 0.5392 - val_accuracy: 0.7266\n",
      "Epoch 53/100\n",
      "20/20 [==============================] - 0s 4ms/step - loss: 0.5380 - accuracy: 0.7581 - val_loss: 0.5508 - val_accuracy: 0.7031\n",
      "Epoch 54/100\n",
      "20/20 [==============================] - 0s 4ms/step - loss: 0.5450 - accuracy: 0.7012 - val_loss: 0.5366 - val_accuracy: 0.7422\n",
      "Epoch 55/100\n",
      "20/20 [==============================] - 0s 4ms/step - loss: 0.5295 - accuracy: 0.7734 - val_loss: 0.5689 - val_accuracy: 0.7148\n",
      "Epoch 56/100\n",
      "20/20 [==============================] - 0s 4ms/step - loss: 0.5354 - accuracy: 0.7073 - val_loss: 0.5191 - val_accuracy: 0.6992\n",
      "Epoch 57/100\n",
      "20/20 [==============================] - 0s 5ms/step - loss: 0.5024 - accuracy: 0.7709 - val_loss: 0.5331 - val_accuracy: 0.7109\n",
      "Epoch 58/100\n",
      "20/20 [==============================] - 0s 4ms/step - loss: 0.5584 - accuracy: 0.7236 - val_loss: 0.5519 - val_accuracy: 0.7070\n"
     ]
    },
    {
     "name": "stdout",
     "output_type": "stream",
     "text": [
      "Epoch 59/100\n",
      "20/20 [==============================] - 0s 5ms/step - loss: 0.5613 - accuracy: 0.7113 - val_loss: 0.5892 - val_accuracy: 0.7070\n",
      "Epoch 60/100\n",
      "20/20 [==============================] - 0s 4ms/step - loss: 0.5338 - accuracy: 0.7251 - val_loss: 0.5195 - val_accuracy: 0.7617\n",
      "Epoch 61/100\n",
      "20/20 [==============================] - 0s 3ms/step - loss: 0.5590 - accuracy: 0.7198 - val_loss: 0.5454 - val_accuracy: 0.7305\n",
      "Epoch 62/100\n",
      "20/20 [==============================] - 0s 4ms/step - loss: 0.5535 - accuracy: 0.7548 - val_loss: 0.5749 - val_accuracy: 0.6445\n",
      "Epoch 63/100\n",
      "20/20 [==============================] - 0s 4ms/step - loss: 0.5381 - accuracy: 0.7611 - val_loss: 0.5158 - val_accuracy: 0.7109\n",
      "Epoch 64/100\n",
      "20/20 [==============================] - 0s 5ms/step - loss: 0.5317 - accuracy: 0.7421 - val_loss: 0.5663 - val_accuracy: 0.7383\n",
      "Epoch 65/100\n",
      "20/20 [==============================] - 0s 4ms/step - loss: 0.4844 - accuracy: 0.8017 - val_loss: 0.5138 - val_accuracy: 0.7227\n",
      "Epoch 66/100\n",
      "20/20 [==============================] - 0s 4ms/step - loss: 0.5818 - accuracy: 0.7169 - val_loss: 0.5290 - val_accuracy: 0.7109\n",
      "Epoch 67/100\n",
      "20/20 [==============================] - 0s 4ms/step - loss: 0.5222 - accuracy: 0.7311 - val_loss: 0.5147 - val_accuracy: 0.7461\n",
      "Epoch 68/100\n",
      "20/20 [==============================] - 0s 4ms/step - loss: 0.5258 - accuracy: 0.7731 - val_loss: 0.5627 - val_accuracy: 0.6719\n",
      "Epoch 69/100\n",
      "20/20 [==============================] - 0s 4ms/step - loss: 0.5140 - accuracy: 0.7722 - val_loss: 0.5145 - val_accuracy: 0.7461\n",
      "Epoch 70/100\n",
      "20/20 [==============================] - 0s 5ms/step - loss: 0.5217 - accuracy: 0.7613 - val_loss: 0.6382 - val_accuracy: 0.6797\n",
      "Epoch 71/100\n",
      "20/20 [==============================] - 0s 4ms/step - loss: 0.5478 - accuracy: 0.7333 - val_loss: 0.5157 - val_accuracy: 0.7188\n",
      "Epoch 72/100\n",
      "20/20 [==============================] - 0s 4ms/step - loss: 0.5071 - accuracy: 0.7593 - val_loss: 0.5139 - val_accuracy: 0.7188\n",
      "Epoch 73/100\n",
      "20/20 [==============================] - 0s 4ms/step - loss: 0.5259 - accuracy: 0.7523 - val_loss: 0.5465 - val_accuracy: 0.7070\n",
      "Epoch 74/100\n",
      "20/20 [==============================] - 0s 5ms/step - loss: 0.5484 - accuracy: 0.7404 - val_loss: 0.5113 - val_accuracy: 0.7227\n",
      "Epoch 75/100\n",
      "20/20 [==============================] - 0s 5ms/step - loss: 0.5027 - accuracy: 0.7515 - val_loss: 0.5109 - val_accuracy: 0.7344\n",
      "Epoch 76/100\n",
      "20/20 [==============================] - 0s 4ms/step - loss: 0.5239 - accuracy: 0.7460 - val_loss: 0.5214 - val_accuracy: 0.7344\n",
      "Epoch 77/100\n",
      "20/20 [==============================] - 0s 4ms/step - loss: 0.5303 - accuracy: 0.7606 - val_loss: 0.6003 - val_accuracy: 0.6211\n",
      "Epoch 78/100\n",
      "20/20 [==============================] - 0s 4ms/step - loss: 0.5492 - accuracy: 0.7291 - val_loss: 0.6286 - val_accuracy: 0.6914\n",
      "Epoch 79/100\n",
      "20/20 [==============================] - 0s 5ms/step - loss: 0.5580 - accuracy: 0.7294 - val_loss: 0.5107 - val_accuracy: 0.7539\n",
      "Epoch 80/100\n",
      "20/20 [==============================] - 0s 4ms/step - loss: 0.4841 - accuracy: 0.7703 - val_loss: 0.5275 - val_accuracy: 0.7383\n",
      "Epoch 81/100\n",
      "20/20 [==============================] - 0s 5ms/step - loss: 0.5545 - accuracy: 0.7628 - val_loss: 0.5206 - val_accuracy: 0.7109\n",
      "Epoch 82/100\n",
      "20/20 [==============================] - 0s 4ms/step - loss: 0.5006 - accuracy: 0.7430 - val_loss: 0.5582 - val_accuracy: 0.6719\n",
      "Epoch 83/100\n",
      "20/20 [==============================] - 0s 3ms/step - loss: 0.5080 - accuracy: 0.7591 - val_loss: 0.5298 - val_accuracy: 0.7188\n",
      "Epoch 84/100\n",
      "20/20 [==============================] - 0s 4ms/step - loss: 0.5078 - accuracy: 0.7276 - val_loss: 0.6279 - val_accuracy: 0.6992\n",
      "Epoch 85/100\n",
      "20/20 [==============================] - 0s 4ms/step - loss: 0.5501 - accuracy: 0.7159 - val_loss: 0.5027 - val_accuracy: 0.7539\n",
      "Epoch 86/100\n",
      "20/20 [==============================] - 0s 4ms/step - loss: 0.5194 - accuracy: 0.7949 - val_loss: 0.5101 - val_accuracy: 0.7344\n",
      "Epoch 87/100\n",
      "20/20 [==============================] - 0s 4ms/step - loss: 0.4786 - accuracy: 0.7981 - val_loss: 0.5180 - val_accuracy: 0.7383\n",
      "Epoch 88/100\n",
      "20/20 [==============================] - 0s 4ms/step - loss: 0.4880 - accuracy: 0.7694 - val_loss: 0.5268 - val_accuracy: 0.7188\n",
      "Epoch 89/100\n",
      "20/20 [==============================] - 0s 4ms/step - loss: 0.5123 - accuracy: 0.7604 - val_loss: 0.5147 - val_accuracy: 0.7422\n",
      "Epoch 90/100\n",
      "20/20 [==============================] - 0s 4ms/step - loss: 0.5176 - accuracy: 0.7739 - val_loss: 0.5449 - val_accuracy: 0.7266\n",
      "Epoch 91/100\n",
      "20/20 [==============================] - 0s 4ms/step - loss: 0.5304 - accuracy: 0.7466 - val_loss: 0.5156 - val_accuracy: 0.7344\n",
      "Epoch 92/100\n",
      "20/20 [==============================] - 0s 4ms/step - loss: 0.5359 - accuracy: 0.7846 - val_loss: 0.5458 - val_accuracy: 0.6797\n",
      "Epoch 93/100\n",
      "20/20 [==============================] - 0s 3ms/step - loss: 0.4787 - accuracy: 0.7853 - val_loss: 0.4944 - val_accuracy: 0.7422\n",
      "Epoch 94/100\n",
      "20/20 [==============================] - 0s 4ms/step - loss: 0.5207 - accuracy: 0.7470 - val_loss: 0.5143 - val_accuracy: 0.7461\n",
      "Epoch 95/100\n",
      "20/20 [==============================] - 0s 4ms/step - loss: 0.5349 - accuracy: 0.7455 - val_loss: 0.5036 - val_accuracy: 0.7578\n",
      "Epoch 96/100\n",
      "20/20 [==============================] - 0s 3ms/step - loss: 0.5263 - accuracy: 0.7868 - val_loss: 0.5445 - val_accuracy: 0.7227\n",
      "Epoch 97/100\n",
      "20/20 [==============================] - 0s 4ms/step - loss: 0.5094 - accuracy: 0.7813 - val_loss: 0.5033 - val_accuracy: 0.7305\n",
      "Epoch 98/100\n",
      "20/20 [==============================] - 0s 8ms/step - loss: 0.4928 - accuracy: 0.7579 - val_loss: 0.6363 - val_accuracy: 0.6719\n"
     ]
    },
    {
     "name": "stderr",
     "output_type": "stream",
     "text": [
      "W0817 13:49:44.559439 18836 training_generator.py:235] Your dataset ran out of data; interrupting training. Make sure that your dataset can generate at least `steps_per_epoch * epochs` batches (in this case, 2000 batches). You may need to use the repeat() function when building your dataset.\n"
     ]
    },
    {
     "name": "stdout",
     "output_type": "stream",
     "text": [
      "Epoch 99/100\n",
      "\r",
      " 0/20 [..............................] - ETA: 0s - loss: 0.0000e+00 - accuracy: 0.0000e+00 - val_loss: 0.0000e+00 - val_accuracy: 0.0000e+00"
     ]
    }
   ],
   "source": [
    "# 1、model.fit\n",
    "# 2、model -> estimator ->train\n",
    "\n",
    "train_dataset = make_dataset(train_df, y_train, epochs=100)\n",
    "eval_dateset = make_dataset(eval_df, y_eval, epochs=1,shuffle=False)\n",
    "history = model.fit(train_dataset,\n",
    "                    validation_data=eval_dateset,\n",
    "                    steps_per_epoch=20,\n",
    "                    validation_steps=8,\n",
    "                    epochs=100\n",
    "\n",
    ")"
   ]
  },
  {
   "cell_type": "code",
   "execution_count": 31,
   "metadata": {},
   "outputs": [
    {
     "name": "stderr",
     "output_type": "stream",
     "text": [
      "W0817 13:56:51.772914 18836 estimator.py:1811] Using temporary folder as model directory: C:\\Users\\段云琦\\AppData\\Local\\Temp\\tmpm9brb5rs\n",
      "W0817 13:56:51.774909 18836 keras.py:564] You are creating an Estimator from a Keras model manually subclassed from `Model`, that was already called on some inputs (and thus already had weights). We are currently unable to preserve the model's state (its weights) as part of the estimator in this case. Be warned that the estimator has been created using a freshly initialized version of your model.\n",
      "Note that this doesn't affect the state of the model instance you passed as `keras_model` argument.\n"
     ]
    },
    {
     "ename": "KeyError",
     "evalue": "\"The dictionary passed into features does not have the expected inputs keys defined in the keras model.\\n\\tExpected keys: {'input_2', 'input_1', 'input_6', 'input_9', 'input_7', 'input_8', 'input_3', 'input_4', 'input_5'}\\n\\tfeatures keys: {'age', 'fare', 'n_siblings_spouses', 'deck', 'sex', 'alone', 'embark_town', 'class', 'parch'}\\n\\tDifference: {'age', 'input_2', 'fare', 'n_siblings_spouses', 'deck', 'input_1', 'input_6', 'input_9', 'input_7', 'sex', 'alone', 'input_8', 'embark_town', 'input_3', 'input_4', 'class', 'parch', 'input_5'}\"",
     "output_type": "error",
     "traceback": [
      "\u001b[1;31m---------------------------------------------------------------------------\u001b[0m",
      "\u001b[1;31mKeyError\u001b[0m                                  Traceback (most recent call last)",
      "\u001b[1;32m<ipython-input-31-2ff2d6aa9a5e>\u001b[0m in \u001b[0;36m<module>\u001b[1;34m()\u001b[0m\n\u001b[0;32m      5\u001b[0m \u001b[1;31m# 函数返回（features，labels）组成的元组，features、labels可以是列表，也可以是numpy数组\u001b[0m\u001b[1;33m\u001b[0m\u001b[1;33m\u001b[0m\u001b[0m\n\u001b[0;32m      6\u001b[0m \u001b[1;31m# 也可以返回一个dataset，dataset->(feature,label)\u001b[0m\u001b[1;33m\u001b[0m\u001b[1;33m\u001b[0m\u001b[0m\n\u001b[1;32m----> 7\u001b[1;33m estimator.train(input_fn=lambda:make_dataset(\n\u001b[0m\u001b[0;32m      8\u001b[0m     train_df,y_train,epochs=100))\n",
      "\u001b[1;32mD:\\SoftWare\\Anaconda3\\lib\\site-packages\\tensorflow_estimator\\python\\estimator\\estimator.py\u001b[0m in \u001b[0;36mtrain\u001b[1;34m(self, input_fn, hooks, steps, max_steps, saving_listeners)\u001b[0m\n\u001b[0;32m    365\u001b[0m \u001b[1;33m\u001b[0m\u001b[0m\n\u001b[0;32m    366\u001b[0m       \u001b[0msaving_listeners\u001b[0m \u001b[1;33m=\u001b[0m \u001b[0m_check_listeners_type\u001b[0m\u001b[1;33m(\u001b[0m\u001b[0msaving_listeners\u001b[0m\u001b[1;33m)\u001b[0m\u001b[1;33m\u001b[0m\u001b[0m\n\u001b[1;32m--> 367\u001b[1;33m       \u001b[0mloss\u001b[0m \u001b[1;33m=\u001b[0m \u001b[0mself\u001b[0m\u001b[1;33m.\u001b[0m\u001b[0m_train_model\u001b[0m\u001b[1;33m(\u001b[0m\u001b[0minput_fn\u001b[0m\u001b[1;33m,\u001b[0m \u001b[0mhooks\u001b[0m\u001b[1;33m,\u001b[0m \u001b[0msaving_listeners\u001b[0m\u001b[1;33m)\u001b[0m\u001b[1;33m\u001b[0m\u001b[0m\n\u001b[0m\u001b[0;32m    368\u001b[0m       \u001b[0mlogging\u001b[0m\u001b[1;33m.\u001b[0m\u001b[0minfo\u001b[0m\u001b[1;33m(\u001b[0m\u001b[1;34m'Loss for final step: %s.'\u001b[0m\u001b[1;33m,\u001b[0m \u001b[0mloss\u001b[0m\u001b[1;33m)\u001b[0m\u001b[1;33m\u001b[0m\u001b[0m\n\u001b[0;32m    369\u001b[0m       \u001b[1;32mreturn\u001b[0m \u001b[0mself\u001b[0m\u001b[1;33m\u001b[0m\u001b[0m\n",
      "\u001b[1;32mD:\\SoftWare\\Anaconda3\\lib\\site-packages\\tensorflow_estimator\\python\\estimator\\estimator.py\u001b[0m in \u001b[0;36m_train_model\u001b[1;34m(self, input_fn, hooks, saving_listeners)\u001b[0m\n\u001b[0;32m   1156\u001b[0m       \u001b[1;32mreturn\u001b[0m \u001b[0mself\u001b[0m\u001b[1;33m.\u001b[0m\u001b[0m_train_model_distributed\u001b[0m\u001b[1;33m(\u001b[0m\u001b[0minput_fn\u001b[0m\u001b[1;33m,\u001b[0m \u001b[0mhooks\u001b[0m\u001b[1;33m,\u001b[0m \u001b[0msaving_listeners\u001b[0m\u001b[1;33m)\u001b[0m\u001b[1;33m\u001b[0m\u001b[0m\n\u001b[0;32m   1157\u001b[0m     \u001b[1;32melse\u001b[0m\u001b[1;33m:\u001b[0m\u001b[1;33m\u001b[0m\u001b[0m\n\u001b[1;32m-> 1158\u001b[1;33m       \u001b[1;32mreturn\u001b[0m \u001b[0mself\u001b[0m\u001b[1;33m.\u001b[0m\u001b[0m_train_model_default\u001b[0m\u001b[1;33m(\u001b[0m\u001b[0minput_fn\u001b[0m\u001b[1;33m,\u001b[0m \u001b[0mhooks\u001b[0m\u001b[1;33m,\u001b[0m \u001b[0msaving_listeners\u001b[0m\u001b[1;33m)\u001b[0m\u001b[1;33m\u001b[0m\u001b[0m\n\u001b[0m\u001b[0;32m   1159\u001b[0m \u001b[1;33m\u001b[0m\u001b[0m\n\u001b[0;32m   1160\u001b[0m   \u001b[1;32mdef\u001b[0m \u001b[0m_train_model_default\u001b[0m\u001b[1;33m(\u001b[0m\u001b[0mself\u001b[0m\u001b[1;33m,\u001b[0m \u001b[0minput_fn\u001b[0m\u001b[1;33m,\u001b[0m \u001b[0mhooks\u001b[0m\u001b[1;33m,\u001b[0m \u001b[0msaving_listeners\u001b[0m\u001b[1;33m)\u001b[0m\u001b[1;33m:\u001b[0m\u001b[1;33m\u001b[0m\u001b[0m\n",
      "\u001b[1;32mD:\\SoftWare\\Anaconda3\\lib\\site-packages\\tensorflow_estimator\\python\\estimator\\estimator.py\u001b[0m in \u001b[0;36m_train_model_default\u001b[1;34m(self, input_fn, hooks, saving_listeners)\u001b[0m\n\u001b[0;32m   1186\u001b[0m       \u001b[0mworker_hooks\u001b[0m\u001b[1;33m.\u001b[0m\u001b[0mextend\u001b[0m\u001b[1;33m(\u001b[0m\u001b[0minput_hooks\u001b[0m\u001b[1;33m)\u001b[0m\u001b[1;33m\u001b[0m\u001b[0m\n\u001b[0;32m   1187\u001b[0m       estimator_spec = self._call_model_fn(\n\u001b[1;32m-> 1188\u001b[1;33m           features, labels, ModeKeys.TRAIN, self.config)\n\u001b[0m\u001b[0;32m   1189\u001b[0m       \u001b[0mglobal_step_tensor\u001b[0m \u001b[1;33m=\u001b[0m \u001b[0mtraining_util\u001b[0m\u001b[1;33m.\u001b[0m\u001b[0mget_global_step\u001b[0m\u001b[1;33m(\u001b[0m\u001b[0mg\u001b[0m\u001b[1;33m)\u001b[0m\u001b[1;33m\u001b[0m\u001b[0m\n\u001b[0;32m   1190\u001b[0m       return self._train_with_estimator_spec(estimator_spec, worker_hooks,\n",
      "\u001b[1;32mD:\\SoftWare\\Anaconda3\\lib\\site-packages\\tensorflow_estimator\\python\\estimator\\estimator.py\u001b[0m in \u001b[0;36m_call_model_fn\u001b[1;34m(self, features, labels, mode, config)\u001b[0m\n\u001b[0;32m   1144\u001b[0m \u001b[1;33m\u001b[0m\u001b[0m\n\u001b[0;32m   1145\u001b[0m     \u001b[0mlogging\u001b[0m\u001b[1;33m.\u001b[0m\u001b[0minfo\u001b[0m\u001b[1;33m(\u001b[0m\u001b[1;34m'Calling model_fn.'\u001b[0m\u001b[1;33m)\u001b[0m\u001b[1;33m\u001b[0m\u001b[0m\n\u001b[1;32m-> 1146\u001b[1;33m     \u001b[0mmodel_fn_results\u001b[0m \u001b[1;33m=\u001b[0m \u001b[0mself\u001b[0m\u001b[1;33m.\u001b[0m\u001b[0m_model_fn\u001b[0m\u001b[1;33m(\u001b[0m\u001b[0mfeatures\u001b[0m\u001b[1;33m=\u001b[0m\u001b[0mfeatures\u001b[0m\u001b[1;33m,\u001b[0m \u001b[1;33m**\u001b[0m\u001b[0mkwargs\u001b[0m\u001b[1;33m)\u001b[0m\u001b[1;33m\u001b[0m\u001b[0m\n\u001b[0m\u001b[0;32m   1147\u001b[0m     \u001b[0mlogging\u001b[0m\u001b[1;33m.\u001b[0m\u001b[0minfo\u001b[0m\u001b[1;33m(\u001b[0m\u001b[1;34m'Done calling model_fn.'\u001b[0m\u001b[1;33m)\u001b[0m\u001b[1;33m\u001b[0m\u001b[0m\n\u001b[0;32m   1148\u001b[0m \u001b[1;33m\u001b[0m\u001b[0m\n",
      "\u001b[1;32mD:\\SoftWare\\Anaconda3\\lib\\site-packages\\tensorflow_estimator\\python\\estimator\\keras.py\u001b[0m in \u001b[0;36mmodel_fn\u001b[1;34m(features, labels, mode)\u001b[0m\n\u001b[0;32m    283\u001b[0m         \u001b[0mfeatures\u001b[0m\u001b[1;33m=\u001b[0m\u001b[0mfeatures\u001b[0m\u001b[1;33m,\u001b[0m\u001b[1;33m\u001b[0m\u001b[0m\n\u001b[0;32m    284\u001b[0m         \u001b[0mlabels\u001b[0m\u001b[1;33m=\u001b[0m\u001b[0mlabels\u001b[0m\u001b[1;33m,\u001b[0m\u001b[1;33m\u001b[0m\u001b[0m\n\u001b[1;32m--> 285\u001b[1;33m         optimizer_config=optimizer_config)\n\u001b[0m\u001b[0;32m    286\u001b[0m     \u001b[0mmodel_output_names\u001b[0m \u001b[1;33m=\u001b[0m \u001b[1;33m[\u001b[0m\u001b[1;33m]\u001b[0m\u001b[1;33m\u001b[0m\u001b[0m\n\u001b[0;32m    287\u001b[0m     \u001b[1;31m# We need to make sure that the output names of the last layer in the model\u001b[0m\u001b[1;33m\u001b[0m\u001b[1;33m\u001b[0m\u001b[0m\n",
      "\u001b[1;32mD:\\SoftWare\\Anaconda3\\lib\\site-packages\\tensorflow_estimator\\python\\estimator\\keras.py\u001b[0m in \u001b[0;36m_clone_and_build_model\u001b[1;34m(mode, keras_model, custom_objects, features, labels, optimizer_config)\u001b[0m\n\u001b[0;32m    205\u001b[0m   \u001b[0mK\u001b[0m\u001b[1;33m.\u001b[0m\u001b[0mset_learning_phase\u001b[0m\u001b[1;33m(\u001b[0m\u001b[0mmode\u001b[0m \u001b[1;33m==\u001b[0m \u001b[0mModeKeys\u001b[0m\u001b[1;33m.\u001b[0m\u001b[0mTRAIN\u001b[0m\u001b[1;33m)\u001b[0m\u001b[1;33m\u001b[0m\u001b[0m\n\u001b[0;32m    206\u001b[0m   input_tensors, target_tensors, sample_weight_tensors = (\n\u001b[1;32m--> 207\u001b[1;33m       _convert_estimator_io_to_keras(keras_model, features, labels))\n\u001b[0m\u001b[0;32m    208\u001b[0m \u001b[1;33m\u001b[0m\u001b[0m\n\u001b[0;32m    209\u001b[0m   \u001b[0mcompile_clone\u001b[0m \u001b[1;33m=\u001b[0m \u001b[1;33m(\u001b[0m\u001b[0mmode\u001b[0m \u001b[1;33m!=\u001b[0m \u001b[0mModeKeys\u001b[0m\u001b[1;33m.\u001b[0m\u001b[0mPREDICT\u001b[0m\u001b[1;33m)\u001b[0m\u001b[1;33m\u001b[0m\u001b[0m\n",
      "\u001b[1;32mD:\\SoftWare\\Anaconda3\\lib\\site-packages\\tensorflow_estimator\\python\\estimator\\keras.py\u001b[0m in \u001b[0;36m_convert_estimator_io_to_keras\u001b[1;34m(keras_model, features, labels)\u001b[0m\n\u001b[0;32m    161\u001b[0m \u001b[1;33m\u001b[0m\u001b[0m\n\u001b[0;32m    162\u001b[0m   input_tensors = _to_ordered_tensor_list(\n\u001b[1;32m--> 163\u001b[1;33m       features, input_names, 'features', 'inputs')\n\u001b[0m\u001b[0;32m    164\u001b[0m   target_tensors = _to_ordered_tensor_list(\n\u001b[0;32m    165\u001b[0m       labels, output_names, 'labels', 'outputs')\n",
      "\u001b[1;32mD:\\SoftWare\\Anaconda3\\lib\\site-packages\\tensorflow_estimator\\python\\estimator\\keras.py\u001b[0m in \u001b[0;36m_to_ordered_tensor_list\u001b[1;34m(obj, key_order, obj_name, order_name)\u001b[0m\n\u001b[0;32m    142\u001b[0m                 \u001b[0morder_name\u001b[0m\u001b[1;33m=\u001b[0m\u001b[0morder_name\u001b[0m\u001b[1;33m,\u001b[0m \u001b[0morder_keys\u001b[0m\u001b[1;33m=\u001b[0m\u001b[0mset\u001b[0m\u001b[1;33m(\u001b[0m\u001b[0mkey_order\u001b[0m\u001b[1;33m)\u001b[0m\u001b[1;33m,\u001b[0m\u001b[1;33m\u001b[0m\u001b[0m\n\u001b[0;32m    143\u001b[0m                 \u001b[0mobj_name\u001b[0m\u001b[1;33m=\u001b[0m\u001b[0mobj_name\u001b[0m\u001b[1;33m,\u001b[0m \u001b[0mobj_keys\u001b[0m\u001b[1;33m=\u001b[0m\u001b[0mset\u001b[0m\u001b[1;33m(\u001b[0m\u001b[0mobj\u001b[0m\u001b[1;33m.\u001b[0m\u001b[0mkeys\u001b[0m\u001b[1;33m(\u001b[0m\u001b[1;33m)\u001b[0m\u001b[1;33m)\u001b[0m\u001b[1;33m,\u001b[0m\u001b[1;33m\u001b[0m\u001b[0m\n\u001b[1;32m--> 144\u001b[1;33m                 different_keys=different_keys))\n\u001b[0m\u001b[0;32m    145\u001b[0m \u001b[1;33m\u001b[0m\u001b[0m\n\u001b[0;32m    146\u001b[0m       \u001b[1;32mreturn\u001b[0m \u001b[1;33m[\u001b[0m\u001b[0m_convert_tensor\u001b[0m\u001b[1;33m(\u001b[0m\u001b[0mobj\u001b[0m\u001b[1;33m[\u001b[0m\u001b[0mkey\u001b[0m\u001b[1;33m]\u001b[0m\u001b[1;33m)\u001b[0m \u001b[1;32mfor\u001b[0m \u001b[0mkey\u001b[0m \u001b[1;32min\u001b[0m \u001b[0mkey_order\u001b[0m\u001b[1;33m]\u001b[0m\u001b[1;33m\u001b[0m\u001b[0m\n",
      "\u001b[1;31mKeyError\u001b[0m: \"The dictionary passed into features does not have the expected inputs keys defined in the keras model.\\n\\tExpected keys: {'input_2', 'input_1', 'input_6', 'input_9', 'input_7', 'input_8', 'input_3', 'input_4', 'input_5'}\\n\\tfeatures keys: {'age', 'fare', 'n_siblings_spouses', 'deck', 'sex', 'alone', 'embark_town', 'class', 'parch'}\\n\\tDifference: {'age', 'input_2', 'fare', 'n_siblings_spouses', 'deck', 'input_1', 'input_6', 'input_9', 'input_7', 'sex', 'alone', 'input_8', 'embark_town', 'input_3', 'input_4', 'class', 'parch', 'input_5'}\""
     ]
    }
   ],
   "source": [
    "# 将keras模型转为estimator\n",
    "estimator = keras.estimator.model_to_estimator(model)\n",
    "# estimator训练模型,\n",
    "# 参数input_fn是一个函数，可以是具体函数，也可以是lambda生成的匿名函数，\n",
    "# 函数返回（features，labels）组成的元组，features、labels可以是列表，也可以是numpy数组\n",
    "# 也可以返回一个dataset，dataset->(feature,label)\n",
    "estimator.train(input_fn=lambda:make_dataset(\n",
    "    train_df,y_train,epochs=100))\n",
    "# 报错，tensorflow2.0的框架bug"
   ]
  },
  {
   "cell_type": "code",
   "execution_count": null,
   "metadata": {},
   "outputs": [],
   "source": []
  }
 ],
 "metadata": {
  "kernelspec": {
   "display_name": "Python 3",
   "language": "python",
   "name": "python3"
  },
  "language_info": {
   "codemirror_mode": {
    "name": "ipython",
    "version": 3
   },
   "file_extension": ".py",
   "mimetype": "text/x-python",
   "name": "python",
   "nbconvert_exporter": "python",
   "pygments_lexer": "ipython3",
   "version": "3.7.0"
  }
 },
 "nbformat": 4,
 "nbformat_minor": 2
}
